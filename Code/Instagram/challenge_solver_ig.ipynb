{
 "cells": [
  {
   "cell_type": "code",
   "execution_count": 34,
   "metadata": {},
   "outputs": [],
   "source": [
    "from instagrapi import Client\n",
    "from instagrapi.mixins.challenge import ChallengeChoice\n",
    "from datetime import date\n",
    "\n",
    "import time\n",
    "import numpy as np"
   ]
  },
  {
   "cell_type": "code",
   "execution_count": 35,
   "metadata": {},
   "outputs": [],
   "source": [
    "import email\n",
    "import imaplib\n",
    "import re\n",
    "import random"
   ]
  },
  {
   "cell_type": "code",
   "execution_count": 39,
   "metadata": {},
   "outputs": [],
   "source": [
    "CHALLENGE_EMAIL = \"samanthaoakley202212@gmail.com\"\n",
    "CHALLENGE_PASSWORD = \"tsgvcspxtnbojamx\" \n",
    "\n",
    "def get_code_from_email(username):\n",
    "    mail = imaplib.IMAP4_SSL(\"imap.gmail.com\")\n",
    "    mail.login(CHALLENGE_EMAIL, CHALLENGE_PASSWORD)\n",
    "    mail.select(\"inbox\")\n",
    "    result, data = mail.search(None, \"(UNSEEN)\")\n",
    "    print(result)\n",
    "    assert result == \"OK\", \"Error1 during get_code_from_email: %s\" % result\n",
    "    ids = data.pop().split()\n",
    "    for num in reversed(ids):\n",
    "        mail.store(num, \"+FLAGS\", \"\\\\Seen\")  # mark as read\n",
    "        result, data = mail.fetch(num, \"(RFC822)\")\n",
    "        \n",
    "        assert result == \"OK\", \"Error2 during get_code_from_email: %s\" % result\n",
    "        msg = email.message_from_string(data[0][1].decode())\n",
    "        payloads = msg.get_payload()\n",
    "        if not isinstance(payloads, list):\n",
    "            payloads = [msg]\n",
    "        code = None\n",
    "        for payload in payloads:\n",
    "            body = payload.get_payload(decode=True).decode()\n",
    "            if \"<div\" not in body:\n",
    "                continue\n",
    "            match = re.search(\">([^>]*?({u})[^<]*?)<\".format(u=username), body)\n",
    "            if not match:\n",
    "                continue\n",
    "            print(\"Match from email:\", match.group(1))\n",
    "            match = re.search(r\">(\\d{6})<\", body)\n",
    "            if not match:\n",
    "                print('Skip this email, \"code\" not found')\n",
    "                continue\n",
    "            code = match.group(1)\n",
    "            if code:\n",
    "                return code\n",
    "    return False\n",
    "\n",
    "def challenge_code_handler(username, choice):\n",
    "    if choice == ChallengeChoice.EMAIL:\n",
    "        print(\"FFF\")\n",
    "        return get_code_from_email(username)\n",
    "    return False"
   ]
  },
  {
   "cell_type": "code",
   "execution_count": 40,
   "metadata": {},
   "outputs": [
    {
     "data": {
      "text/plain": [
       "True"
      ]
     },
     "execution_count": 40,
     "metadata": {},
     "output_type": "execute_result"
    }
   ],
   "source": [
    "# cl.login(\"clyde_donovan_2022\", \"clyde_donovan_2022_\")\n",
    "# cl.login(\"chrismiller202212\", \"1OE0t5@Po9*z_\")\n",
    "\n",
    "IG_USERNAME = \"samanthaoakley202212\"\n",
    "IG_PASSWORD = \"1OE0t5@Po9*z\"\n",
    "\n",
    "cl = Client()\n",
    "cl.challenge_code_handler = challenge_code_handler\n",
    "cl.login(IG_USERNAME, IG_PASSWORD)\n",
    "\n",
    "# user_name = \"shakira\"\n",
    "# max_posts = 5\n",
    "\n",
    "# user_id = cl.user_id_from_username(user_name)\n",
    "# posts = cl.user_medias(user_id, max_posts)\n",
    "# user_information = cl.user_info(user_id)\n"
   ]
  },
  {
   "cell_type": "code",
   "execution_count": 41,
   "metadata": {},
   "outputs": [],
   "source": [
    "user_name = \"shakira\"\n",
    "max_posts = 5\n",
    "\n",
    "user_id = cl.user_id_from_username(user_name)\n",
    "posts = cl.user_medias(user_id, max_posts)\n",
    "user_information = cl.user_info(user_id)\n"
   ]
  },
  {
   "cell_type": "code",
   "execution_count": 31,
   "metadata": {},
   "outputs": [],
   "source": [
    "CHALLENGE_EMAIL = \"samanthaoakley202212@gmail.com\"\n",
    "CHALLENGE_PASSWORD = \"tsgvcspxtnbojamx\" "
   ]
  },
  {
   "cell_type": "code",
   "execution_count": 32,
   "metadata": {},
   "outputs": [],
   "source": [
    "mail = imaplib.IMAP4_SSL(\"imap.gmail.com\")\n",
    "mail.login(CHALLENGE_EMAIL, CHALLENGE_PASSWORD)\n",
    "mail.select(\"inbox\")\n",
    "result, data = mail.search(None, \"(UNSEEN)\")"
   ]
  },
  {
   "cell_type": "code",
   "execution_count": 33,
   "metadata": {},
   "outputs": [
    {
     "data": {
      "text/plain": [
       "'OK'"
      ]
     },
     "execution_count": 33,
     "metadata": {},
     "output_type": "execute_result"
    }
   ],
   "source": [
    "result"
   ]
  },
  {
   "cell_type": "code",
   "execution_count": null,
   "metadata": {},
   "outputs": [],
   "source": [
    "CHALLENGE_EMAIL = \"chrismiller202212@gmail.com\"\n",
    "CHALLENGE_PASSWORD = \"1OE0t5@Po9*z\" \n",
    "\n",
    "def get_code_from_email(username):\n",
    "    mail = imaplib.IMAP4_SSL(\"imap.gmail.com\")\n",
    "    mail.login(CHALLENGE_EMAIL, CHALLENGE_PASSWORD)\n",
    "    mail.select(\"inbox\")\n",
    "    result, data = mail.search(None, \"(UNSEEN)\")\n",
    "    print(result)\n",
    "    assert result == \"OK\", \"Error1 during get_code_from_email: %s\" % result\n",
    "    ids = data.pop().split()\n",
    "    for num in reversed(ids):\n",
    "        mail.store(num, \"+FLAGS\", \"\\\\Seen\")  # mark as read\n",
    "        result, data = mail.fetch(num, \"(RFC822)\")\n",
    "        \n",
    "        assert result == \"OK\", \"Error2 during get_code_from_email: %s\" % result\n",
    "        msg = email.message_from_string(data[0][1].decode())\n",
    "        payloads = msg.get_payload()\n",
    "        if not isinstance(payloads, list):\n",
    "            payloads = [msg]\n",
    "        code = None\n",
    "        for payload in payloads:\n",
    "            body = payload.get_payload(decode=True).decode()\n",
    "            if \"<div\" not in body:\n",
    "                continue\n",
    "            match = re.search(\">([^>]*?({u})[^<]*?)<\".format(u=username), body)\n",
    "            if not match:\n",
    "                continue\n",
    "            print(\"Match from email:\", match.group(1))\n",
    "            match = re.search(r\">(\\d{6})<\", body)\n",
    "            if not match:\n",
    "                print('Skip this email, \"code\" not found')\n",
    "                continue\n",
    "            code = match.group(1)\n",
    "            if code:\n",
    "                return code\n",
    "    return False"
   ]
  }
 ],
 "metadata": {
  "kernelspec": {
   "display_name": "Python 3.10.5 ('vertikal': venv)",
   "language": "python",
   "name": "python3"
  },
  "language_info": {
   "codemirror_mode": {
    "name": "ipython",
    "version": 3
   },
   "file_extension": ".py",
   "mimetype": "text/x-python",
   "name": "python",
   "nbconvert_exporter": "python",
   "pygments_lexer": "ipython3",
   "version": "3.10.5"
  },
  "orig_nbformat": 4,
  "vscode": {
   "interpreter": {
    "hash": "e913dea22872b8422dde9c26cf8e26d36f88ecb032e643571cad571865b2a70d"
   }
  }
 },
 "nbformat": 4,
 "nbformat_minor": 2
}
