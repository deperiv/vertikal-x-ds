{
 "cells": [
  {
   "cell_type": "markdown",
   "metadata": {},
   "source": [
    "# Instagram API testing"
   ]
  },
  {
   "cell_type": "markdown",
   "metadata": {},
   "source": [
    "### Data we need to retrieve given a user profile\n",
    "\n",
    "1. Number of followers\n",
    "2. Number of posts\n",
    "\n",
    "For each post:\n",
    "\n",
    "3. Number of comments\n",
    "4. Number of likes\n",
    "5. Post caption\n",
    "6. Post comments text\n",
    "\n",
    "Gather all the data for future SPI computation\n",
    "\n",
    "The API has some limitations:\n",
    "* There is a rate limit of 200req/hour. Going beyond will break the Instagram Private API (i.e. will block our account)\n",
    "\n",
    "It would be nice to create several IG accounts and parallelize the job. That way, the job will be done more efficiently and we will\n",
    "not expose ourselves to be blocked that much."
   ]
  },
  {
   "cell_type": "code",
   "execution_count": 1,
   "metadata": {},
   "outputs": [
    {
     "name": "stdout",
     "output_type": "stream",
     "text": [
      "Number of users processed by minute: 0.416667 in order not to be blocked by IG\n",
      "Delay between users information retrieval: 2.400000 min in order not to be blocked by IG\n"
     ]
    }
   ],
   "source": [
    "n_posts = 5\n",
    "print(\"Number of users processed by minute: {0:1f} in order not to be blocked by IG\".format(200/((3+n_posts)*60)))\n",
    "print(\"Delay between users information retrieval: {0:1f} min in order not to be blocked by IG\".format(1/(200/((3+n_posts)*60))))"
   ]
  },
  {
   "cell_type": "code",
   "execution_count": 2,
   "metadata": {},
   "outputs": [],
   "source": [
    "from instagrapi import Client\n",
    "from datetime import date\n",
    "\n",
    "import time\n",
    "import numpy as np\n",
    "\n",
    "cl = Client()\n",
    "# cl.login(\"clyde_donovan_2022\", \"clyde_donovan_2022_\")\n",
    "cl.login(\"chrismiller202212\", \"1OE0t5@Po9*z_\")\n",
    "\n",
    "user_name = \"shakira\"\n",
    "max_posts = 5\n",
    "\n",
    "user_id = cl.user_id_from_username(user_name)\n",
    "posts = cl.user_medias(user_id, max_posts)\n",
    "user_information = cl.user_info(user_id)\n",
    "\n",
    "time.sleep(60)"
   ]
  },
  {
   "cell_type": "markdown",
   "metadata": {},
   "source": [
    "1. Get the number of followers and 2. the number of posts"
   ]
  },
  {
   "cell_type": "code",
   "execution_count": 4,
   "metadata": {},
   "outputs": [],
   "source": [
    "n_followers = user_information.follower_count\n",
    "n_following = user_information.following_count\n",
    "n_posts = user_information.media_count"
   ]
  },
  {
   "cell_type": "markdown",
   "metadata": {},
   "source": [
    "For each post get the 3. number of comments, 4. number of likes, 5. caption, 6. comments text"
   ]
  },
  {
   "cell_type": "code",
   "execution_count": 5,
   "metadata": {},
   "outputs": [],
   "source": [
    "def extract_text(comment):\n",
    "    comments_text_ls = []\n",
    "    if len(comment[0]) != 0:\n",
    "        comments_text_ls = [comment.text for comment in comment[0]]\n",
    "    return comments_text_ls"
   ]
  },
  {
   "cell_type": "code",
   "execution_count": 6,
   "metadata": {},
   "outputs": [],
   "source": [
    "# Looks like max_comments does nothing in media_comments_chunk()\n",
    "max_comments = 5\n",
    "\n",
    "posts_info = {}\n",
    "for post in posts:\n",
    "    posts_info[post.id] = {\n",
    "                            \"n_comments\": post.comment_count, \n",
    "                            \"n_likes\": post.like_count, \n",
    "                            \"caption\": post.caption_text, \n",
    "                            \"comments_text\": extract_text(cl.media_comments_chunk(post.id, max_amount=max_comments))\n",
    "                          }                        "
   ]
  },
  {
   "cell_type": "markdown",
   "metadata": {},
   "source": [
    "Gather all the data for future SPI computation"
   ]
  },
  {
   "cell_type": "code",
   "execution_count": 7,
   "metadata": {},
   "outputs": [],
   "source": [
    "user_1_ig_data = {\n",
    "    \"user_name\": user_name,\n",
    "    \"user_id\": user_id,\n",
    "    \"n_followers\": n_followers,\n",
    "    \"n_following\": n_following,\n",
    "    \"n_posts_total\": n_posts,\n",
    "    \"n_posts_retrieved\": len(posts_info),\n",
    "    \"n_likes_total\": np.sum([posts_info[key][\"n_likes\"] for key in posts_info.keys()]),\n",
    "    \"n_comments_total\": np.sum([len(posts_info[key][\"comments_text\"]) for key in posts_info.keys()]),\n",
    "    \"date\": date.today().strftime(\"%d/%m/%Y\"),\n",
    "    \"posts_info\": posts_info,\n",
    "}"
   ]
  },
  {
   "cell_type": "code",
   "execution_count": 8,
   "metadata": {},
   "outputs": [
    {
     "data": {
      "text/plain": [
       "{'user_name': 'shakira',\n",
       " 'user_id': '217867189',\n",
       " 'n_followers': 77377915,\n",
       " 'n_following': 151,\n",
       " 'n_posts_total': 2031,\n",
       " 'n_posts_retrieved': 5,\n",
       " 'n_likes_total': 3812802,\n",
       " 'n_comments_total': 131,\n",
       " 'date': '24/11/2022',\n",
       " 'posts_info': {'2978107755695378464_217867189': {'n_comments': 5371,\n",
       "   'n_likes': 329583,\n",
       "   'caption': 'Te felicito-Rabiosa popurrí. Ole ole!',\n",
       "   'comments_text': ['Moncef our ghetto algeria Airways in you tube Channel',\n",
       "    '😂😂😂 Que bueno!! Flamenquito!',\n",
       "    'OIE PAPIIIII',\n",
       "    '🔥🔥🔥🔥',\n",
       "    '❤️Oleeeeeee',\n",
       "    'Los ame 😍😍❤️',\n",
       "    'Please keep being the voice of iranian people. Children are being killed, women raped and men murderd #mahsaami̇ni̇',\n",
       "    'Please keep being the voice of iranian people. Children are being killed, women raped and men murderd #mahsaami̇ni̇',\n",
       "    '👏👏👏👏👏👏👏👏😍',\n",
       "    '👏👏👏👏🔥🔥🔥👏👏👏',\n",
       "    '😍😍😍😍',\n",
       "    'Son increíbles !',\n",
       "    'Olé  y Olé 👏',\n",
       "    '👏👏👏👏',\n",
       "    '🥰🥰🥰',\n",
       "    '😂😂😂😂😂😂😂👏🏻👏🏻👏🏻👏🏻👏🏻👏🏻👏🏻👏🏻👏🏻👏🏻👏🏻👏🏻',\n",
       "    '😍😍😍Que viiivaa shaakiiraaaaa 🔥🔥',\n",
       "    'Excelente!!!! Mi shaki',\n",
       "    '😂👏👏👏👏',\n",
       "    '❤️❤️❤️❤️❤️',\n",
       "    '😂😂😂😂',\n",
       "    '👏👏👏👏👏👏👏👏👏👏',\n",
       "    'Ole ole 💃🏾',\n",
       "    'According to the international protocols, using #nerve_gases , what is going on in #Javanrud , is a clear example of war crime.\\nHereby, we request all related international organizations and communities to stand with Iranian people based on R2P Law.\\n#IranRevolution2022 #UN',\n",
       "    '😍❤️👏',\n",
       "    'According to the international protocols, using #nerve_gases , what is going on in #Javanrud , is a clear example of war crime.\\nHereby, we request all related international organizations and communities to stand with Iranian people based on R2P Law.\\n#IranRevolution2022 #UN',\n",
       "    'Son lo más!!!👏👏',\n",
       "    '👏👏👏👏👏',\n",
       "    'Shaki mira todo el mundo te ama yrespeta']},\n",
       "  '2976664976951713929_217867189': {'n_comments': 1150,\n",
       "   'n_likes': 190222,\n",
       "   'caption': '@fefe_burgos y @deniza_5 en los ensayos de los #latingrammys con “Monotonía” como me gusta! 😍',\n",
       "   'comments_text': ['Follow Me🔥',\n",
       "    \"The hips don't lie\",\n",
       "    '❤❤❤❤❤❤❤❤❤❤❤❤❤❤❤❤❤❤❤❤❤',\n",
       "    '👏👏👏👏',\n",
       "    'Cómo desearía encontrarme con esta oportunidad hace mucho tiempo, hubiera sido enorme ahora.  Has corregido ese paso ahora @maritaearningstrategy',\n",
       "    'Ilove u',\n",
       "    '😍',\n",
       "    'Always with you shaki',\n",
       "    '👏👏👏👏',\n",
       "    'Mi Shaki',\n",
       "    '👏',\n",
       "    \"Really, c'est la monotomie dans ta vie Shak? ❤️\",\n",
       "    'Sim de milhões',\n",
       "    '😍😍😍',\n",
       "    'Colombia te necesita! #SalvemosParqueGorgona',\n",
       "    '@shakira @shakira solo di que tu no te has retirado del mundial y haz algo bonito para nosotros si? @shakira 🔥🌷💪👏👑',\n",
       "    '❤️❤️❤️',\n",
       "    '😍😍',\n",
       "    '🌹',\n",
       "    '❤️']},\n",
       "  '2975169824708651694_217867189': {'n_comments': 25331,\n",
       "   'n_likes': 2372616,\n",
       "   'caption': 'Felicidades a Milan y su equipo por este gran torneo. Todas las mamis estamos muy orgullosas de ustedes por su perseverancia  y dedicación! Bravo Subcampeones de la copa Catalunya Sub10!',\n",
       "   'comments_text': ['Preciosos 🥰🥰🥰',\n",
       "    'Hi Queen can you do the FIFA song please love you 😃',\n",
       "    '💙💙💙💙',\n",
       "    'Islamic Republic is using banned chemical weapons against its own citizens. This is the cartridge of a CS gas which was banned in 1993 Chemical Weapons Convention (CWC). This was used in Piranshahr of West Azerbaijan province.\\n\\u200c\\u200f\\n@justinpjtrudeau \\n@realdonaldtrump \\n@joebiden \\n@olafscholz \\n@emmanuelmacron \\n@kristerssonulf \\n@unitednations \\n@unitednationshumanrights \\n@antonioguterres \\n@angelinajolie \\n\\u200e',\n",
       "    'According to the international protocols, using #nervous_gas , what is going on in #Javanrud , is a clear example of war crime.\\nHereby, we request all related international organizations and communities to stand with Iranian people based on R2P Law.\\n#IranRevolution2022 #UN\\n#helpiran #help_iranian_people #R2Pforiran #R2P #R2PForIran',\n",
       "    '👏👏👏super  felicidades 😍',\n",
       "    'Beutifull ❤️',\n",
       "    'Los dos niños son hermosos..dios te los cuide siempre...🙏🏿',\n",
       "    '👏👏❤️❤️',\n",
       "    'Proud Men : DO you Not understand that Nature is a Gift that God has given you to live Better?. The book of spirits Allan kardec 1858. Time is Over. Goodbye Hydrocarbons. Welcome Sun Energy. We must save the Earth for our Children. A million kisses to you and your family. Take care of yourself.',\n",
       "    '8493618628',\n",
       "    'Tengo 42 años',\n",
       "    'Tengo experiencia en cuida niño',\n",
       "    '👏👏👏👏',\n",
       "    'oh is he playing football too ?',\n",
       "    'No te vayas Shakiraaa de Barcelonaaa 😍❤️❤️🙌🙌🙌😍😍 ya enviamos al señorito fuera de España, y te quedas tu ❤️❤️❤️❤️❤️❤️❤️❤️😍😍😘😘😘😘',\n",
       "    'Mini Shakira ❤️😍👀',\n",
       "    '😍😍😍',\n",
       "    'Hermoso felicitaciones Milán Dios te bendiga ♥️♥️♥️♥️♥️♥️',\n",
       "    'Please help the oppressed people of Kurdistan, Maha bad, Sales, Human, Jovanrud, Piranshar. Genocide is being out by the IRGC  and government forces  in these cities. Help people. 🙌😭❤',\n",
       "    '@sanam_samipoor صنم\\u200cجان یه دونه ای بهترین بلاگر دنیایی😍❤️🥺',\n",
       "    'Aren’t you supposed to be a UNICEF ambassador but not a single word from you in regards all the children who have died by the hands of the Islamic regime in Iran?  #mahsaamini #iranrevolution',\n",
       "    '💋💋💋💋💋',\n",
       "    'Hola te escribí x el privado 🙂',\n",
       "    '❤️❤️❤️❤️❤️❤️',\n",
       "    '❤️',\n",
       "    '😍😍😍😍😍🔥🔥🔥🔥🔥❤️❤️❤️❤️😍😍']},\n",
       "  '2974473996274193318_217867189': {'n_comments': 6673,\n",
       "   'n_likes': 598097,\n",
       "   'caption': 'Sing with me #Monotonia Canta conmigo!',\n",
       "   'comments_text': ['Señorita Shakira...canto con usted y de paso me llevo la gorra🤣😞💖✨ Bromis no me odie',\n",
       "    '❤️',\n",
       "    '👏👏👏👏',\n",
       "    '❤️',\n",
       "    '❤️',\n",
       "    '@androly_san tiene la gorra de Shiryu!! Me muerooo😍😍😍😍',\n",
       "    'Me encanta ❤️😍 @shakira',\n",
       "    'Please help the oppressed people of Kurdistan, Maha bad, Sales, Human, Jovanrud, Piranshar. Genocide is being out by the IRGC  and government forces  in these cities. Help people. 🙌😭❤#help_people_iran  #iran 😢',\n",
       "    '❤️❤️❤️❤️❤️',\n",
       "    '😍👏👏👏',\n",
       "    '❤️',\n",
       "    'YA SUPERELO',\n",
       "    'Que monotonía! Sexo no es amor ni ayer ni nunca',\n",
       "    '❤️❤️',\n",
       "    '@gusttavolima',\n",
       "    '❤️❤️',\n",
       "    '♥️👑',\n",
       "    '❤️❤️❤️',\n",
       "    '❤️❤️',\n",
       "    '❤️❤️❤️❤️',\n",
       "    'Nicho linda lá música , mucha fuerza Shakira !! De Portugal',\n",
       "    '❤️❤️👏',\n",
       "    '🥰🥰🥰🥰🥰❤️❤️❤️❤️',\n",
       "    'Iran🖤🖤🖤',\n",
       "    '🔥🔥Me uno ati shaki vamos con todo xdelante nuestra dignidad ante todo 🔥👏y demostremos q no nesecitamos a nadie pa echa pa lante somos mujeres guerreras 👏🙌🔥🔥',\n",
       "    '❤️❤️🙌🙌👏',\n",
       "    '❤️',\n",
       "    'Gracias me sentí junto a ti 😍']},\n",
       "  '2973743296432436191_217867189': {'n_comments': 2564,\n",
       "   'n_likes': 322284,\n",
       "   'caption': 'So many long hours shooting this but ozu and everyone around made it seem like the blink of an eye',\n",
       "   'comments_text': ['Linda demais 😍😍😍😍😍 maravilhosa',\n",
       "    '😍😍😍',\n",
       "    'Islamic regime is using chloride and zinc gas against inocent Iranian people, this is such a war crime that is happening in Iran.\\nIranian people are in a real revolution , they need a regime change, this is not a simple protest, Iranian regime has to go \\nLeaders of the world please dont support this child killer regime\\nBe our voice, People of Iran dont want this criminal regime anymore...#mahsaamini #iranrevolution2022',\n",
       "    '❤️❤️❤️❤️',\n",
       "    'According to the international protocols, using #nerve_gases , what is going on in #Javanrud , is a clear example of war crime.\\nHereby, we request all related international organizations and communities to stand with Iranian people based on R2P Law.\\n#IranRevolution2022 #UN',\n",
       "    'A Mulher Da Voz Mais Linda Do Mundo C Er Louco 🔥😍l',\n",
       "    'Por las calles de BCN 🥰🥰',\n",
       "    'AY TAN LINDO QUE SE LOS DOS JUNTOS HACEN BUENA PAREJA LOS DOS 💞❤️',\n",
       "    '❤️❤️❤️❤️',\n",
       "    '@kennydancer y los metes a la banda independiente para que desfilen el próximo noviembre 😂😂😂😂😂',\n",
       "    '😍😍',\n",
       "    '👏🔥',\n",
       "    '❤️❤️❤️❤️❤️❤️🔥🔥🔥🔥🔥🔥👏👏👏👏👏👏👏',\n",
       "    '🤨',\n",
       "    'Ok pero can you write a fifa mundial song because the one they wrote is bad 😩 save us pleaseeeee ! Love you ❤️😭😩😩😩😩',\n",
       "    'You are sick!',\n",
       "    \"I liked Shakira before, but after Fifa 2022 I don't even respect her anymore(((\",\n",
       "    '#freepalestine 🇵🇸🇵🇸🇵🇸🇵🇸',\n",
       "    '❤️❤️❤️❤️ love this song 🎵 sing this all the time. I can feel the emotion is what makes you such a great artist. Why your fans and I love you and your music, no matter what haters may say. You make great music always and they dont. ❤️❤️❤️❤️',\n",
       "    'Reina🔥',\n",
       "    'Me encantan los dos ❤️eres una inspiración shakira',\n",
       "    '❤️❤️❤️❤️',\n",
       "    '😢😢😢',\n",
       "    'La reynaaaaaa me encanta su humildad 😍😍',\n",
       "    '😍😍😍',\n",
       "    '@suadalbuflasa yo no te dije que hablara 5 idiomas. Tu idioma no me interesa y si fuera a aprender otro seria mandarin, tu idioma no es necesario más que para los que viven en esos paises donde se habla/escribe.',\n",
       "    'هذا هم الغربيون، يعتقدون انهم محور الكون، وان العالم يكترث لأمرهم ولن يرضوا عن العرب والمسلمون ولا لنجاحهم لأنه يغيضهم']}}}"
      ]
     },
     "execution_count": 8,
     "metadata": {},
     "output_type": "execute_result"
    }
   ],
   "source": [
    "user_1_ig_data"
   ]
  },
  {
   "cell_type": "code",
   "execution_count": null,
   "metadata": {},
   "outputs": [],
   "source": []
  }
 ],
 "metadata": {
  "kernelspec": {
   "display_name": "Python 3.10.5 ('vertikal': venv)",
   "language": "python",
   "name": "python3"
  },
  "language_info": {
   "codemirror_mode": {
    "name": "ipython",
    "version": 3
   },
   "file_extension": ".py",
   "mimetype": "text/x-python",
   "name": "python",
   "nbconvert_exporter": "python",
   "pygments_lexer": "ipython3",
   "version": "3.10.5"
  },
  "orig_nbformat": 4,
  "vscode": {
   "interpreter": {
    "hash": "70258f4837e3f46022aa0137b5be3a4e9270dc89d52dc988758cb74f0ce7bbb8"
   }
  }
 },
 "nbformat": 4,
 "nbformat_minor": 2
}
