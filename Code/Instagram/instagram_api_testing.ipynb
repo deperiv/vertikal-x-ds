{
 "cells": [
  {
   "cell_type": "code",
   "execution_count": 1,
   "metadata": {},
   "outputs": [
    {
     "name": "stdout",
     "output_type": "stream",
     "text": [
      "Collecting instaloader\n",
      "  Downloading instaloader-4.9.5.tar.gz (60 kB)\n",
      "     ---------------------------------------- 60.5/60.5 kB 3.4 MB/s eta 0:00:00\n",
      "  Preparing metadata (setup.py): started\n",
      "  Preparing metadata (setup.py): finished with status 'done'\n",
      "Requirement already satisfied: requests>=2.4 in c:\\users\\daniel\\desktop\\itsense\\vertikal\\vertikal\\lib\\site-packages (from instaloader) (2.28.1)\n",
      "Requirement already satisfied: urllib3<1.27,>=1.21.1 in c:\\users\\daniel\\desktop\\itsense\\vertikal\\vertikal\\lib\\site-packages (from requests>=2.4->instaloader) (1.26.12)\n",
      "Requirement already satisfied: idna<4,>=2.5 in c:\\users\\daniel\\desktop\\itsense\\vertikal\\vertikal\\lib\\site-packages (from requests>=2.4->instaloader) (3.4)\n",
      "Requirement already satisfied: certifi>=2017.4.17 in c:\\users\\daniel\\desktop\\itsense\\vertikal\\vertikal\\lib\\site-packages (from requests>=2.4->instaloader) (2022.9.24)\n",
      "Requirement already satisfied: charset-normalizer<3,>=2 in c:\\users\\daniel\\desktop\\itsense\\vertikal\\vertikal\\lib\\site-packages (from requests>=2.4->instaloader) (2.1.1)\n",
      "Building wheels for collected packages: instaloader\n",
      "  Building wheel for instaloader (setup.py): started\n",
      "  Building wheel for instaloader (setup.py): finished with status 'done'\n",
      "  Created wheel for instaloader: filename=instaloader-4.9.5-py3-none-any.whl size=62295 sha256=a49ba0460f6b1c52d4136edd0fcd057af0611522b694c8a0043fcea467f7477c\n",
      "  Stored in directory: c:\\users\\daniel\\appdata\\local\\pip\\cache\\wheels\\3d\\0f\\7b\\b0f459da60c0a3da264f64a73c8b95905281710415376acba1\n",
      "Successfully built instaloader\n",
      "Installing collected packages: instaloader\n",
      "Successfully installed instaloader-4.9.5\n"
     ]
    }
   ],
   "source": [
    "!pip install instaloader"
   ]
  },
  {
   "cell_type": "code",
   "execution_count": 8,
   "metadata": {},
   "outputs": [],
   "source": [
    "import instaloader\n",
    "from datetime import datetime\n",
    "from itertools import dropwhile, takewhile\n",
    "import time"
   ]
  },
  {
   "cell_type": "code",
   "execution_count": 9,
   "metadata": {},
   "outputs": [],
   "source": [
    "L = instaloader.Instaloader()\n"
   ]
  },
  {
   "cell_type": "code",
   "execution_count": 10,
   "metadata": {},
   "outputs": [],
   "source": [
    "username = \"danielpriver\"\n",
    "posts = instaloader.Profile.from_username(L.context, username).get_posts()\n",
    "time.sleep(30)"
   ]
  },
  {
   "cell_type": "code",
   "execution_count": 11,
   "metadata": {},
   "outputs": [
    {
     "name": "stderr",
     "output_type": "stream",
     "text": [
      "JSON Query to graphql/query: 429 Too Many Requests [retrying; skip with ^C]\n",
      "Number of requests within last 10/11/20/22/30/60 minutes grouped by type:\n",
      "                             iphone:    1    1    1    1    1    1\n",
      "   2b0673e0dc4580674a88d426fe00ea90:    1    1    1    1    1    1\n",
      " * 97b41c52301f77ce508f55e66d17620e:    1    1    1    1    1    1\n",
      "Instagram responded with HTTP error \"429 - Too Many Requests\". Please\n",
      "do not run multiple instances of Instaloader in parallel or within\n",
      "short sequence. Also, do not use any Instagram App while Instaloader\n",
      "is running.\n",
      "The request will be retried in 666 seconds, at 14:26.\n"
     ]
    }
   ],
   "source": [
    "\n",
    "for post in posts:\n",
    "    for comment in post.get_comments():\n",
    "        print(str(comment.id))\n",
    "        time.sleep(30)"
   ]
  },
  {
   "cell_type": "code",
   "execution_count": null,
   "metadata": {},
   "outputs": [],
   "source": [
    "for post in posts:\n",
    "    for comment in post.get_comments():\n",
    "        print(\"comment.id  : \"+str(comment.id))\n",
    "        print(\"comment.owner.username  : \"+comment.owner.username)\n",
    "        print(\"comment.text  : \"+comment.text)\n",
    "        print(\"comment.created_at_utc  : \"+str(comment.created_at_utc))\n",
    "        print(\"************************************************\")"
   ]
  },
  {
   "cell_type": "code",
   "execution_count": 2,
   "metadata": {},
   "outputs": [
    {
     "name": "stdout",
     "output_type": "stream",
     "text": [
      "Collecting igramscraper\n",
      "  Using cached igramscraper-0.3.5.tar.gz (24 kB)\n",
      "  Preparing metadata (setup.py): started\n",
      "  Preparing metadata (setup.py): finished with status 'error'\n"
     ]
    },
    {
     "name": "stderr",
     "output_type": "stream",
     "text": [
      "  error: subprocess-exited-with-error\n",
      "  \n",
      "  × python setup.py egg_info did not run successfully.\n",
      "  │ exit code: 1\n",
      "  ╰─> [10 lines of output]\n",
      "      Traceback (most recent call last):\n",
      "        File \"<string>\", line 2, in <module>\n",
      "        File \"<pip-setuptools-caller>\", line 34, in <module>\n",
      "        File \"C:\\Users\\DANIEL\\AppData\\Local\\Temp\\pip-install-t7dyguiw\\igramscraper_5d1c4b1efd4043669c2e41b295d560ff\\setup.py\", line 8, in <module>\n",
      "          long_description=Path(\"README.md\").read_text(),\n",
      "        File \"C:\\Users\\DANIEL\\AppData\\Local\\Programs\\Python\\Python310\\lib\\pathlib.py\", line 1135, in read_text\n",
      "          return f.read()\n",
      "        File \"C:\\Users\\DANIEL\\AppData\\Local\\Programs\\Python\\Python310\\lib\\encodings\\cp1252.py\", line 23, in decode\n",
      "          return codecs.charmap_decode(input,self.errors,decoding_table)[0]\n",
      "      UnicodeDecodeError: 'charmap' codec can't decode byte 0x90 in position 659: character maps to <undefined>\n",
      "      [end of output]\n",
      "  \n",
      "  note: This error originates from a subprocess, and is likely not a problem with pip.\n",
      "error: metadata-generation-failed\n",
      "\n",
      "× Encountered error while generating package metadata.\n",
      "╰─> See above for output.\n",
      "\n",
      "note: This is an issue with the package mentioned above, not pip.\n",
      "hint: See above for details.\n"
     ]
    }
   ],
   "source": [
    "!pip install igramscraper"
   ]
  },
  {
   "cell_type": "code",
   "execution_count": 2,
   "metadata": {},
   "outputs": [
    {
     "name": "stdout",
     "output_type": "stream",
     "text": [
      "Collecting requests_html\n",
      "  Downloading requests_html-0.10.0-py3-none-any.whl (13 kB)\n",
      "Requirement already satisfied: pyppeteer>=0.0.14 in c:\\users\\daniel\\desktop\\itsense\\vertikal\\vertikal\\lib\\site-packages (from requests_html) (1.0.2)\n",
      "Collecting pyquery\n",
      "  Downloading pyquery-1.4.3-py3-none-any.whl (22 kB)\n",
      "Requirement already satisfied: requests in c:\\users\\daniel\\desktop\\itsense\\vertikal\\vertikal\\lib\\site-packages (from requests_html) (2.28.1)\n",
      "Collecting fake-useragent\n",
      "  Downloading fake_useragent-0.1.14-py3-none-any.whl (13 kB)\n",
      "Collecting bs4\n",
      "  Downloading bs4-0.0.1.tar.gz (1.1 kB)\n",
      "  Preparing metadata (setup.py): started\n",
      "  Preparing metadata (setup.py): finished with status 'done'\n",
      "Collecting parse\n",
      "  Downloading parse-1.19.0.tar.gz (30 kB)\n",
      "  Preparing metadata (setup.py): started\n",
      "  Preparing metadata (setup.py): finished with status 'done'\n",
      "Collecting w3lib\n",
      "  Downloading w3lib-2.0.1-py3-none-any.whl (20 kB)\n",
      "Requirement already satisfied: tqdm<5.0.0,>=4.42.1 in c:\\users\\daniel\\desktop\\itsense\\vertikal\\vertikal\\lib\\site-packages (from pyppeteer>=0.0.14->requests_html) (4.64.1)\n",
      "Requirement already satisfied: certifi>=2021 in c:\\users\\daniel\\desktop\\itsense\\vertikal\\vertikal\\lib\\site-packages (from pyppeteer>=0.0.14->requests_html) (2022.9.24)\n",
      "Requirement already satisfied: websockets<11.0,>=10.0 in c:\\users\\daniel\\desktop\\itsense\\vertikal\\vertikal\\lib\\site-packages (from pyppeteer>=0.0.14->requests_html) (10.4)\n",
      "Requirement already satisfied: pyee<9.0.0,>=8.1.0 in c:\\users\\daniel\\desktop\\itsense\\vertikal\\vertikal\\lib\\site-packages (from pyppeteer>=0.0.14->requests_html) (8.1.0)\n",
      "Requirement already satisfied: importlib-metadata>=1.4 in c:\\users\\daniel\\desktop\\itsense\\vertikal\\vertikal\\lib\\site-packages (from pyppeteer>=0.0.14->requests_html) (5.0.0)\n",
      "Requirement already satisfied: urllib3<2.0.0,>=1.25.8 in c:\\users\\daniel\\desktop\\itsense\\vertikal\\vertikal\\lib\\site-packages (from pyppeteer>=0.0.14->requests_html) (1.26.12)\n",
      "Requirement already satisfied: appdirs<2.0.0,>=1.4.3 in c:\\users\\daniel\\desktop\\itsense\\vertikal\\vertikal\\lib\\site-packages (from pyppeteer>=0.0.14->requests_html) (1.4.4)\n",
      "Collecting beautifulsoup4\n",
      "  Using cached beautifulsoup4-4.11.1-py3-none-any.whl (128 kB)\n",
      "Requirement already satisfied: lxml>=2.1 in c:\\users\\daniel\\desktop\\itsense\\vertikal\\vertikal\\lib\\site-packages (from pyquery->requests_html) (4.9.1)\n",
      "Collecting cssselect>0.7.9\n",
      "  Downloading cssselect-1.2.0-py2.py3-none-any.whl (18 kB)\n",
      "Requirement already satisfied: idna<4,>=2.5 in c:\\users\\daniel\\desktop\\itsense\\vertikal\\vertikal\\lib\\site-packages (from requests->requests_html) (3.4)\n",
      "Requirement already satisfied: charset-normalizer<3,>=2 in c:\\users\\daniel\\desktop\\itsense\\vertikal\\vertikal\\lib\\site-packages (from requests->requests_html) (2.1.1)\n",
      "Requirement already satisfied: zipp>=0.5 in c:\\users\\daniel\\desktop\\itsense\\vertikal\\vertikal\\lib\\site-packages (from importlib-metadata>=1.4->pyppeteer>=0.0.14->requests_html) (3.10.0)\n",
      "Requirement already satisfied: colorama in c:\\users\\daniel\\desktop\\itsense\\vertikal\\vertikal\\lib\\site-packages (from tqdm<5.0.0,>=4.42.1->pyppeteer>=0.0.14->requests_html) (0.4.6)\n",
      "Collecting soupsieve>1.2\n",
      "  Using cached soupsieve-2.3.2.post1-py3-none-any.whl (37 kB)\n",
      "Building wheels for collected packages: bs4, parse\n",
      "  Building wheel for bs4 (setup.py): started\n",
      "  Building wheel for bs4 (setup.py): finished with status 'done'\n",
      "  Created wheel for bs4: filename=bs4-0.0.1-py3-none-any.whl size=1257 sha256=23cc3633fb28a5a3c75873c7ec037d3ab8361951954a5a7559989ff9e8740570\n",
      "  Stored in directory: c:\\users\\daniel\\appdata\\local\\pip\\cache\\wheels\\e4\\62\\1d\\d4d1bc4f33350ff84227f89b258edb552d604138e3739f5c83\n",
      "  Building wheel for parse (setup.py): started\n",
      "  Building wheel for parse (setup.py): finished with status 'done'\n",
      "  Created wheel for parse: filename=parse-1.19.0-py3-none-any.whl size=24571 sha256=2014a43f8835003520455b282b8d5685395db17a7bf5ddda2abef61fcc328f9d\n",
      "  Stored in directory: c:\\users\\daniel\\appdata\\local\\pip\\cache\\wheels\\03\\d9\\92\\db136347b5bcba7d271a3c042ce8c9c279e0ecd79173bb0a6e\n",
      "Successfully built bs4 parse\n",
      "Installing collected packages: parse, fake-useragent, w3lib, soupsieve, cssselect, pyquery, beautifulsoup4, bs4, requests_html\n",
      "Successfully installed beautifulsoup4-4.11.1 bs4-0.0.1 cssselect-1.2.0 fake-useragent-0.1.14 parse-1.19.0 pyquery-1.4.3 requests_html-0.10.0 soupsieve-2.3.2.post1 w3lib-2.0.1\n"
     ]
    }
   ],
   "source": [
    "!pip install requests_html"
   ]
  },
  {
   "cell_type": "code",
   "execution_count": 3,
   "metadata": {},
   "outputs": [
    {
     "ename": "ModuleNotFoundError",
     "evalue": "No module named 'slugify'",
     "output_type": "error",
     "traceback": [
      "\u001b[1;31m---------------------------------------------------------------------------\u001b[0m",
      "\u001b[1;31mModuleNotFoundError\u001b[0m                       Traceback (most recent call last)",
      "Cell \u001b[1;32mIn [3], line 1\u001b[0m\n\u001b[1;32m----> 1\u001b[0m \u001b[39mfrom\u001b[39;00m \u001b[39migramscraper\u001b[39;00m\u001b[39m.\u001b[39;00m\u001b[39minstagram\u001b[39;00m \u001b[39mimport\u001b[39;00m Instagram\n\u001b[0;32m      2\u001b[0m \u001b[39mfrom\u001b[39;00m \u001b[39mtime\u001b[39;00m \u001b[39mimport\u001b[39;00m sleep\n\u001b[0;32m      3\u001b[0m \u001b[39mimport\u001b[39;00m \u001b[39mpandas\u001b[39;00m \u001b[39mas\u001b[39;00m \u001b[39mpd\u001b[39;00m\n",
      "File \u001b[1;32mc:\\Users\\DANIEL\\Desktop\\ITSENSE\\Vertikal\\vertikal\\lib\\site-packages\\igramscraper\\instagram.py:8\u001b[0m\n\u001b[0;32m      6\u001b[0m \u001b[39mimport\u001b[39;00m \u001b[39mhashlib\u001b[39;00m\n\u001b[0;32m      7\u001b[0m \u001b[39mimport\u001b[39;00m \u001b[39mos\u001b[39;00m\n\u001b[1;32m----> 8\u001b[0m \u001b[39mfrom\u001b[39;00m \u001b[39mslugify\u001b[39;00m \u001b[39mimport\u001b[39;00m slugify\n\u001b[0;32m      9\u001b[0m \u001b[39mimport\u001b[39;00m \u001b[39mrandom\u001b[39;00m\n\u001b[0;32m     10\u001b[0m \u001b[39mfrom\u001b[39;00m \u001b[39m.\u001b[39;00m\u001b[39msession_manager\u001b[39;00m \u001b[39mimport\u001b[39;00m CookieSessionManager\n",
      "\u001b[1;31mModuleNotFoundError\u001b[0m: No module named 'slugify'"
     ]
    }
   ],
   "source": [
    "from igramscraper.instagram import Instagram\n",
    "from time import sleep\n",
    "import pandas as pd\n",
    "instagram = Instagram()\n",
    "\n",
    "post1 = instagram.get_media_comments_by_id('732428342682579959', 1000)\n",
    "list=[]\n",
    "for a in post1['comments']:\n",
    "    dict={}\n",
    "    dict['Comments'] = comment.text\n",
    "    list.append(dict)\n",
    "pd.DataFrame(list)"
   ]
  },
  {
   "cell_type": "code",
   "execution_count": 1,
   "metadata": {},
   "outputs": [
    {
     "name": "stdout",
     "output_type": "stream",
     "text": [
      "absl-py==1.3.0\n",
      "aiohttp==3.8.3\n",
      "aiosignal==1.3.1\n",
      "appdirs==1.4.4\n",
      "asttokens==2.0.8\n",
      "astunparse==1.6.3\n",
      "async-generator==1.10\n",
      "async-timeout==4.0.2\n",
      "attrs==22.1.0\n",
      "backcall==0.2.0\n",
      "cachetools==5.2.0\n",
      "certifi==2022.9.24\n",
      "cffi==1.15.1\n",
      "charset-normalizer==2.1.1\n",
      "click==8.1.3\n",
      "colorama==0.4.6\n",
      "contourpy==1.0.6\n",
      "cycler==0.11.0\n",
      "datasets==2.6.1\n",
      "debugpy==1.6.3\n",
      "decorator==5.1.1\n",
      "dill==0.3.5.1\n",
      "distlib==0.3.6\n",
      "dynaconf==3.1.11\n",
      "emoji==1.7.0\n",
      "entrypoints==0.4\n",
      "exceptiongroup==1.0.1\n",
      "executing==1.1.1\n",
      "filelock==3.8.0\n",
      "flatbuffers==22.10.26\n",
      "fonttools==4.38.0\n",
      "frozenlist==1.3.3\n",
      "fsspec==2022.10.0\n",
      "gast==0.4.0\n",
      "google-auth==2.14.0\n",
      "google-auth-oauthlib==0.4.6\n",
      "google-pasta==0.2.0\n",
      "greenlet==1.1.3\n",
      "grpcio==1.50.0\n",
      "h11==0.14.0\n",
      "h5py==3.7.0\n",
      "huggingface-hub==0.10.1\n",
      "humanize==4.4.0\n",
      "idna==3.4\n",
      "importlib-metadata==5.0.0\n",
      "install==1.3.5\n",
      "instaloader==4.9.5\n",
      "ipykernel==6.16.2\n",
      "ipython==8.5.0\n",
      "jedi==0.18.1\n",
      "joblib==1.2.0\n",
      "jupyter_client==7.4.4\n",
      "jupyter_core==4.11.2\n",
      "keras==2.10.0\n",
      "Keras-Preprocessing==1.1.2\n",
      "kiwisolver==1.4.4\n",
      "libclang==14.0.6\n",
      "loguru==0.6.0\n",
      "lxml==4.9.1\n",
      "Markdown==3.4.1\n",
      "MarkupSafe==2.1.1\n",
      "matplotlib==3.6.1\n",
      "matplotlib-inline==0.1.6\n",
      "multidict==6.0.2\n",
      "multiprocess==0.70.13\n",
      "nest-asyncio==1.5.6\n",
      "nltk==3.7\n",
      "numpy==1.23.4\n",
      "oauthlib==3.2.2\n",
      "opt-einsum==3.3.0\n",
      "outcome==1.2.0\n",
      "packaging==21.3\n",
      "pandas==1.5.1\n",
      "pandas-read-xml==0.3.1\n",
      "parso==0.8.3\n",
      "pickleshare==0.7.5\n",
      "Pillow==9.3.0\n",
      "playwright==1.27.1\n",
      "playwright-stealth==1.0.5\n",
      "prompt-toolkit==3.0.31\n",
      "protobuf==3.19.6\n",
      "psutil==5.9.3\n",
      "pure-eval==0.2.2\n",
      "pyarrow==10.0.0\n",
      "pyasn1==0.4.8\n",
      "pyasn1-modules==0.2.8\n",
      "pycparser==2.21\n",
      "pydantic==1.10.2\n",
      "pyee==8.1.0\n",
      "Pygments==2.13.0\n",
      "pyparsing==3.0.9\n",
      "pyppeteer==1.0.2\n",
      "pyppeteer-stealth==2.7.4\n",
      "pysentimiento==0.5.2\n",
      "PySocks==1.7.1\n",
      "python-dateutil==2.8.2\n",
      "python-dotenv==0.21.0\n",
      "PyTikTokAPI==0.0.5\n",
      "pytz==2022.5\n",
      "pywin32==304\n",
      "PyYAML==6.0\n",
      "pyzmq==24.0.1\n",
      "regex==2022.10.31\n",
      "requests==2.28.1\n",
      "requests-oauthlib==1.3.1\n",
      "responses==0.18.0\n",
      "rsa==4.9\n",
      "scikit-learn==1.1.3\n",
      "scipy==1.9.3\n",
      "selenium==4.6.0\n",
      "selenium-stealth==1.0.6\n",
      "sentiment-analysis-spanish==0.0.25\n",
      "six==1.16.0\n",
      "sklearn==0.0\n",
      "sniffio==1.3.0\n",
      "sortedcontainers==2.4.0\n",
      "stack-data==0.5.1\n",
      "tensorboard==2.10.1\n",
      "tensorboard-data-server==0.6.1\n",
      "tensorboard-plugin-wit==1.8.1\n",
      "tensorflow==2.10.0\n",
      "tensorflow-estimator==2.10.0\n",
      "tensorflow-hub==0.12.0\n",
      "tensorflow-io-gcs-filesystem==0.27.0\n",
      "tensorflow-text==2.10.0\n",
      "termcolor==2.1.0\n",
      "threadpoolctl==3.1.0\n",
      "TikTokApi==5.2.2\n",
      "tiktokpy==0.9.0\n",
      "tokenizers==0.13.2\n",
      "torch==1.13.0\n",
      "torchaudio==0.13.0\n",
      "torchvision==0.14.0\n",
      "tornado==6.2\n",
      "tqdm==4.64.1\n",
      "traitlets==5.5.0\n",
      "transformers==4.24.0\n",
      "trio==0.22.0\n",
      "trio-websocket==0.9.2\n",
      "tweepy==4.12.1\n",
      "typer==0.4.2\n",
      "typing_extensions==4.4.0\n",
      "Unidecode==1.3.6\n",
      "urllib3==1.26.12\n",
      "wcwidth==0.2.5\n",
      "websockets==10.4\n",
      "Werkzeug==2.2.2\n",
      "win32-setctime==1.1.0\n",
      "wrapt==1.14.1\n",
      "wsproto==1.2.0\n",
      "xmltodict==0.13.0\n",
      "xxhash==3.1.0\n",
      "yarl==1.8.1\n",
      "zipfile36==0.1.3\n",
      "zipp==3.10.0\n"
     ]
    }
   ],
   "source": [
    "!pip freeze"
   ]
  },
  {
   "cell_type": "code",
   "execution_count": null,
   "metadata": {},
   "outputs": [],
   "source": []
  }
 ],
 "metadata": {
  "kernelspec": {
   "display_name": "Python 3.10.5 ('vertikal': venv)",
   "language": "python",
   "name": "python3"
  },
  "language_info": {
   "codemirror_mode": {
    "name": "ipython",
    "version": 3
   },
   "file_extension": ".py",
   "mimetype": "text/x-python",
   "name": "python",
   "nbconvert_exporter": "python",
   "pygments_lexer": "ipython3",
   "version": "3.10.5"
  },
  "orig_nbformat": 4,
  "vscode": {
   "interpreter": {
    "hash": "70258f4837e3f46022aa0137b5be3a4e9270dc89d52dc988758cb74f0ce7bbb8"
   }
  }
 },
 "nbformat": 4,
 "nbformat_minor": 2
}
