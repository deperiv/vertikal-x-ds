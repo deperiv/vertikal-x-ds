{
 "cells": [
  {
   "cell_type": "markdown",
   "metadata": {},
   "source": [
    "# Twitter API testing"
   ]
  },
  {
   "cell_type": "code",
   "execution_count": 9,
   "metadata": {},
   "outputs": [],
   "source": [
    "import tweepy\n",
    "import time"
   ]
  },
  {
   "cell_type": "code",
   "execution_count": 10,
   "metadata": {},
   "outputs": [],
   "source": [
    "CONSUMER_KEY = 'P8uR3oU2eTF1hZw2SX1lma8Zw'\n",
    "CONSUMER_SECRET = 'Kg85hTJdliuTdFroydQvoRsg7cpr5WZm2MdEQtCz8EjcjG04dp'\n",
    "ACCESS_TOKEN = '386339280-5sy1Smvnkw91cBObIwu3ju6aMQJU4B8X8HZNsDSo'\n",
    "ACCESS_TOKEN_SECRET = 'WuZNLBRfzZgT6DIDnZOPqaVlt8uMtrvOUJ9aSbUwkmocD'\n",
    "\n",
    "auth = tweepy.OAuth1UserHandler(\n",
    "  CONSUMER_KEY, \n",
    "  CONSUMER_SECRET, \n",
    "  ACCESS_TOKEN, \n",
    "  ACCESS_TOKEN_SECRET\n",
    ")\n",
    "\n",
    "api = tweepy.API(auth, wait_on_rate_limit=True)"
   ]
  },
  {
   "cell_type": "markdown",
   "metadata": {},
   "source": [
    "### Data we need to retrieve given a user profile\n",
    "\n",
    "1. Number of followers\n",
    "2. Number of original tweets and number of retweets (last 7 days)\n",
    "\n",
    "For each original tweet:\n",
    "\n",
    "3. Number of retweets from other users (shares)\n",
    "4. Number of favorites from other users (likes)\n",
    "5. Tweet text\n",
    "6. Replies from other users to user tweet (text)\n",
    "\n",
    "7. Gather all the data for future SPI computation\n",
    "\n",
    "We will take Elon Musk user \"@JFCadavid\" as an example\n",
    "\n",
    "The API has some limitations:\n",
    "* We will only be able to retrieve tweets from the last 7 days.\n",
    "* There is a rate limit of 60req/min. Going beyond will break the Twitter API (i.e. will block temporarily our access tokens)\n",
    "\n",
    "Having 'RT @user:' as the beginning of a tweet, tells me that this is a retweet"
   ]
  },
  {
   "cell_type": "markdown",
   "metadata": {},
   "source": [
    "1. Get number of followers"
   ]
  },
  {
   "cell_type": "code",
   "execution_count": 11,
   "metadata": {},
   "outputs": [],
   "source": [
    "n_followers = api.search_users(\"JFCadavid\")[0].followers_count"
   ]
  },
  {
   "cell_type": "markdown",
   "metadata": {},
   "source": [
    "2. Get the number of tweets (Including retweets, last 7 days)"
   ]
  },
  {
   "cell_type": "code",
   "execution_count": 12,
   "metadata": {},
   "outputs": [],
   "source": [
    "extracted_tweets = []\n",
    "\n",
    "for status in tweepy.Cursor(api.search_tweets, \n",
    "                            \"from:JFCadavid\",\n",
    "                            count=5).items(100):\n",
    "    extracted_tweets.append(status)"
   ]
  },
  {
   "cell_type": "code",
   "execution_count": 13,
   "metadata": {},
   "outputs": [
    {
     "name": "stdout",
     "output_type": "stream",
     "text": [
      "5 5\n"
     ]
    }
   ],
   "source": [
    "retweets = [tweet for tweet in extracted_tweets if \"RT @\" in tweet.text]\n",
    "tweets = set(extracted_tweets) - set(retweets)\n",
    "n_retweets = len(retweets)\n",
    "n_tweets = len(tweets)\n",
    "\n",
    "print(n_retweets, n_tweets)"
   ]
  },
  {
   "cell_type": "markdown",
   "metadata": {},
   "source": [
    "For each original tweet: 3. Get the number of retweets from another users, 4. get the number of favorites from other users (likes) and 5. get the tweet's text"
   ]
  },
  {
   "cell_type": "code",
   "execution_count": 14,
   "metadata": {},
   "outputs": [],
   "source": [
    "# We will also store the id\n",
    "n_id_ls = []\n",
    "n_retweets_ls = []\n",
    "n_favorites_ls = []\n",
    "tweet_text_ls = []\n",
    "for tweet in tweets:\n",
    "    n_id_ls.append(tweet.id)\n",
    "    n_retweets_ls.append(tweet.retweet_count)\n",
    "    n_favorites_ls.append(tweet.favorite_count)\n",
    "    tweet_text_ls.append(tweet.text)"
   ]
  },
  {
   "cell_type": "code",
   "execution_count": 15,
   "metadata": {},
   "outputs": [
    {
     "data": {
      "text/plain": [
       "['¡EN VIVO TRAS LA GOLEADA DE INGLATERRA ANTE IRÁN!\\n\\n¿Carlos Queiroz es mal técnico?\\n\\n¿Los británicos son favoritos a… https://t.co/gyXyIBrkHB',\n",
       " '@ProfeVictorHAC Yo respondí siguiendo la mamadera de gallo',\n",
       " '¡EN VIVO TRAS LA PRIMERA CAÍDA, EN LA HISTORIA, DE UN PAÍS SEDE EN SU PARTIDO DEBUT!\\n\\nEl VAR: ¿Buen o mal protagoni… https://t.co/gVNvcY0m51',\n",
       " '@ProfeVictorHAC Pero sin cigarrillo, con toda la ropa y a las 5 am de Qatar tras trabajar tooooooodo el día.',\n",
       " 'Países Bajos 2-0 Senegal\\n\\n¿Esta naranja es mecánica o una del montón?\\n\\n¿Esperaban más de un equipo africano o es lo… https://t.co/vk7w75FDUj']"
      ]
     },
     "execution_count": 15,
     "metadata": {},
     "output_type": "execute_result"
    }
   ],
   "source": [
    "tweet_text_ls"
   ]
  },
  {
   "cell_type": "markdown",
   "metadata": {},
   "source": [
    "5. Get the replies from other users to user tweets"
   ]
  },
  {
   "cell_type": "code",
   "execution_count": 16,
   "metadata": {},
   "outputs": [],
   "source": [
    "def get_replies(user_name, tweet_id, max_replies=10):\n",
    "    replies = tweepy.Cursor(api.search_tweets, q='to:{}'.format(user_name),\n",
    "                                    since_id=tweet_id, tweet_mode='extended').items()\n",
    "\n",
    "    replies_ls = []\n",
    "\n",
    "    counter = 0\n",
    "    while counter < max_replies :\n",
    "        try:\n",
    "            reply = replies.next()\n",
    "            if not hasattr(reply, 'in_reply_to_status_id_str'):\n",
    "                continue\n",
    "            if reply.in_reply_to_status_id == tweet_id:\n",
    "                replies_ls.append(reply.full_text)\n",
    "                counter = counter + 1 \n",
    "\n",
    "        except StopIteration:\n",
    "            break\n",
    "\n",
    "        except Exception as e:\n",
    "            print(\"Failed while fetching replies {}\".format(e))\n",
    "            break\n",
    "    return replies_ls"
   ]
  },
  {
   "cell_type": "code",
   "execution_count": 17,
   "metadata": {},
   "outputs": [],
   "source": [
    "replies_ls = [get_replies(\"JFCadavid\", tweet_id) for tweet_id in n_id_ls]"
   ]
  },
  {
   "cell_type": "code",
   "execution_count": 18,
   "metadata": {},
   "outputs": [
    {
     "data": {
      "text/plain": [
       "['¡EN VIVO TRAS LA GOLEADA DE INGLATERRA ANTE IRÁN!\\n\\n¿Carlos Queiroz es mal técnico?\\n\\n¿Los británicos son favoritos a… https://t.co/gyXyIBrkHB',\n",
       " '@ProfeVictorHAC Yo respondí siguiendo la mamadera de gallo',\n",
       " '¡EN VIVO TRAS LA PRIMERA CAÍDA, EN LA HISTORIA, DE UN PAÍS SEDE EN SU PARTIDO DEBUT!\\n\\nEl VAR: ¿Buen o mal protagoni… https://t.co/gVNvcY0m51',\n",
       " '@ProfeVictorHAC Pero sin cigarrillo, con toda la ropa y a las 5 am de Qatar tras trabajar tooooooodo el día.',\n",
       " 'Países Bajos 2-0 Senegal\\n\\n¿Esta naranja es mecánica o una del montón?\\n\\n¿Esperaban más de un equipo africano o es lo… https://t.co/vk7w75FDUj']"
      ]
     },
     "execution_count": 18,
     "metadata": {},
     "output_type": "execute_result"
    }
   ],
   "source": [
    "tweet_text_ls"
   ]
  },
  {
   "cell_type": "code",
   "execution_count": 19,
   "metadata": {},
   "outputs": [
    {
     "data": {
      "text/plain": [
       "[['@JFCadavid Irán tiene su James...',\n",
       "  '@JFCadavid Si. No. No me interesa.',\n",
       "  '@JFCadavid Inglaterra vs Tahremi',\n",
       "  '@JFCadavid No-no',\n",
       "  '@JFCadavid Siempre entran de favoritos y se desinflan en los partidos con Selecciónes top. Inglaterra, Países Bajos, Bélgica, España',\n",
       "  '@JFCadavid Eso fue que le hicieron el cajón los Iraníes a Queiroz…..'],\n",
       " [],\n",
       " ['@JFCadavid En Aras de la transparencia en este partido con el tema de haber comprado el resultado a favor del anfitrión. Queda claro que solo fue expeculasion. Bien por el fútbol y en especial por Ecuador.',\n",
       "  '@JFCadavid Fuera de lugar no sé dónde. Las imágenes del Var confunden aun más.'],\n",
       " ['@JFCadavid @ProfeVictorHAC Y espero que sin tatuajes en las nalgas! 😂 La verdad que comparación tan absurda \"señor\" Victor',\n",
       "  '@JFCadavid @ProfeVictorHAC A eso los llevaron no? A trabajar, si le cuesta tanto regrésese hombre JF.',\n",
       "  '@JFCadavid @ProfeVictorHAC Y cuál es el problema con que hagas videos desde la cama?',\n",
       "  '@JFCadavid @ProfeVictorHAC Pensé que era Iván zuleta o Arthur King. 🤷🏻\\u200d♂️🤷🏻\\u200d♂️🤷🏻\\u200d♂️ ¡Metaverso!',\n",
       "  '@JFCadavid @ProfeVictorHAC Cuantos mundiales llevas cubriendo? El 4?',\n",
       "  '@JFCadavid @ProfeVictorHAC Preguntele a un trabajador de abastos como le toca no en un hotel 5 estrellas todo pago por q usted ni plata de su bolsillo gasta todo se lo dan y se le llena la boca diciendo que todo un día trabajando',\n",
       "  '@JFCadavid @ProfeVictorHAC No pss q sufrimiento que pecado como les toca de duro periodistas de pacotilla',\n",
       "  '@JFCadavid @ProfeVictorHAC Confirmo que juan felipe no tiene putifotos en el instagram',\n",
       "  '@JFCadavid @ProfeVictorHAC Y desde un mundial 😎😎😎😎',\n",
       "  '@JFCadavid @ProfeVictorHAC https://t.co/OX8f9kl7On'],\n",
       " ['@JFCadavid Normal\\nLo qué hay\\nSi\\nGracias por las preguntas.',\n",
       "  '@JFCadavid Ecuador tiene la clasificación a 8vos muy dificil x lo mostrado entre  Senegal y holanda hoy',\n",
       "  '@JFCadavid En la geográfia en la política países bajos en el futbol siempre seran HOLANDA',\n",
       "  '@JFCadavid Partido durísimo q se definió por un error entre los centrales y arquero de senegal. Paises bajos tratando de filtrar balón con De Ligth cómo lanzador desde la primera línea. Senegal muy físico se nota la falta de Mane en el ataque. Durísimo grupo para Ecuador.',\n",
       "  '@JFCadavid Quedaron debiendo ambos equipos. Si esperaba más de Países Bajos']]"
      ]
     },
     "execution_count": 19,
     "metadata": {},
     "output_type": "execute_result"
    }
   ],
   "source": [
    "replies_ls"
   ]
  },
  {
   "cell_type": "markdown",
   "metadata": {},
   "source": [
    "7. Gather all the data for future SPI computation"
   ]
  },
  {
   "cell_type": "code",
   "execution_count": 25,
   "metadata": {},
   "outputs": [],
   "source": [
    "from datetime import date\n",
    "import numpy as np\n",
    "\n",
    "user1_data = {\n",
    "    \"user_name\": \"JFCadavid\",\n",
    "    \"n_followers\": n_followers,\n",
    "    \"n_retweets\": n_retweets,\n",
    "    \"n_tweets\": n_tweets,\n",
    "    \"n_retweets_to_user\": np.sum(n_retweets_ls),\n",
    "    \"n_favorites_to_user\": np.sum(n_favorites_ls),\n",
    "    \"n_replies_to_user\": np.sum([len(replies_post) for replies_post in replies_ls]),\n",
    "    \"tweets_text\": tweet_text_ls,\n",
    "    \"tweets_replies\": replies_ls,\n",
    "    \"date\": date.today().strftime(\"%d/%m/%Y\")\n",
    "}"
   ]
  },
  {
   "cell_type": "code",
   "execution_count": 144,
   "metadata": {},
   "outputs": [
    {
     "data": {
      "text/plain": [
       "'18/11/2022'"
      ]
     },
     "execution_count": 144,
     "metadata": {},
     "output_type": "execute_result"
    }
   ],
   "source": [
    "date.today().strftime(\"%d/%m/%Y\")"
   ]
  },
  {
   "cell_type": "code",
   "execution_count": 149,
   "metadata": {},
   "outputs": [],
   "source": [
    "import json\n",
    "with open(\"sample_data.json\", \"w\") as outfile:\n",
    "    json.dump(user1_data, outfile)"
   ]
  },
  {
   "cell_type": "code",
   "execution_count": 24,
   "metadata": {},
   "outputs": [
    {
     "data": {
      "text/plain": [
       "{'user_name': 'JFCadavid',\n",
       " 'n_followers': 628287,\n",
       " 'n_retweets': 5,\n",
       " 'n_tweets': 5,\n",
       " 'n_retweets_to_user': 3,\n",
       " 'n_favorites_to_user': 423,\n",
       " 'n_replies': 23,\n",
       " 'tweets_text': ['¡EN VIVO TRAS LA GOLEADA DE INGLATERRA ANTE IRÁN!\\n\\n¿Carlos Queiroz es mal técnico?\\n\\n¿Los británicos son favoritos a… https://t.co/gyXyIBrkHB',\n",
       "  '@ProfeVictorHAC Yo respondí siguiendo la mamadera de gallo',\n",
       "  '¡EN VIVO TRAS LA PRIMERA CAÍDA, EN LA HISTORIA, DE UN PAÍS SEDE EN SU PARTIDO DEBUT!\\n\\nEl VAR: ¿Buen o mal protagoni… https://t.co/gVNvcY0m51',\n",
       "  '@ProfeVictorHAC Pero sin cigarrillo, con toda la ropa y a las 5 am de Qatar tras trabajar tooooooodo el día.',\n",
       "  'Países Bajos 2-0 Senegal\\n\\n¿Esta naranja es mecánica o una del montón?\\n\\n¿Esperaban más de un equipo africano o es lo… https://t.co/vk7w75FDUj'],\n",
       " 'tweets_replies': [['@JFCadavid Irán tiene su James...',\n",
       "   '@JFCadavid Si. No. No me interesa.',\n",
       "   '@JFCadavid Inglaterra vs Tahremi',\n",
       "   '@JFCadavid No-no',\n",
       "   '@JFCadavid Siempre entran de favoritos y se desinflan en los partidos con Selecciónes top. Inglaterra, Países Bajos, Bélgica, España',\n",
       "   '@JFCadavid Eso fue que le hicieron el cajón los Iraníes a Queiroz…..'],\n",
       "  [],\n",
       "  ['@JFCadavid En Aras de la transparencia en este partido con el tema de haber comprado el resultado a favor del anfitrión. Queda claro que solo fue expeculasion. Bien por el fútbol y en especial por Ecuador.',\n",
       "   '@JFCadavid Fuera de lugar no sé dónde. Las imágenes del Var confunden aun más.'],\n",
       "  ['@JFCadavid @ProfeVictorHAC Y espero que sin tatuajes en las nalgas! 😂 La verdad que comparación tan absurda \"señor\" Victor',\n",
       "   '@JFCadavid @ProfeVictorHAC A eso los llevaron no? A trabajar, si le cuesta tanto regrésese hombre JF.',\n",
       "   '@JFCadavid @ProfeVictorHAC Y cuál es el problema con que hagas videos desde la cama?',\n",
       "   '@JFCadavid @ProfeVictorHAC Pensé que era Iván zuleta o Arthur King. 🤷🏻\\u200d♂️🤷🏻\\u200d♂️🤷🏻\\u200d♂️ ¡Metaverso!',\n",
       "   '@JFCadavid @ProfeVictorHAC Cuantos mundiales llevas cubriendo? El 4?',\n",
       "   '@JFCadavid @ProfeVictorHAC Preguntele a un trabajador de abastos como le toca no en un hotel 5 estrellas todo pago por q usted ni plata de su bolsillo gasta todo se lo dan y se le llena la boca diciendo que todo un día trabajando',\n",
       "   '@JFCadavid @ProfeVictorHAC No pss q sufrimiento que pecado como les toca de duro periodistas de pacotilla',\n",
       "   '@JFCadavid @ProfeVictorHAC Confirmo que juan felipe no tiene putifotos en el instagram',\n",
       "   '@JFCadavid @ProfeVictorHAC Y desde un mundial 😎😎😎😎',\n",
       "   '@JFCadavid @ProfeVictorHAC https://t.co/OX8f9kl7On'],\n",
       "  ['@JFCadavid Normal\\nLo qué hay\\nSi\\nGracias por las preguntas.',\n",
       "   '@JFCadavid Ecuador tiene la clasificación a 8vos muy dificil x lo mostrado entre  Senegal y holanda hoy',\n",
       "   '@JFCadavid En la geográfia en la política países bajos en el futbol siempre seran HOLANDA',\n",
       "   '@JFCadavid Partido durísimo q se definió por un error entre los centrales y arquero de senegal. Paises bajos tratando de filtrar balón con De Ligth cómo lanzador desde la primera línea. Senegal muy físico se nota la falta de Mane en el ataque. Durísimo grupo para Ecuador.',\n",
       "   '@JFCadavid Quedaron debiendo ambos equipos. Si esperaba más de Países Bajos']],\n",
       " 'date': '21/11/2022'}"
      ]
     },
     "execution_count": 24,
     "metadata": {},
     "output_type": "execute_result"
    }
   ],
   "source": [
    "user1_data"
   ]
  },
  {
   "cell_type": "code",
   "execution_count": null,
   "metadata": {},
   "outputs": [],
   "source": []
  }
 ],
 "metadata": {
  "kernelspec": {
   "display_name": "Python 3.10.5 ('vertikal': venv)",
   "language": "python",
   "name": "python3"
  },
  "language_info": {
   "codemirror_mode": {
    "name": "ipython",
    "version": 3
   },
   "file_extension": ".py",
   "mimetype": "text/x-python",
   "name": "python",
   "nbconvert_exporter": "python",
   "pygments_lexer": "ipython3",
   "version": "3.10.5"
  },
  "orig_nbformat": 4,
  "vscode": {
   "interpreter": {
    "hash": "70258f4837e3f46022aa0137b5be3a4e9270dc89d52dc988758cb74f0ce7bbb8"
   }
  }
 },
 "nbformat": 4,
 "nbformat_minor": 2
}
