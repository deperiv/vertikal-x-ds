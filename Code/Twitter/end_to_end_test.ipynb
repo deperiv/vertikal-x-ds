{
 "cells": [
  {
   "cell_type": "markdown",
   "metadata": {},
   "source": [
    "# End-to-end Twitter SPI"
   ]
  },
  {
   "cell_type": "code",
   "execution_count": 2,
   "metadata": {},
   "outputs": [],
   "source": [
    "from pysentimiento.preprocessing import preprocess_tweet\n",
    "from transformers                import AutoTokenizer, AutoModelForSequenceClassification\n",
    "from pysentimiento               import create_analyzer\n",
    "\n",
    "import pandas as    pd\n",
    "import numpy as     np\n",
    "import torch"
   ]
  },
  {
   "cell_type": "code",
   "execution_count": 3,
   "metadata": {},
   "outputs": [],
   "source": [
    "def rescale_probs(proba_dict):\n",
    "    keys, values = list(proba_dict.keys()), list(proba_dict.values())\n",
    "    pred_key = keys[np.argmax(values)]\n",
    "    pred_value = 0\n",
    "    if pred_key == \"NEG\":\n",
    "        pred_value = 1-np.max(values)\n",
    "    elif pred_key == \"POS\":\n",
    "        pred_value = np.max(values)\n",
    "    else:\n",
    "        neg_value = values[0]\n",
    "        pos_value = values[-1]\n",
    "\n",
    "        add_val = pos_value if pos_value > neg_value else -neg_value\n",
    "\n",
    "        pred_value = 0.5 + (1-np.max(values))*add_val/2\n",
    "    return pred_value"
   ]
  },
  {
   "cell_type": "code",
   "execution_count": 9,
   "metadata": {},
   "outputs": [],
   "source": [
    "# tokenizer = AutoTokenizer.from_pretrained(\"papluca/xlm-roberta-base-language-detection\")\n",
    "# language_detector = AutoModelForSequenceClassification.from_pretrained(\"papluca/xlm-roberta-base-language-detection\")\n",
    "# analyzer_en = create_analyzer(task=\"sentiment\", lang=\"en\")\n",
    "# analyzer_es = create_analyzer(task=\"sentiment\", lang=\"es\")\n",
    "\n",
    "\n",
    "def preprocess_tweet_adv(string_, proc_func):\n",
    "    substrs_to_remove = [\"cara emoji\", \"emoji\", \"   \", \"\\n\"]\n",
    "    procs_str = proc_func(string_)\n",
    "    for substr in substrs_to_remove:\n",
    "        procs_str = procs_str.replace(substr, \"\")\n",
    "    procs_str = procs_str.replace(\"Jjaja\", \"Jajaja\")\n",
    "\n",
    "    return procs_str\n",
    "\n",
    "\n",
    "def get_post_sentiment(comments, lang_detector, en_analyzer, sp_analyzer, tokenizer):\n",
    "    preprocessed_comments = [preprocess_tweet_adv(comment) for comment in comments]\n",
    "    languages_detected = []\n",
    "    for comment in preprocessed_comments:\n",
    "        inputs = tokenizer(comment, return_tensors=\"pt\")\n",
    "        with torch.no_grad():\n",
    "            logits = lang_detector(**inputs).logits\n",
    "        predicted_class_id = logits.argmax().item()\n",
    "        languages_detected.append(lang_detector.config.id2label[predicted_class_id])\n",
    "\n",
    "    sentiment_probas = []\n",
    "    for ix in range(len(preprocessed_comments)):\n",
    "        if languages_detected[ix] == \"en\":\n",
    "            estimation = en_analyzer.predict(preprocessed_comments[ix]).probas\n",
    "        elif languages_detected[ix] == \"es\" or languages_detected[ix] == \"pt\":\n",
    "            estimation = sp_analyzer.predict(preprocessed_comments[ix]).probas\n",
    "        else:\n",
    "            estimation = {'NEG': 0, 'NEU': 1, 'POS': 0}\n",
    "        sentiment_probas.append(estimation)\n",
    "\n",
    "    sentiment = [rescale_probs(probs) for probs in sentiment_probas]\n",
    "    df = pd.DataFrame({\"Comment\": comments, \"Language\": languages_detected, \"Sentiment\": sentiment})\n",
    "\n",
    "    return df, df[\"Sentiment\"].mean()\n"
   ]
  },
  {
   "cell_type": "code",
   "execution_count": 5,
   "metadata": {},
   "outputs": [],
   "source": [
    "data_user = {'user_name': 'JFCadavid',\n",
    " 'n_retweets': 4,\n",
    " 'n_tweets': 6,\n",
    " 'n_retweets_to_user': [0, 1, 0, 18, 1, 2],\n",
    " 'n_favorites_to_user': [0, 10, 6, 801, 282, 6],\n",
    " 'tweets_text': ['@RondoSendo @JuniorClubSA Jajajaja',\n",
    "  '¿Quieres ganar entrada doble para el partido entre DIM 🆚 Águilas, y camisa del Medellin ? \\n\\nPasos: \\nHaz un video co… https://t.co/KWizbpyJd1',\n",
    "  '¡EN VIVO ANALIZANDO LA SALIDA DE JULIO COMESAÑA!\\n\\n¿La culpa del momento del Junior era de él o de alguien más?\\n\\n¿El… https://t.co/KafYtJL2f3',\n",
    "  'Aterrizando en Doha y me entero de la salida de Julio Comesaña… ¿qué pasó?',\n",
    "  '@josechazyvip Ninguna, es más fácil que ud me deje de seguir… La gente es boba sufriendo gratis',\n",
    "  '¿Quieren ganar boletas para ver \\n👉 Medellín 🆚 Águilas Doradas\\n👉 Pereira 🆚 Millonarios ?'],\n",
    " 'tweets_replies': [[],\n",
    "  ['@JFCadavid @PapasMargarita Para que quiero tus entradas Juan bobipe Guevavid',\n",
    "   '@JFCadavid @PapasMargarita Pilas antes que se implemente la reforma tributaria',\n",
    "   '@JFCadavid @PapasMargarita Está reñido mucha gente participando 😂😂😂',\n",
    "   '@JFCadavid @PapasMargarita @JFCadavid @PapasMargarita https://t.co/Cnu7BxvDCv',\n",
    "   '@JFCadavid @PapasMargarita Juan yo participe ayer en instagram. Es lo mismo ?'],\n",
    "  ['@JFCadavid Cállate Juan bobipe.',\n",
    "   '@JFCadavid Llegó al junior para cagarse con los azules, técnico mediocre'],\n",
    "  ['@JFCadavid 🤣',\n",
    "   '@JFCadavid Que ganas de figurar que está en Catar 🥱',\n",
    "   '@JFCadavid Lo necesitan para después de la pretemporada. Cuando vuelvan a sacar el nuevo técnico. @JFCadavid Junior y @nacionaloficial han demostrado que la grandeza no se puede medir con estas directivas.',\n",
    "   '@JFCadavid Jajjajajjajjaaja duró más la selección Colombia en Qatar... momento 😡',\n",
    "   '@JFCadavid Lo que tenía que pasar amigo',\n",
    "   '@JFCadavid Salió llorando porque millonarios ganó la copa y lo tiene de hijo',\n",
    "   '@JFCadavid Crónica de un fracaso anunciado.  Pero ya están contratando a Julio XI',\n",
    "   '@JFCadavid Comesaña se fue porque están en conversaciones con Julio Avelino y el zurdo López',\n",
    "   '@JFCadavid @ORTEMAN10 😂😂😂😂😂',\n",
    "   '@JFCadavid Pues lo de siempre, no hay n proyecto deportivo serio, siempre se toman decisiones basadas en caprichos y pataletas. La pregunta es para qué lo trajeron?'],\n",
    "  ['@JFCadavid @josechazyvip Q buena respuesta',\n",
    "   '@JFCadavid @josechazyvip Como periodista no le queda bien apuntando a la gente como.boba. debería de rectificar, ya que en otras opiniones no se le puede decir nada a usted porque ya sabemos que responderá con agravios.pilas con eso.',\n",
    "   '@JFCadavid @josechazyvip Jajajaja excelente respuesta!!!',\n",
    "   '@JFCadavid @josechazyvip Jajajaa peinadota',\n",
    "   '@JFCadavid @josechazyvip Pues yo no lo sigo, y me aparecen tus comentarios',\n",
    "   '@JFCadavid @josechazyvip dele picos a la calva de su marido, y se quedan trabajando allá, pero con el *',\n",
    "   '@JFCadavid @josechazyvip Que peinada linda',\n",
    "   '@JFCadavid @josechazyvip Si lo bloqueas es mejor',\n",
    "   '@JFCadavid @josechazyvip Dile que se vista Jjaajajajajajaajajajaajajajaja',\n",
    "   '@JFCadavid @josechazyvip El Junior ahora compite con el SENA, para conocer quién saca más técnicos... Está buena la contienda... Saludos !! Que disfrute bastante!!'],\n",
    "  ['@JFCadavid no aguanta el campeón ya se sabe quien será o no Millos?',\n",
    "   '@JFCadavid Naaaa 🥱🥱🥱🥱🥱🥱',\n",
    "   '@JFCadavid Juan Felipe bolillo ganó una liga con nacional \\nEl entrenador de nacional vs gremio era Juan José pelaes',\n",
    "   '@JFCadavid Como sería? Pero no papas, no consumo paquetes Juan! 😅',\n",
    "   '@JFCadavid Medellín 💙❤️']],\n",
    " 'date': '18/11/2022'}"
   ]
  },
  {
   "cell_type": "code",
   "execution_count": 6,
   "metadata": {},
   "outputs": [
    {
     "data": {
      "text/plain": [
       "['@JFCadavid no aguanta el campeón ya se sabe quien será o no Millos?',\n",
       " '@JFCadavid Naaaa 🥱🥱🥱🥱🥱🥱',\n",
       " '@JFCadavid Juan Felipe bolillo ganó una liga con nacional \\nEl entrenador de nacional vs gremio era Juan José pelaes',\n",
       " '@JFCadavid Como sería? Pero no papas, no consumo paquetes Juan! 😅',\n",
       " '@JFCadavid Medellín 💙❤️']"
      ]
     },
     "execution_count": 6,
     "metadata": {},
     "output_type": "execute_result"
    }
   ],
   "source": [
    "comments_a = data_user['tweets_replies'][-1]\n",
    "comments_a"
   ]
  },
  {
   "cell_type": "code",
   "execution_count": 53,
   "metadata": {},
   "outputs": [],
   "source": [
    "df, sentiment_val = get_post_sentiment(comments_a, language_detector, analyzer_en, analyzer_es, tokenizer)"
   ]
  },
  {
   "cell_type": "code",
   "execution_count": 54,
   "metadata": {},
   "outputs": [
    {
     "data": {
      "text/plain": [
       "['@JFCadavid @josechazyvip Q buena respuesta',\n",
       " '@JFCadavid @josechazyvip Como periodista no le queda bien apuntando a la gente como.boba. debería de rectificar, ya que en otras opiniones no se le puede decir nada a usted porque ya sabemos que responderá con agravios.pilas con eso.',\n",
       " '@JFCadavid @josechazyvip Jajajaja excelente respuesta!!!',\n",
       " '@JFCadavid @josechazyvip Jajajaa peinadota',\n",
       " '@JFCadavid @josechazyvip Pues yo no lo sigo, y me aparecen tus comentarios',\n",
       " '@JFCadavid @josechazyvip dele picos a la calva de su marido, y se quedan trabajando allá, pero con el *',\n",
       " '@JFCadavid @josechazyvip Que peinada linda',\n",
       " '@JFCadavid @josechazyvip Si lo bloqueas es mejor',\n",
       " '@JFCadavid @josechazyvip Dile que se vista Jjaajajajajajaajajajaajajajaja',\n",
       " '@JFCadavid @josechazyvip El Junior ahora compite con el SENA, para conocer quién saca más técnicos... Está buena la contienda... Saludos !! Que disfrute bastante!!']"
      ]
     },
     "execution_count": 54,
     "metadata": {},
     "output_type": "execute_result"
    }
   ],
   "source": [
    "comments_a"
   ]
  },
  {
   "cell_type": "code",
   "execution_count": 55,
   "metadata": {},
   "outputs": [
    {
     "data": {
      "text/html": [
       "<div>\n",
       "<style scoped>\n",
       "    .dataframe tbody tr th:only-of-type {\n",
       "        vertical-align: middle;\n",
       "    }\n",
       "\n",
       "    .dataframe tbody tr th {\n",
       "        vertical-align: top;\n",
       "    }\n",
       "\n",
       "    .dataframe thead th {\n",
       "        text-align: right;\n",
       "    }\n",
       "</style>\n",
       "<table border=\"1\" class=\"dataframe\">\n",
       "  <thead>\n",
       "    <tr style=\"text-align: right;\">\n",
       "      <th></th>\n",
       "      <th>Comment</th>\n",
       "      <th>Language</th>\n",
       "      <th>Sentiment</th>\n",
       "    </tr>\n",
       "  </thead>\n",
       "  <tbody>\n",
       "    <tr>\n",
       "      <th>0</th>\n",
       "      <td>@JFCadavid @josechazyvip Q buena respuesta</td>\n",
       "      <td>es</td>\n",
       "      <td>0.987111</td>\n",
       "    </tr>\n",
       "    <tr>\n",
       "      <th>1</th>\n",
       "      <td>@JFCadavid @josechazyvip Como periodista no le...</td>\n",
       "      <td>es</td>\n",
       "      <td>0.001619</td>\n",
       "    </tr>\n",
       "    <tr>\n",
       "      <th>2</th>\n",
       "      <td>@JFCadavid @josechazyvip Jajajaja excelente re...</td>\n",
       "      <td>es</td>\n",
       "      <td>0.994382</td>\n",
       "    </tr>\n",
       "    <tr>\n",
       "      <th>3</th>\n",
       "      <td>@JFCadavid @josechazyvip Jajajaa peinadota</td>\n",
       "      <td>pt</td>\n",
       "      <td>0.920389</td>\n",
       "    </tr>\n",
       "    <tr>\n",
       "      <th>4</th>\n",
       "      <td>@JFCadavid @josechazyvip Pues yo no lo sigo, y...</td>\n",
       "      <td>es</td>\n",
       "      <td>0.012591</td>\n",
       "    </tr>\n",
       "    <tr>\n",
       "      <th>5</th>\n",
       "      <td>@JFCadavid @josechazyvip dele picos a la calva...</td>\n",
       "      <td>es</td>\n",
       "      <td>0.449074</td>\n",
       "    </tr>\n",
       "    <tr>\n",
       "      <th>6</th>\n",
       "      <td>@JFCadavid @josechazyvip Que peinada linda</td>\n",
       "      <td>pt</td>\n",
       "      <td>0.988774</td>\n",
       "    </tr>\n",
       "    <tr>\n",
       "      <th>7</th>\n",
       "      <td>@JFCadavid @josechazyvip Si lo bloqueas es mejor</td>\n",
       "      <td>es</td>\n",
       "      <td>0.499490</td>\n",
       "    </tr>\n",
       "    <tr>\n",
       "      <th>8</th>\n",
       "      <td>@JFCadavid @josechazyvip Dile que se vista Jja...</td>\n",
       "      <td>es</td>\n",
       "      <td>0.501064</td>\n",
       "    </tr>\n",
       "    <tr>\n",
       "      <th>9</th>\n",
       "      <td>@JFCadavid @josechazyvip El Junior ahora compi...</td>\n",
       "      <td>es</td>\n",
       "      <td>0.935286</td>\n",
       "    </tr>\n",
       "  </tbody>\n",
       "</table>\n",
       "</div>"
      ],
      "text/plain": [
       "                                             Comment Language  Sentiment\n",
       "0         @JFCadavid @josechazyvip Q buena respuesta       es   0.987111\n",
       "1  @JFCadavid @josechazyvip Como periodista no le...       es   0.001619\n",
       "2  @JFCadavid @josechazyvip Jajajaja excelente re...       es   0.994382\n",
       "3         @JFCadavid @josechazyvip Jajajaa peinadota       pt   0.920389\n",
       "4  @JFCadavid @josechazyvip Pues yo no lo sigo, y...       es   0.012591\n",
       "5  @JFCadavid @josechazyvip dele picos a la calva...       es   0.449074\n",
       "6         @JFCadavid @josechazyvip Que peinada linda       pt   0.988774\n",
       "7   @JFCadavid @josechazyvip Si lo bloqueas es mejor       es   0.499490\n",
       "8  @JFCadavid @josechazyvip Dile que se vista Jja...       es   0.501064\n",
       "9  @JFCadavid @josechazyvip El Junior ahora compi...       es   0.935286"
      ]
     },
     "execution_count": 55,
     "metadata": {},
     "output_type": "execute_result"
    }
   ],
   "source": [
    "df"
   ]
  },
  {
   "cell_type": "code",
   "execution_count": 11,
   "metadata": {},
   "outputs": [
    {
     "data": {
      "text/plain": [
       "['@usuario no aguanta el campeón ya se sabe quien será o no Millos?',\n",
       " '@usuario Naaacara de bostezo cara de bostezo cara de bostezo ',\n",
       " '@usuario Juan Felipe bolillo ganó una liga con nacional El entrenador de nacional vs gremio era Juan José pelaes',\n",
       " '@usuario Como sería? Pero no papas, no consumo paquetes Juan!cara sonriendo con sudor frío ',\n",
       " '@usuario Medellíncorazón azul ']"
      ]
     },
     "execution_count": 11,
     "metadata": {},
     "output_type": "execute_result"
    }
   ],
   "source": [
    "preprocessed_comments = [preprocess_tweet_adv(comment, preprocess_tweet) for comment in comments_a]\n",
    "preprocessed_comments"
   ]
  },
  {
   "cell_type": "code",
   "execution_count": null,
   "metadata": {},
   "outputs": [],
   "source": []
  }
 ],
 "metadata": {
  "kernelspec": {
   "display_name": "Python 3.10.5 64-bit",
   "language": "python",
   "name": "python3"
  },
  "language_info": {
   "codemirror_mode": {
    "name": "ipython",
    "version": 3
   },
   "file_extension": ".py",
   "mimetype": "text/x-python",
   "name": "python",
   "nbconvert_exporter": "python",
   "pygments_lexer": "ipython3",
   "version": "3.10.5"
  },
  "orig_nbformat": 4,
  "vscode": {
   "interpreter": {
    "hash": "acf8403819adfe497959fb7d2d03e26c50ad436fbbc78e6c84d8efa62b34f3d9"
   }
  }
 },
 "nbformat": 4,
 "nbformat_minor": 2
}
