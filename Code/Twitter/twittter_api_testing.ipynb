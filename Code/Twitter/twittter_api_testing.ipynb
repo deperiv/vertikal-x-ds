{
 "cells": [
  {
   "cell_type": "markdown",
   "metadata": {},
   "source": [
    "# Twitter API testing"
   ]
  },
  {
   "cell_type": "code",
   "execution_count": 1,
   "metadata": {},
   "outputs": [],
   "source": [
    "import tweepy\n",
    "import time"
   ]
  },
  {
   "cell_type": "code",
   "execution_count": 2,
   "metadata": {},
   "outputs": [],
   "source": [
    "CONSUMER_KEY = 'P8uR3oU2eTF1hZw2SX1lma8Zw'\n",
    "CONSUMER_SECRET = 'Kg85hTJdliuTdFroydQvoRsg7cpr5WZm2MdEQtCz8EjcjG04dp'\n",
    "ACCESS_TOKEN = '386339280-5sy1Smvnkw91cBObIwu3ju6aMQJU4B8X8HZNsDSo'\n",
    "ACCESS_TOKEN_SECRET = 'WuZNLBRfzZgT6DIDnZOPqaVlt8uMtrvOUJ9aSbUwkmocD'\n",
    "\n",
    "auth = tweepy.OAuth1UserHandler(\n",
    "  CONSUMER_KEY, \n",
    "  CONSUMER_SECRET, \n",
    "  ACCESS_TOKEN, \n",
    "  ACCESS_TOKEN_SECRET\n",
    ")\n",
    "\n",
    "api = tweepy.API(auth, wait_on_rate_limit=True)"
   ]
  },
  {
   "cell_type": "markdown",
   "metadata": {},
   "source": [
    "### Data we need to retrieve given a user profile\n",
    "\n",
    "1. Number of followers\n",
    "2. Number of original tweets and number of retweets (last 7 days)\n",
    "\n",
    "For each original tweet:\n",
    "\n",
    "3. Number of retweets from other users (shares)\n",
    "4. Number of favorites from other users (likes)\n",
    "5. Tweet text\n",
    "6. Replies from other users to user tweet (text)\n",
    "\n",
    "7. Gather all the data for future SPI computation\n",
    "\n",
    "We will take Elon Musk user \"@JFCadavid\" as an example\n",
    "\n",
    "The API has some limitations:\n",
    "* We will only be able to retrieve tweets from the last 7 days.\n",
    "* There is a rate limit of 60req/min. Going beyond will break the Twitter API (i.e. will block temporarily our access tokens)\n",
    "\n",
    "Having 'RT @user:' as the beginning of a tweet, tells me that this is a retweet"
   ]
  },
  {
   "cell_type": "markdown",
   "metadata": {},
   "source": [
    "1. Get number of followers"
   ]
  },
  {
   "cell_type": "code",
   "execution_count": 17,
   "metadata": {},
   "outputs": [],
   "source": [
    "username = \"Cristiano\""
   ]
  },
  {
   "cell_type": "code",
   "execution_count": 18,
   "metadata": {},
   "outputs": [],
   "source": [
    "n_followers = api.search_users(username)[0].followers_count"
   ]
  },
  {
   "cell_type": "markdown",
   "metadata": {},
   "source": [
    "2. Get the number of tweets (Including retweets, last 7 days)"
   ]
  },
  {
   "cell_type": "code",
   "execution_count": 21,
   "metadata": {},
   "outputs": [],
   "source": [
    "extracted_tweets = []\n",
    "\n",
    "for status in tweepy.Cursor(api.search_tweets, \n",
    "                            f\"from:{username}\",\n",
    "                            count=5).items(10):\n",
    "    extracted_tweets.append(status)"
   ]
  },
  {
   "cell_type": "code",
   "execution_count": 22,
   "metadata": {},
   "outputs": [
    {
     "name": "stdout",
     "output_type": "stream",
     "text": [
      "0 10\n"
     ]
    }
   ],
   "source": [
    "retweets = [tweet for tweet in extracted_tweets if \"RT @\" in tweet.text]\n",
    "tweets = set(extracted_tweets) - set(retweets)\n",
    "n_retweets = len(retweets)\n",
    "n_tweets = len(tweets)\n",
    "\n",
    "print(n_retweets, n_tweets)"
   ]
  },
  {
   "cell_type": "markdown",
   "metadata": {},
   "source": [
    "For each original tweet: 3. Get the number of retweets from another users, 4. get the number of favorites from other users (likes) and 5. get the tweet's text"
   ]
  },
  {
   "cell_type": "code",
   "execution_count": 23,
   "metadata": {},
   "outputs": [],
   "source": [
    "# We will also store the id\n",
    "n_id_ls = []\n",
    "n_retweets_ls = []\n",
    "n_favorites_ls = []\n",
    "tweet_text_ls = []\n",
    "for tweet in tweets:\n",
    "    n_id_ls.append(tweet.id)\n",
    "    n_retweets_ls.append(tweet.retweet_count)\n",
    "    n_favorites_ls.append(tweet.favorite_count)\n",
    "    tweet_text_ls.append(tweet.text)"
   ]
  },
  {
   "cell_type": "code",
   "execution_count": 24,
   "metadata": {},
   "outputs": [
    {
     "data": {
      "text/plain": [
       "['https://t.co/OZJAW7HSJM',\n",
       " 'How many did you get right? Make sure you have the free @livescore app so you can follow all the action, stats and… https://t.co/c8kJhx2CHK',\n",
       " 'Boas energias, boas sensações, o mesmo empenho e a mesma concentração de que colocamos em cada desafio. Foco! Vonta… https://t.co/fIhve9oJ1p',\n",
       " 'Prestes a iniciarmos a nossa campanha na maior competição do Mundo. Uma aventura que desejamos longa e repleta de s… https://t.co/CDPIx99Axf',\n",
       " 'My first ever NFT collection is live now on @Binance. Don’t miss out! \\nSign up now with code RONALDO to explore the… https://t.co/Npzu0MFwUm',\n",
       " 'Victory is a State of Mind. A long tradition of crafting trunks photographed by @annieleibovitz for @LouisVuitton https://t.co/0TsieZP40P',\n",
       " 'Taking over Times Square with my new wax figure and showing Portugal to the world! \\n\\n#madametussaudsusa… https://t.co/MMZxrc1FYN',\n",
       " 'I can’t leave for Qatar without my #Theragun PRO!\\nIt’s important to keep my routine consistent and I know I can alw… https://t.co/MkvO65RD6K',\n",
       " 'Grande prova de força ontem em Alvalade, com os nossos rapazes a mostrarem toda a sua personalidade. Clara demonstr… https://t.co/liJQ58kUum',\n",
       " 'A new journey together begins today.\\nJoin me on @Binance, the home of my exclusive NFT collection.\\nSign up now with… https://t.co/GTZw4mCYBO']"
      ]
     },
     "execution_count": 24,
     "metadata": {},
     "output_type": "execute_result"
    }
   ],
   "source": [
    "tweet_text_ls"
   ]
  },
  {
   "cell_type": "markdown",
   "metadata": {},
   "source": [
    "5. Get the replies from other users to user tweets"
   ]
  },
  {
   "cell_type": "code",
   "execution_count": 37,
   "metadata": {},
   "outputs": [],
   "source": [
    "def get_replies(user_name, tweet_id, max_replies=10, max_attempts=20):\n",
    "    replies = tweepy.Cursor(api.search_tweets, q='to:{}'.format(user_name),\n",
    "                                    since_id=tweet_id, tweet_mode='extended').items()\n",
    "\n",
    "    replies_ls = []\n",
    "\n",
    "    counter_fetched_rep = 0\n",
    "    counter_attempts = 0\n",
    "    while counter_fetched_rep < max_replies and counter_attempts < max_attempts:\n",
    "        try:\n",
    "            reply = replies.next()\n",
    "            if not hasattr(reply, 'in_reply_to_status_id_str'):\n",
    "                continue\n",
    "            if reply.in_reply_to_status_id == tweet_id:\n",
    "                replies_ls.append(reply.full_text)\n",
    "                counter_fetched_rep = counter_fetched_rep + 1 \n",
    "            counter_attempts = counter_attempts + 1 \n",
    "\n",
    "        except StopIteration:\n",
    "            break\n",
    "\n",
    "        except Exception as e:\n",
    "            print(\"Failed while fetching replies {}\".format(e))\n",
    "            break\n",
    "    return replies_ls"
   ]
  },
  {
   "cell_type": "code",
   "execution_count": 38,
   "metadata": {},
   "outputs": [],
   "source": [
    "replies_ls = [get_replies(username, tweet_id) for tweet_id in n_id_ls]"
   ]
  },
  {
   "cell_type": "code",
   "execution_count": 39,
   "metadata": {},
   "outputs": [
    {
     "data": {
      "text/plain": [
       "['https://t.co/OZJAW7HSJM',\n",
       " 'How many did you get right? Make sure you have the free @livescore app so you can follow all the action, stats and… https://t.co/c8kJhx2CHK',\n",
       " 'Boas energias, boas sensações, o mesmo empenho e a mesma concentração de que colocamos em cada desafio. Foco! Vonta… https://t.co/fIhve9oJ1p',\n",
       " 'Prestes a iniciarmos a nossa campanha na maior competição do Mundo. Uma aventura que desejamos longa e repleta de s… https://t.co/CDPIx99Axf',\n",
       " 'My first ever NFT collection is live now on @Binance. Don’t miss out! \\nSign up now with code RONALDO to explore the… https://t.co/Npzu0MFwUm',\n",
       " 'Victory is a State of Mind. A long tradition of crafting trunks photographed by @annieleibovitz for @LouisVuitton https://t.co/0TsieZP40P',\n",
       " 'Taking over Times Square with my new wax figure and showing Portugal to the world! \\n\\n#madametussaudsusa… https://t.co/MMZxrc1FYN',\n",
       " 'I can’t leave for Qatar without my #Theragun PRO!\\nIt’s important to keep my routine consistent and I know I can alw… https://t.co/MkvO65RD6K',\n",
       " 'Grande prova de força ontem em Alvalade, com os nossos rapazes a mostrarem toda a sua personalidade. Clara demonstr… https://t.co/liJQ58kUum',\n",
       " 'A new journey together begins today.\\nJoin me on @Binance, the home of my exclusive NFT collection.\\nSign up now with… https://t.co/GTZw4mCYBO']"
      ]
     },
     "execution_count": 39,
     "metadata": {},
     "output_type": "execute_result"
    }
   ],
   "source": [
    "tweet_text_ls"
   ]
  },
  {
   "cell_type": "code",
   "execution_count": 40,
   "metadata": {},
   "outputs": [
    {
     "data": {
      "text/plain": [
       "[['@Cristiano Bye Bye United 😂😂',\n",
       "  '@Cristiano Gabung persinga ngawi bang do!!'],\n",
       " [],\n",
       " [],\n",
       " ['@Cristiano ❤️❤️❤️',\n",
       "  '@Cristiano Ya queremos verte cabrón! 👊🏻',\n",
       "  '@Cristiano Good luck！',\n",
       "  '@Cristiano good luk don  off the king💙💛🇸🇦❤️',\n",
       "  '@Cristiano Timão lhe espera.',\n",
       "  '@Cristiano Esa es la actitud 💪🔥',\n",
       "  '@Cristiano Anyone who attends the Portugal game, I want him to take a picture for me from the stadium \\U0001f979\\U0001f979\\U0001f979 I could not fulfill my dream of watching my legend from the stands. I apologize to you cr7\\U0001f979#CR7𓃵  #Portugal  #البرتغال_غانا',\n",
       "  '@Cristiano BORA ROBOZÃO. Queremos vocês na final contra o Brasil!',\n",
       "  '@Cristiano Cristiano Ronaldo deve ter tirado uns 30k só de FGTS',\n",
       "  '@Cristiano اتمنى لك التوفيق ونجاح نحن معك وسوف نبقى معك وفي جانبك نحن البرتغال'],\n",
       " [],\n",
       " [],\n",
       " [],\n",
       " [],\n",
       " [],\n",
       " []]"
      ]
     },
     "execution_count": 40,
     "metadata": {},
     "output_type": "execute_result"
    }
   ],
   "source": [
    "replies_ls"
   ]
  },
  {
   "cell_type": "markdown",
   "metadata": {},
   "source": [
    "7. Gather all the data for future SPI computation"
   ]
  },
  {
   "cell_type": "code",
   "execution_count": 41,
   "metadata": {},
   "outputs": [],
   "source": [
    "from datetime import date\n",
    "import numpy as np\n",
    "\n",
    "user1_data = {\n",
    "    \"user_name\": username,\n",
    "    \"n_followers\": n_followers,\n",
    "    \"n_retweets\": n_retweets,\n",
    "    \"n_tweets\": n_tweets,\n",
    "    \"n_retweets_to_user\": np.sum(n_retweets_ls),\n",
    "    \"n_favorites_to_user\": np.sum(n_favorites_ls),\n",
    "    \"n_replies_to_user\": np.sum([len(replies_post) for replies_post in replies_ls]),\n",
    "    \"tweets_text\": tweet_text_ls,\n",
    "    \"tweets_replies\": replies_ls,\n",
    "    \"date\": date.today().strftime(\"%d/%m/%Y\")\n",
    "}"
   ]
  },
  {
   "cell_type": "code",
   "execution_count": 42,
   "metadata": {},
   "outputs": [
    {
     "data": {
      "text/plain": [
       "'24/11/2022'"
      ]
     },
     "execution_count": 42,
     "metadata": {},
     "output_type": "execute_result"
    }
   ],
   "source": [
    "date.today().strftime(\"%d/%m/%Y\")"
   ]
  },
  {
   "cell_type": "code",
   "execution_count": 149,
   "metadata": {},
   "outputs": [],
   "source": [
    "import json\n",
    "with open(\"sample_data.json\", \"w\") as outfile:\n",
    "    json.dump(user1_data, outfile)"
   ]
  },
  {
   "cell_type": "code",
   "execution_count": 43,
   "metadata": {},
   "outputs": [
    {
     "data": {
      "text/plain": [
       "{'user_name': 'Cristiano',\n",
       " 'n_followers': 105288060,\n",
       " 'n_retweets': 0,\n",
       " 'n_tweets': 10,\n",
       " 'n_retweets_to_user': 387561,\n",
       " 'n_favorites_to_user': 3808870,\n",
       " 'n_replies_to_user': 12,\n",
       " 'tweets_text': ['https://t.co/OZJAW7HSJM',\n",
       "  'How many did you get right? Make sure you have the free @livescore app so you can follow all the action, stats and… https://t.co/c8kJhx2CHK',\n",
       "  'Boas energias, boas sensações, o mesmo empenho e a mesma concentração de que colocamos em cada desafio. Foco! Vonta… https://t.co/fIhve9oJ1p',\n",
       "  'Prestes a iniciarmos a nossa campanha na maior competição do Mundo. Uma aventura que desejamos longa e repleta de s… https://t.co/CDPIx99Axf',\n",
       "  'My first ever NFT collection is live now on @Binance. Don’t miss out! \\nSign up now with code RONALDO to explore the… https://t.co/Npzu0MFwUm',\n",
       "  'Victory is a State of Mind. A long tradition of crafting trunks photographed by @annieleibovitz for @LouisVuitton https://t.co/0TsieZP40P',\n",
       "  'Taking over Times Square with my new wax figure and showing Portugal to the world! \\n\\n#madametussaudsusa… https://t.co/MMZxrc1FYN',\n",
       "  'I can’t leave for Qatar without my #Theragun PRO!\\nIt’s important to keep my routine consistent and I know I can alw… https://t.co/MkvO65RD6K',\n",
       "  'Grande prova de força ontem em Alvalade, com os nossos rapazes a mostrarem toda a sua personalidade. Clara demonstr… https://t.co/liJQ58kUum',\n",
       "  'A new journey together begins today.\\nJoin me on @Binance, the home of my exclusive NFT collection.\\nSign up now with… https://t.co/GTZw4mCYBO'],\n",
       " 'tweets_replies': [['@Cristiano Bye Bye United 😂😂',\n",
       "   '@Cristiano Gabung persinga ngawi bang do!!'],\n",
       "  [],\n",
       "  [],\n",
       "  ['@Cristiano ❤️❤️❤️',\n",
       "   '@Cristiano Ya queremos verte cabrón! 👊🏻',\n",
       "   '@Cristiano Good luck！',\n",
       "   '@Cristiano good luk don  off the king💙💛🇸🇦❤️',\n",
       "   '@Cristiano Timão lhe espera.',\n",
       "   '@Cristiano Esa es la actitud 💪🔥',\n",
       "   '@Cristiano Anyone who attends the Portugal game, I want him to take a picture for me from the stadium \\U0001f979\\U0001f979\\U0001f979 I could not fulfill my dream of watching my legend from the stands. I apologize to you cr7\\U0001f979#CR7𓃵  #Portugal  #البرتغال_غانا',\n",
       "   '@Cristiano BORA ROBOZÃO. Queremos vocês na final contra o Brasil!',\n",
       "   '@Cristiano Cristiano Ronaldo deve ter tirado uns 30k só de FGTS',\n",
       "   '@Cristiano اتمنى لك التوفيق ونجاح نحن معك وسوف نبقى معك وفي جانبك نحن البرتغال'],\n",
       "  [],\n",
       "  [],\n",
       "  [],\n",
       "  [],\n",
       "  [],\n",
       "  []],\n",
       " 'date': '24/11/2022'}"
      ]
     },
     "execution_count": 43,
     "metadata": {},
     "output_type": "execute_result"
    }
   ],
   "source": [
    "user1_data"
   ]
  },
  {
   "cell_type": "code",
   "execution_count": null,
   "metadata": {},
   "outputs": [],
   "source": []
  }
 ],
 "metadata": {
  "kernelspec": {
   "display_name": "Python 3.10.5 ('vertikal': venv)",
   "language": "python",
   "name": "python3"
  },
  "language_info": {
   "codemirror_mode": {
    "name": "ipython",
    "version": 3
   },
   "file_extension": ".py",
   "mimetype": "text/x-python",
   "name": "python",
   "nbconvert_exporter": "python",
   "pygments_lexer": "ipython3",
   "version": "3.10.5"
  },
  "orig_nbformat": 4,
  "vscode": {
   "interpreter": {
    "hash": "70258f4837e3f46022aa0137b5be3a4e9270dc89d52dc988758cb74f0ce7bbb8"
   }
  }
 },
 "nbformat": 4,
 "nbformat_minor": 2
}
