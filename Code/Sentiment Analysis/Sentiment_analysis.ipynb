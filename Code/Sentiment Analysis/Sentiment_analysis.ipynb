{
 "cells": [
  {
   "cell_type": "markdown",
   "metadata": {},
   "source": [
    "### Create some dummy comments"
   ]
  },
  {
   "cell_type": "code",
   "execution_count": 2,
   "metadata": {},
   "outputs": [],
   "source": [
    "comments = [\"This was not a good game\",\n",
    "            \"No hubo ningún espíritu deportivo\",\n",
    "            \"@jose no tuvo ninguna oportunidad hoy\",\n",
    "            \"Ich Spreche Deutch\",\n",
    "            \"La competencia estuvo reñida\",\n",
    "            \"This is one of the worst football players in the season\",\n",
    "            \"I've never seen someone that skillful\",\n",
    "            \"La jugada del final estuvo muy cerca de hacer gol\",\n",
    "            \"Solo faltaba que le metieran otra roja\",\n",
    "            \"He is probably going to make it\",\n",
    "            \"Sucks for them\",\n",
    "            \"She had an injury\",\n",
    "            \"No puedo esperar a ver el siguiente partido\",\n",
    "            \"El será el ganador de la vuelta\",\n",
    "            \"Se nota que estuvo entrenando en verano\",\n",
    "            \"Ojalá lo compre el otro equipo\",\n",
    "            \"Su condición ha desmejorado desde la última temporada\",\n",
    "            \"No ha conseguido el título en más de tres años\"]"
   ]
  },
  {
   "cell_type": "markdown",
   "metadata": {},
   "source": [
    "### Preprocess the comments"
   ]
  },
  {
   "cell_type": "code",
   "execution_count": 3,
   "metadata": {},
   "outputs": [
    {
     "name": "stderr",
     "output_type": "stream",
     "text": [
      "c:\\Users\\DANIEL\\Desktop\\ITSENSE\\Vertikal\\vertikal\\lib\\site-packages\\tqdm\\auto.py:22: TqdmWarning: IProgress not found. Please update jupyter and ipywidgets. See https://ipywidgets.readthedocs.io/en/stable/user_install.html\n",
      "  from .autonotebook import tqdm as notebook_tqdm\n"
     ]
    }
   ],
   "source": [
    "from pysentimiento.preprocessing import preprocess_tweet\n",
    "\n",
    "\n",
    "preprocessed_comments = [preprocess_tweet(comment) for comment in comments]"
   ]
  },
  {
   "cell_type": "markdown",
   "metadata": {},
   "source": [
    "### Detect the language"
   ]
  },
  {
   "cell_type": "code",
   "execution_count": 4,
   "metadata": {},
   "outputs": [],
   "source": [
    "import torch\n",
    "from transformers import AutoTokenizer, AutoModelForSequenceClassification"
   ]
  },
  {
   "cell_type": "code",
   "execution_count": 5,
   "metadata": {},
   "outputs": [],
   "source": [
    "tokenizer = AutoTokenizer.from_pretrained(\"papluca/xlm-roberta-base-language-detection\")\n",
    "language_detector = AutoModelForSequenceClassification.from_pretrained(\"papluca/xlm-roberta-base-language-detection\")"
   ]
  },
  {
   "cell_type": "code",
   "execution_count": 6,
   "metadata": {},
   "outputs": [],
   "source": [
    "languages_detected = []\n",
    "for comment in preprocessed_comments:\n",
    "    inputs = tokenizer(comment, return_tensors=\"pt\")\n",
    "    with torch.no_grad():\n",
    "        logits = language_detector(**inputs).logits\n",
    "    predicted_class_id = logits.argmax().item()\n",
    "    languages_detected.append(language_detector.config.id2label[predicted_class_id])"
   ]
  },
  {
   "cell_type": "markdown",
   "metadata": {},
   "source": [
    "### Predict the sentiment"
   ]
  },
  {
   "cell_type": "code",
   "execution_count": null,
   "metadata": {},
   "outputs": [],
   "source": [
    "from pysentimiento import create_analyzer\n",
    "\n",
    "analyzer_en = create_analyzer(task=\"sentiment\", lang=\"en\")\n",
    "analyzer_es = create_analyzer(task=\"sentiment\", lang=\"es\")"
   ]
  },
  {
   "cell_type": "code",
   "execution_count": 8,
   "metadata": {},
   "outputs": [],
   "source": [
    "sentiment_probas = []\n",
    "for ix in range(len(preprocessed_comments)):\n",
    "    if languages_detected[ix] == \"en\":\n",
    "        estimation = analyzer_en.predict(preprocessed_comments[ix]).probas\n",
    "    elif languages_detected[ix] == \"es\":\n",
    "        estimation = analyzer_es.predict(preprocessed_comments[ix]).probas\n",
    "    else:\n",
    "        estimation = {'NEG': 0, 'NEU': 1, 'POS': 0}\n",
    "    sentiment_probas.append(estimation)"
   ]
  },
  {
   "cell_type": "code",
   "execution_count": 9,
   "metadata": {},
   "outputs": [],
   "source": [
    "import numpy as np\n",
    "def rescale_probs(proba_dict):\n",
    "    keys, values = list(proba_dict.keys()), list(proba_dict.values())\n",
    "    pred_key = keys[np.argmax(values)]\n",
    "    pred_value = 0\n",
    "    if pred_key == \"NEG\":\n",
    "        pred_value = 1-np.max(values)\n",
    "    elif pred_key == \"POS\":\n",
    "        pred_value = np.max(values)\n",
    "    else:\n",
    "        neg_value = values[0]\n",
    "        pos_value = values[-1]\n",
    "\n",
    "        add_val = pos_value if pos_value > neg_value else -neg_value\n",
    "\n",
    "        pred_value = 0.5 + (1-np.max(values))*add_val/2\n",
    "    return pred_value"
   ]
  },
  {
   "cell_type": "code",
   "execution_count": 10,
   "metadata": {},
   "outputs": [],
   "source": [
    "sentiment = [rescale_probs(probs) for probs in sentiment_probas]"
   ]
  },
  {
   "cell_type": "code",
   "execution_count": 11,
   "metadata": {},
   "outputs": [
    {
     "data": {
      "text/html": [
       "<div>\n",
       "<style scoped>\n",
       "    .dataframe tbody tr th:only-of-type {\n",
       "        vertical-align: middle;\n",
       "    }\n",
       "\n",
       "    .dataframe tbody tr th {\n",
       "        vertical-align: top;\n",
       "    }\n",
       "\n",
       "    .dataframe thead th {\n",
       "        text-align: right;\n",
       "    }\n",
       "</style>\n",
       "<table border=\"1\" class=\"dataframe\">\n",
       "  <thead>\n",
       "    <tr style=\"text-align: right;\">\n",
       "      <th></th>\n",
       "      <th>Comment</th>\n",
       "      <th>Language</th>\n",
       "      <th>Sentiment</th>\n",
       "    </tr>\n",
       "  </thead>\n",
       "  <tbody>\n",
       "    <tr>\n",
       "      <th>0</th>\n",
       "      <td>This was not a good game</td>\n",
       "      <td>en</td>\n",
       "      <td>0.018816</td>\n",
       "    </tr>\n",
       "    <tr>\n",
       "      <th>1</th>\n",
       "      <td>No hubo ningún espíritu deportivo</td>\n",
       "      <td>es</td>\n",
       "      <td>0.378782</td>\n",
       "    </tr>\n",
       "    <tr>\n",
       "      <th>2</th>\n",
       "      <td>@jose no tuvo ninguna oportunidad hoy</td>\n",
       "      <td>es</td>\n",
       "      <td>0.005745</td>\n",
       "    </tr>\n",
       "    <tr>\n",
       "      <th>3</th>\n",
       "      <td>Ich Spreche Deutch</td>\n",
       "      <td>de</td>\n",
       "      <td>0.500000</td>\n",
       "    </tr>\n",
       "    <tr>\n",
       "      <th>4</th>\n",
       "      <td>La competencia estuvo reñida</td>\n",
       "      <td>es</td>\n",
       "      <td>0.494178</td>\n",
       "    </tr>\n",
       "    <tr>\n",
       "      <th>5</th>\n",
       "      <td>This is one of the worst football players in t...</td>\n",
       "      <td>en</td>\n",
       "      <td>0.016167</td>\n",
       "    </tr>\n",
       "    <tr>\n",
       "      <th>6</th>\n",
       "      <td>I've never seen someone that skillful</td>\n",
       "      <td>en</td>\n",
       "      <td>0.969795</td>\n",
       "    </tr>\n",
       "    <tr>\n",
       "      <th>7</th>\n",
       "      <td>La jugada del final estuvo muy cerca de hacer gol</td>\n",
       "      <td>es</td>\n",
       "      <td>0.625783</td>\n",
       "    </tr>\n",
       "    <tr>\n",
       "      <th>8</th>\n",
       "      <td>Solo faltaba que le metieran otra roja</td>\n",
       "      <td>es</td>\n",
       "      <td>0.015776</td>\n",
       "    </tr>\n",
       "    <tr>\n",
       "      <th>9</th>\n",
       "      <td>He is probably going to make it</td>\n",
       "      <td>en</td>\n",
       "      <td>0.696235</td>\n",
       "    </tr>\n",
       "    <tr>\n",
       "      <th>10</th>\n",
       "      <td>Sucks for them</td>\n",
       "      <td>en</td>\n",
       "      <td>0.028937</td>\n",
       "    </tr>\n",
       "    <tr>\n",
       "      <th>11</th>\n",
       "      <td>She had an injury</td>\n",
       "      <td>en</td>\n",
       "      <td>0.138478</td>\n",
       "    </tr>\n",
       "    <tr>\n",
       "      <th>12</th>\n",
       "      <td>No puedo esperar a ver el siguiente partido</td>\n",
       "      <td>es</td>\n",
       "      <td>0.246745</td>\n",
       "    </tr>\n",
       "    <tr>\n",
       "      <th>13</th>\n",
       "      <td>El será el ganador de la vuelta</td>\n",
       "      <td>es</td>\n",
       "      <td>0.505066</td>\n",
       "    </tr>\n",
       "    <tr>\n",
       "      <th>14</th>\n",
       "      <td>Se nota que estuvo entrenando en verano</td>\n",
       "      <td>es</td>\n",
       "      <td>0.494885</td>\n",
       "    </tr>\n",
       "    <tr>\n",
       "      <th>15</th>\n",
       "      <td>Ojalá lo compre el otro equipo</td>\n",
       "      <td>es</td>\n",
       "      <td>0.509702</td>\n",
       "    </tr>\n",
       "    <tr>\n",
       "      <th>16</th>\n",
       "      <td>Su condición ha desmejorado desde la última te...</td>\n",
       "      <td>es</td>\n",
       "      <td>0.021608</td>\n",
       "    </tr>\n",
       "    <tr>\n",
       "      <th>17</th>\n",
       "      <td>No ha conseguido el título en más de tres años</td>\n",
       "      <td>es</td>\n",
       "      <td>0.081485</td>\n",
       "    </tr>\n",
       "  </tbody>\n",
       "</table>\n",
       "</div>"
      ],
      "text/plain": [
       "                                              Comment Language  Sentiment\n",
       "0                            This was not a good game       en   0.018816\n",
       "1                   No hubo ningún espíritu deportivo       es   0.378782\n",
       "2               @jose no tuvo ninguna oportunidad hoy       es   0.005745\n",
       "3                                  Ich Spreche Deutch       de   0.500000\n",
       "4                        La competencia estuvo reñida       es   0.494178\n",
       "5   This is one of the worst football players in t...       en   0.016167\n",
       "6               I've never seen someone that skillful       en   0.969795\n",
       "7   La jugada del final estuvo muy cerca de hacer gol       es   0.625783\n",
       "8              Solo faltaba que le metieran otra roja       es   0.015776\n",
       "9                     He is probably going to make it       en   0.696235\n",
       "10                                     Sucks for them       en   0.028937\n",
       "11                                  She had an injury       en   0.138478\n",
       "12        No puedo esperar a ver el siguiente partido       es   0.246745\n",
       "13                    El será el ganador de la vuelta       es   0.505066\n",
       "14            Se nota que estuvo entrenando en verano       es   0.494885\n",
       "15                     Ojalá lo compre el otro equipo       es   0.509702\n",
       "16  Su condición ha desmejorado desde la última te...       es   0.021608\n",
       "17     No ha conseguido el título en más de tres años       es   0.081485"
      ]
     },
     "execution_count": 11,
     "metadata": {},
     "output_type": "execute_result"
    }
   ],
   "source": [
    "import pandas as pd\n",
    "\n",
    "df = pd.DataFrame({\"Comment\": comments, \"Language\": languages_detected, \"Sentiment\": sentiment})\n",
    "df"
   ]
  },
  {
   "cell_type": "code",
   "execution_count": 12,
   "metadata": {},
   "outputs": [
    {
     "data": {
      "text/plain": [
       "0.3193434249047682"
      ]
     },
     "execution_count": 12,
     "metadata": {},
     "output_type": "execute_result"
    }
   ],
   "source": [
    "df[\"Sentiment\"].mean()"
   ]
  }
 ],
 "metadata": {
  "kernelspec": {
   "display_name": "Python 3.10.5 ('vertikal': venv)",
   "language": "python",
   "name": "python3"
  },
  "language_info": {
   "codemirror_mode": {
    "name": "ipython",
    "version": 3
   },
   "file_extension": ".py",
   "mimetype": "text/x-python",
   "name": "python",
   "nbconvert_exporter": "python",
   "pygments_lexer": "ipython3",
   "version": "3.10.5"
  },
  "orig_nbformat": 4,
  "vscode": {
   "interpreter": {
    "hash": "70258f4837e3f46022aa0137b5be3a4e9270dc89d52dc988758cb74f0ce7bbb8"
   }
  }
 },
 "nbformat": 4,
 "nbformat_minor": 2
}
