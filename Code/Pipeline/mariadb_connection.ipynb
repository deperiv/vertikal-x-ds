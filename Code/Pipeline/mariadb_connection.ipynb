{
 "cells": [
  {
   "cell_type": "code",
   "execution_count": 1,
   "metadata": {},
   "outputs": [
    {
     "name": "stdout",
     "output_type": "stream",
     "text": [
      "Collecting mariadb\n",
      "  Downloading mariadb-1.1.5.post3-cp310-cp310-win_amd64.whl (191 kB)\n",
      "     -------------------------------------- 191.0/191.0 kB 5.8 MB/s eta 0:00:00\n",
      "Requirement already satisfied: packaging in c:\\users\\daniel\\desktop\\itsense\\vertikal\\vertikal\\lib\\site-packages (from mariadb) (21.3)\n",
      "Requirement already satisfied: pyparsing!=3.0.5,>=2.0.2 in c:\\users\\daniel\\desktop\\itsense\\vertikal\\vertikal\\lib\\site-packages (from packaging->mariadb) (3.0.9)\n",
      "Installing collected packages: mariadb\n",
      "Successfully installed mariadb-1.1.5.post3\n"
     ]
    }
   ],
   "source": [
    "!pip install mariadb"
   ]
  },
  {
   "cell_type": "markdown",
   "metadata": {},
   "source": [
    "# Connection to MariaDB database"
   ]
  },
  {
   "cell_type": "code",
   "execution_count": 2,
   "metadata": {},
   "outputs": [],
   "source": [
    "# Module Imports\n",
    "import mariadb\n",
    "import sys\n",
    "\n",
    "# Connect to MariaDB Platform\n",
    "try:\n",
    "    conn = mariadb.connect(\n",
    "        user=\"root\",\n",
    "        password=\"itsensedba\",\n",
    "        host=\"localhost\",\n",
    "        port=3306,\n",
    "        database=\"bookstore\"\n",
    "\n",
    "    )\n",
    "except mariadb.Error as e:\n",
    "    print(f\"Error connecting to MariaDB Platform: {e}\")\n",
    "    sys.exit(1)\n",
    "\n",
    "# Get Cursor\n",
    "cur = conn.cursor()"
   ]
  },
  {
   "cell_type": "code",
   "execution_count": 3,
   "metadata": {},
   "outputs": [],
   "source": [
    "cur.execute(\"CREATE TABLE categories (name VARCHAR(30), count INTEGER)\");"
   ]
  },
  {
   "cell_type": "code",
   "execution_count": null,
   "metadata": {},
   "outputs": [],
   "source": []
  }
 ],
 "metadata": {
  "kernelspec": {
   "display_name": "Python 3.10.5 ('vertikal': venv)",
   "language": "python",
   "name": "python3"
  },
  "language_info": {
   "codemirror_mode": {
    "name": "ipython",
    "version": 3
   },
   "file_extension": ".py",
   "mimetype": "text/x-python",
   "name": "python",
   "nbconvert_exporter": "python",
   "pygments_lexer": "ipython3",
   "version": "3.10.5"
  },
  "orig_nbformat": 4,
  "vscode": {
   "interpreter": {
    "hash": "70258f4837e3f46022aa0137b5be3a4e9270dc89d52dc988758cb74f0ce7bbb8"
   }
  }
 },
 "nbformat": 4,
 "nbformat_minor": 2
}
