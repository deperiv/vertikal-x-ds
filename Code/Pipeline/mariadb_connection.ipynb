{
 "cells": [
  {
   "cell_type": "code",
   "execution_count": 1,
   "metadata": {},
   "outputs": [
    {
     "name": "stdout",
     "output_type": "stream",
     "text": [
      "Collecting mariadb\n",
      "  Downloading mariadb-1.1.5.post3-cp310-cp310-win_amd64.whl (191 kB)\n",
      "     -------------------------------------- 191.0/191.0 kB 5.8 MB/s eta 0:00:00\n",
      "Requirement already satisfied: packaging in c:\\users\\usuario\\desktop\\itsense\\vertikal-x-ds\\vertikal\\lib\\site-packages (from mariadb) (21.3)\n",
      "Requirement already satisfied: pyparsing!=3.0.5,>=2.0.2 in c:\\users\\usuario\\desktop\\itsense\\vertikal-x-ds\\vertikal\\lib\\site-packages (from packaging->mariadb) (3.0.9)\n",
      "Installing collected packages: mariadb\n",
      "Successfully installed mariadb-1.1.5.post3\n"
     ]
    }
   ],
   "source": [
    "!pip install mariadb"
   ]
  },
  {
   "cell_type": "markdown",
   "metadata": {},
   "source": [
    "## Connection to local MariaDB database"
   ]
  },
  {
   "cell_type": "code",
   "execution_count": 2,
   "metadata": {},
   "outputs": [],
   "source": [
    "# Module Imports\n",
    "import mariadb\n",
    "import sys\n",
    "\n",
    "# Connect to MariaDB Platform\n",
    "try:\n",
    "    conn = mariadb.connect(\n",
    "        user=\"root\",\n",
    "        password=\"itsense\",\n",
    "        host=\"localhost\",\n",
    "        port=3306,\n",
    "        database=\"vertikal\"\n",
    "\n",
    "    )\n",
    "except mariadb.Error as e:\n",
    "    print(f\"Error connecting to MariaDB Platform: {e}\")\n",
    "    sys.exit(1)\n",
    "\n",
    "# Get Cursor\n",
    "cur = conn.cursor()"
   ]
  },
  {
   "cell_type": "code",
   "execution_count": 5,
   "metadata": {},
   "outputs": [],
   "source": [
    "cur.execute(\"CREATE TABLE categories (name VARCHAR(30), count INTEGER);\")"
   ]
  },
  {
   "cell_type": "code",
   "execution_count": 4,
   "metadata": {},
   "outputs": [
    {
     "name": "stdout",
     "output_type": "stream",
     "text": [
      "<mariadb.cursor at 000001E301411000>\n"
     ]
    }
   ],
   "source": [
    "print(cur)"
   ]
  },
  {
   "cell_type": "markdown",
   "metadata": {},
   "source": [
    "## Connection to remote (AWS RDS) MariaDB database"
   ]
  },
  {
   "cell_type": "code",
   "execution_count": 1,
   "metadata": {},
   "outputs": [],
   "source": [
    "# Module Imports\n",
    "import mariadb\n",
    "import sys\n",
    "\n",
    "# Connect to MariaDB Platform\n",
    "try:\n",
    "    conn = mariadb.connect(\n",
    "        user=\"admin_vtx\",\n",
    "        password=\"Prueba12#\",\n",
    "        host=\"develop-free-vtx.csgmphwpjwca.us-east-1.rds.amazonaws.com\",\n",
    "        port=3306,\n",
    "        database=\"catalogs\"\n",
    "\n",
    "    )\n",
    "except mariadb.Error as e:\n",
    "    print(f\"Error connecting to MariaDB Platform: {e}\")\n",
    "    sys.exit(1)\n",
    "\n",
    "# Get Cursor\n",
    "cur = conn.cursor()"
   ]
  },
  {
   "cell_type": "code",
   "execution_count": 2,
   "metadata": {},
   "outputs": [
    {
     "name": "stdout",
     "output_type": "stream",
     "text": [
      "('countries',)\n",
      "('instagram_stats',)\n",
      "('roles',)\n",
      "('spis',)\n",
      "('twitter_stats',)\n",
      "('users',)\n"
     ]
    }
   ],
   "source": [
    "cur.execute(\"show tables;\")\n",
    "for res in cur:\n",
    "    print(res)"
   ]
  },
  {
   "cell_type": "markdown",
   "metadata": {},
   "source": [
    "### Creating the tables"
   ]
  },
  {
   "cell_type": "code",
   "execution_count": 3,
   "metadata": {},
   "outputs": [],
   "source": [
    "str_create_users_table = \"\"\"create table users(\n",
    "    id INT NOT NULL AUTO_INCREMENT,\n",
    "    name VARCHAR(100),\n",
    "    instagram_username VARCHAR(100),\n",
    "    twitter_username VARCHAR(100),\n",
    "    last_update DATETIME,\n",
    "    PRIMARY KEY(id));\n",
    "\"\"\"\n",
    "cur.execute(str_create_users_table)"
   ]
  },
  {
   "cell_type": "code",
   "execution_count": 5,
   "metadata": {},
   "outputs": [],
   "source": [
    "str_create_ig_table = \"\"\"create table instagram_stats(\n",
    "    record_id INT NOT NULL AUTO_INCREMENT,\n",
    "    user_id INT,\n",
    "    instagram_username VARCHAR(100),\n",
    "    n_followers INT,\n",
    "    n_posts_total INT,\n",
    "    n_likes_retrieved INT,\n",
    "    n_comments_retrieved INT,\n",
    "    sentiment FLOAT,\n",
    "    engagement FLOAT,\n",
    "    spi FLOAT,\n",
    "    created_at DATETIME,\n",
    "    PRIMARY KEY(record_id));\n",
    "\"\"\"\n",
    "cur.execute(str_create_ig_table)"
   ]
  },
  {
   "cell_type": "code",
   "execution_count": 6,
   "metadata": {},
   "outputs": [],
   "source": [
    "str_create_tw_table = \"\"\"create table twitter_stats(\n",
    "    record_id INT NOT NULL AUTO_INCREMENT,\n",
    "    user_id INT,\n",
    "    twitter_username VARCHAR(100),\n",
    "    n_followers INT,\n",
    "    n_retweets INT,\n",
    "    n_tweets INT,\n",
    "    n_retweets_to_user INT,\n",
    "    n_favorites_to_user INT,\n",
    "    n_replies_to_user INT,\n",
    "    sentiment FLOAT,\n",
    "    engagement FLOAT,\n",
    "    spi FLOAT,\n",
    "    created_at DATETIME,\n",
    "    PRIMARY KEY(record_id));\n",
    "\"\"\"\n",
    "cur.execute(str_create_tw_table)"
   ]
  },
  {
   "cell_type": "code",
   "execution_count": 7,
   "metadata": {},
   "outputs": [],
   "source": [
    "str_create_spis_table = \"\"\"create table spis(\n",
    "    record_id INT NOT NULL AUTO_INCREMENT,\n",
    "    user_id INT,\n",
    "    spi FLOAT,\n",
    "    spi_instagram FLOAT,\n",
    "    spi_twitter FLOAT,\n",
    "    created_at DATETIME,\n",
    "    PRIMARY KEY(record_id));\n",
    "\"\"\"\n",
    "cur.execute(str_create_spis_table)"
   ]
  },
  {
   "cell_type": "code",
   "execution_count": 8,
   "metadata": {},
   "outputs": [
    {
     "name": "stdout",
     "output_type": "stream",
     "text": [
      "('countries',)\n",
      "('instagram_stats',)\n",
      "('roles',)\n",
      "('spis',)\n",
      "('twitter_stats',)\n",
      "('users',)\n"
     ]
    }
   ],
   "source": [
    "cur.execute(\"show tables;\")\n",
    "for res in cur:\n",
    "    print(res)"
   ]
  },
  {
   "cell_type": "code",
   "execution_count": null,
   "metadata": {},
   "outputs": [],
   "source": [
    "conn.commit()"
   ]
  },
  {
   "cell_type": "markdown",
   "metadata": {},
   "source": [
    "### Populate users table"
   ]
  },
  {
   "cell_type": "code",
   "execution_count": 10,
   "metadata": {},
   "outputs": [],
   "source": [
    "users_dict = {\n",
    "    \"cristiano\": {\n",
    "        \"instagram\": \"cristiano\",\n",
    "        \"twitter\": \"Cristiano\"\n",
    "    },\n",
    "    \"messi\": {\n",
    "        \"instagram\": \"leomessi\",\n",
    "        \"twitter\": \"Ieomessiok\"\n",
    "    },\n",
    "    \"lebron\": {\n",
    "        \"instagram\": \"lebron\",\n",
    "        \"twitter\": \"KingJames\"\n",
    "    },\n",
    "    \"nadal\": {\n",
    "        \"instagram\": \"rafaelnadal\",\n",
    "        \"twitter\": \"RafaelNadal\"\n",
    "    },\n",
    "    \"mayweather\": {\n",
    "        \"instagram\": \"floydmayweather\",\n",
    "        \"twitter\": \"FloydMayweather\"\n",
    "    }\n",
    "}"
   ]
  },
  {
   "cell_type": "code",
   "execution_count": 11,
   "metadata": {},
   "outputs": [],
   "source": [
    "for username in users_dict.keys():\n",
    "    ig_username = users_dict[username][\"instagram\"]\n",
    "    tw_username = users_dict[username][\"twitter\"]\n",
    "    str_to_ex = f\"INSERT INTO users (name, instagram_username, twitter_username, last_update) VALUES ('{username}', '{ig_username}', '{tw_username}', now());\"\n",
    "    cur.execute(str_to_ex)\n",
    "str_to_ex = f\"INSERT INTO users (name, instagram_username, last_update) VALUES ('FalcaoGarcia', 'falcao', now());\"\n",
    "cur.execute(str_to_ex)\n",
    "conn.commit()"
   ]
  },
  {
   "cell_type": "code",
   "execution_count": 16,
   "metadata": {},
   "outputs": [
    {
     "name": "stdout",
     "output_type": "stream",
     "text": [
      "('countries',)\n",
      "('instagram_stats',)\n",
      "('roles',)\n",
      "('spis',)\n",
      "('twitter_stats',)\n",
      "('users',)\n"
     ]
    }
   ],
   "source": [
    "cur.execute(\"show tables;\")\n",
    "for res in cur:\n",
    "    print(res)"
   ]
  },
  {
   "cell_type": "code",
   "execution_count": 29,
   "metadata": {},
   "outputs": [],
   "source": [
    "cur.execute(\"ALTER TABLE twitter_stats MODIFY user_id VARCHAR(50);\")"
   ]
  },
  {
   "cell_type": "code",
   "execution_count": 30,
   "metadata": {},
   "outputs": [],
   "source": [
    "conn.commit()"
   ]
  },
  {
   "cell_type": "markdown",
   "metadata": {},
   "source": [
    "### Fetch records"
   ]
  },
  {
   "cell_type": "code",
   "execution_count": 4,
   "metadata": {},
   "outputs": [
    {
     "name": "stdout",
     "output_type": "stream",
     "text": [
      "1 1 84.5833 83.3333 87.5 2022-11-29 21:00:01\n",
      "2 2 67.6667 61.6667 81.6667 2022-11-29 21:00:01\n",
      "3 3 56.0 50.0 70.0 2022-11-29 21:00:01\n",
      "4 4 63.5 70.0 48.3333 2022-11-29 21:00:01\n",
      "5 5 42.5 45.0 36.6667 2022-11-29 21:00:01\n",
      "6 6 35.75 40.0 25.8333 2022-11-29 21:00:01\n",
      "7 1 74.3823 67.8594 89.6022 2022-11-30 14:18:08\n",
      "8 2 75.4908 75.2787 75.9858 2022-11-30 14:18:08\n",
      "9 3 62.0295 56.944 73.8956 2022-11-30 14:18:08\n",
      "10 4 59.4496 69.6423 35.6666 2022-11-30 14:18:08\n",
      "11 5 38.3181 37.5973 40.0 2022-11-30 14:18:08\n",
      "12 6 38.324 42.2486 29.1667 2022-11-30 14:18:08\n"
     ]
    }
   ],
   "source": [
    "cur.execute(\"SELECT * FROM spis;\")\n",
    "\n",
    "for record_id , user_id, spi, spi_instagram, spi_twitter, created_at in cur: \n",
    "    print(record_id , user_id, spi, spi_instagram, spi_twitter, created_at)"
   ]
  },
  {
   "cell_type": "code",
   "execution_count": 3,
   "metadata": {},
   "outputs": [
    {
     "name": "stdout",
     "output_type": "stream",
     "text": [
      "1 Cristiano 105473213 0 5 178658 2280012 10 0.566789 2.33109 87.5 2022-11-29 21:00:00\n",
      "2 Ieomessiok 596106 0 3 25145 337586 10 0.603595 60.8518 81.6667 2022-11-29 21:00:00\n",
      "3 KingJames 52487565 0 5 5562 99813 6 0.354371 0.200773 70.0 2022-11-29 21:00:01\n",
      "4 RafaelNadal 15822193 0 1 185 1687 0 0.2 0.0118315 48.3333 2022-11-29 21:00:01\n",
      "5 FloydMayweather 7831890 0 0 0 0 0 0.2 0.0 36.6667 2022-11-29 21:00:01\n",
      "6  0 0 0 0 0 0 0.0 0.0 25.8333 2022-11-29 21:00:01\n",
      "1 Cristiano 105491332 0 5 179204 2292960 4 0.627359 2.34348 89.6022 2022-11-30 14:18:07\n",
      "2 Ieomessiok 597907 0 2 18939 263415 10 0.605861 47.2254 75.9858 2022-11-30 14:18:07\n",
      "3 KingJames 52489349 0 5 5437 85539 9 0.506518 0.17334 73.8956 2022-11-30 14:18:07\n",
      "4 RafaelNadal 15821354 0 0 0 0 0 0.2 0.0 35.6666 2022-11-30 14:18:07\n",
      "5 FloydMayweather 7831858 0 0 0 0 0 0.2 0.0 40.0 2022-11-30 14:18:08\n",
      "6  0 0 0 0 0 0 0.0 0.0 29.1667 2022-11-30 14:18:08\n"
     ]
    }
   ],
   "source": [
    "cur.execute(\"SELECT * FROM twitter_stats;\")\n",
    "\n",
    "for record_id, user_id, twitter_username, n_followers, n_retweets , n_tweets , n_retweets_to_user , n_favorites_to_user, n_replies_to_user, sentiment, engagement, spi, created_at in cur:\n",
    "    print(user_id, twitter_username, n_followers, n_retweets , n_tweets , n_retweets_to_user , n_favorites_to_user, n_replies_to_user, sentiment, engagement, spi, created_at)"
   ]
  },
  {
   "cell_type": "code",
   "execution_count": 5,
   "metadata": {},
   "outputs": [
    {
     "name": "stdout",
     "output_type": "stream",
     "text": [
      "1 cristiano 505935967 3406 120727743 164 0.633487 23.8623 83.3333 2022-11-29 20:59:59\n",
      "2 leomessi 381476211 951 103052362 379 0.589194 27.0142 61.6667 2022-11-29 20:59:59\n",
      "3 lebron 664112 2962 118923 320 0.628718 17.9553 50.0 2022-11-29 20:59:59\n",
      "4 rafaelnadal 17111156 1249 2103656 354 0.72155 12.2961 70.0 2022-11-29 21:00:00\n",
      "5 floydmayweather 28513065 1043 1868782 372 0.590469 6.55543 45.0 2022-11-29 21:00:00\n",
      "6 falcao 15979213 1326 978682 336 0.606334 6.12682 40.0 2022-11-29 21:00:00\n",
      "1 cristiano 506131144 3406 121880474 138 0.604086 24.0808 67.8594 2022-11-30 14:18:05\n",
      "2 leomessi 381722478 951 103304519 364 0.621404 27.0628 75.2787 2022-11-30 14:18:05\n",
      "3 lebron 664382 2962 124540 337 0.627219 18.796 56.944 2022-11-30 14:18:06\n",
      "4 rafaelnadal 17116424 1250 1972534 359 0.70962 11.5263 69.6423 2022-11-30 14:18:06\n",
      "5 floydmayweather 28514730 1044 1641702 382 0.567736 5.75872 37.5973 2022-11-30 14:18:06\n",
      "6 falcao 15981688 1326 1088918 336 0.613961 6.81564 42.2486 2022-11-30 14:18:06\n"
     ]
    }
   ],
   "source": [
    "cur.execute(\"SELECT * FROM instagram_stats;\")\n",
    "\n",
    "for record_id, user_id, instagram_username, n_followers, n_posts_total , n_likes_retrieved , n_comments_retrieved , sentiment, engagement, spi, created_at in cur:\n",
    "    print(user_id, instagram_username, n_followers, n_posts_total , n_likes_retrieved , n_comments_retrieved , sentiment, engagement, spi, created_at)"
   ]
  },
  {
   "cell_type": "code",
   "execution_count": null,
   "metadata": {},
   "outputs": [],
   "source": []
  }
 ],
 "metadata": {
  "kernelspec": {
   "display_name": "Python 3.10.5 ('vertikal': venv)",
   "language": "python",
   "name": "python3"
  },
  "language_info": {
   "codemirror_mode": {
    "name": "ipython",
    "version": 3
   },
   "file_extension": ".py",
   "mimetype": "text/x-python",
   "name": "python",
   "nbconvert_exporter": "python",
   "pygments_lexer": "ipython3",
   "version": "3.10.5"
  },
  "orig_nbformat": 4,
  "vscode": {
   "interpreter": {
    "hash": "e913dea22872b8422dde9c26cf8e26d36f88ecb032e643571cad571865b2a70d"
   }
  }
 },
 "nbformat": 4,
 "nbformat_minor": 2
}
