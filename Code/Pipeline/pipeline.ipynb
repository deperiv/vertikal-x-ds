{
 "cells": [
  {
   "cell_type": "markdown",
   "metadata": {},
   "source": [
    "# SPI Pipeline"
   ]
  },
  {
   "cell_type": "markdown",
   "metadata": {},
   "source": [
    "1. Get info about users in Instagram and Twitter\n",
    "2. Compute sentiment\n",
    "3. Get percentiles\n"
   ]
  },
  {
   "cell_type": "markdown",
   "metadata": {},
   "source": [
    "## Import libraries"
   ]
  },
  {
   "cell_type": "code",
   "execution_count": 1,
   "metadata": {},
   "outputs": [],
   "source": [
    "from instagrapi                  import Client\n",
    "from datetime                    import date\n",
    "from pysentimiento.preprocessing import preprocess_tweet\n",
    "from transformers                import AutoTokenizer, AutoModelForSequenceClassification\n",
    "from pysentimiento               import create_analyzer\n",
    "from datetime                    import datetime as dt\n",
    "\n",
    "import pandas   as  pd\n",
    "import numpy    as  np\n",
    "\n",
    "import torch\n",
    "import tweepy\n",
    "import time\n",
    "\n",
    "\n"
   ]
  },
  {
   "cell_type": "markdown",
   "metadata": {},
   "source": [
    "## Import models"
   ]
  },
  {
   "cell_type": "code",
   "execution_count": null,
   "metadata": {},
   "outputs": [],
   "source": [
    "tokenizer = AutoTokenizer.from_pretrained(\"papluca/xlm-roberta-base-language-detection\")\n",
    "language_detector = AutoModelForSequenceClassification.from_pretrained(\"papluca/xlm-roberta-base-language-detection\")\n",
    "analyzer_en = create_analyzer(task=\"sentiment\", lang=\"en\")\n",
    "analyzer_es = create_analyzer(task=\"sentiment\", lang=\"es\")"
   ]
  },
  {
   "cell_type": "code",
   "execution_count": 3,
   "metadata": {},
   "outputs": [],
   "source": [
    "def rescale_probs(proba_dict):\n",
    "    keys, values = list(proba_dict.keys()), list(proba_dict.values())\n",
    "    pred_key = keys[np.argmax(values)]\n",
    "    pred_value = 0\n",
    "    if pred_key == \"NEG\":\n",
    "        pred_value = 1-np.max(values)\n",
    "    elif pred_key == \"POS\":\n",
    "        pred_value = np.max(values)\n",
    "    else:\n",
    "        neg_value = values[0]\n",
    "        pos_value = values[-1]\n",
    "\n",
    "        add_val = pos_value if pos_value > neg_value else -neg_value\n",
    "\n",
    "        pred_value = 0.5 + (1-np.max(values))*add_val/2\n",
    "    return pred_value\n",
    "    \n",
    "def preprocess_comment_adv(string_, max_word_count=50):\n",
    "    substrs_to_remove = [\"cara emoji\", \"emoji\", \"   \", \"\\n\"]\n",
    "    procs_str = preprocess_tweet(string_)\n",
    "    for substr in substrs_to_remove:\n",
    "        procs_str = procs_str.replace(substr, \"\")\n",
    "    procs_str = procs_str.replace(\"Jjaja\", \"Jajaja\")\n",
    "    \n",
    "    return \" \".join(procs_str.split(\" \")[:max_word_count])\n",
    "\n",
    "def get_sentiment(comments, lang_detector, en_analyzer, sp_analyzer, tokenizer):\n",
    "    # Quitar esto\n",
    "    if len(comments) == 0: # Sentimiento del usuario cuando no tiene comentarios = 0.5\n",
    "        return 0.5\n",
    "    else:\n",
    "        preprocessed_comments = [preprocess_comment_adv(comment) for comment in comments]\n",
    "        languages_detected = []\n",
    "        for comment in preprocessed_comments:\n",
    "            inputs = tokenizer(comment, return_tensors=\"pt\")\n",
    "            with torch.no_grad():\n",
    "                logits = lang_detector(**inputs).logits\n",
    "            predicted_class_id = logits.argmax().item()\n",
    "            languages_detected.append(lang_detector.config.id2label[predicted_class_id])\n",
    "\n",
    "        sentiment_probas = []\n",
    "        for ix in range(len(preprocessed_comments)):\n",
    "            if languages_detected[ix] == \"en\":\n",
    "                estimation = en_analyzer.predict(preprocessed_comments[ix]).probas\n",
    "            elif languages_detected[ix] == \"es\" or languages_detected[ix] == \"pt\":\n",
    "                estimation = sp_analyzer.predict(preprocessed_comments[ix]).probas\n",
    "            else:\n",
    "                estimation = {'NEG': 0, 'NEU': 1, 'POS': 0}\n",
    "            sentiment_probas.append(estimation)\n",
    "\n",
    "        sentiment = [rescale_probs(probs) for probs in sentiment_probas]\n",
    "        df = pd.DataFrame({\"Comment\": comments, \"Language\": languages_detected, \"Sentiment\": sentiment})\n",
    "\n",
    "        return df[\"Sentiment\"].mean()"
   ]
  },
  {
   "cell_type": "markdown",
   "metadata": {},
   "source": [
    "## Instantiate tokens and declare methods for Instagram and Twitter retrieval of data"
   ]
  },
  {
   "cell_type": "code",
   "execution_count": 62,
   "metadata": {},
   "outputs": [
    {
     "data": {
      "text/plain": [
       "72"
      ]
     },
     "execution_count": 62,
     "metadata": {},
     "output_type": "execute_result"
    }
   ],
   "source": [
    "sum([8,5,6,8,45])"
   ]
  },
  {
   "cell_type": "code",
   "execution_count": 88,
   "metadata": {},
   "outputs": [
    {
     "name": "stderr",
     "output_type": "stream",
     "text": [
      "Status 429: Too many requests\n",
      "Ignore 429: Continue login\n"
     ]
    }
   ],
   "source": [
    "# --- INSTAGRAM ---\n",
    "\n",
    "cl = Client()\n",
    "# cl.login(\"clyde_donovan_2022\", \"clyde_donovan_2022_\")\n",
    "# cl.login(\"chrismiller202212\", \"1OE0t5@Po9*z_\")\n",
    "cl.login(\"samanthaoakley202212\", \"1OE0t5@Po9*z\")\n",
    "\n",
    "def extract_text(comment):\n",
    "    comments_text_ls = []\n",
    "    if len(comment[0]) != 0:\n",
    "        comments_text_ls = [comment.text for comment in comment[0]]\n",
    "    return comments_text_ls\n",
    "\n",
    "def get_ig_data(cl, username, max_posts=5, max_comments=10): \n",
    "\n",
    "    user_id = cl.user_id_from_username(username)\n",
    "    posts = cl.user_medias(user_id)\n",
    "    user_information = cl.user_info(user_id)\n",
    "\n",
    "    n_followers = user_information.follower_count\n",
    "    n_following = user_information.following_count\n",
    "    n_posts = user_information.media_count\n",
    "\n",
    "    # time.sleep(60)\n",
    "    \n",
    "    posts_info = {}\n",
    "\n",
    "    for i, post in enumerate(posts):\n",
    "        if i >= max_posts:\n",
    "            posts_info[post.id] = {\n",
    "                                \"n_comments\": post.comment_count, \n",
    "                                \"n_likes\": post.like_count, \n",
    "                                \"caption\": post.caption_text, \n",
    "                                \"comments_text\": []\n",
    "                                }    \n",
    "        else: \n",
    "            posts_info[post.id] = {\n",
    "                                    \"n_comments\": post.comment_count, \n",
    "                                    \"n_likes\": post.like_count, \n",
    "                                    \"caption\": post.caption_text, \n",
    "                                    \"comments_text\": extract_text(cl.media_comments_chunk(post.id, max_amount=max_comments))\n",
    "                                    }                              \n",
    "    # time.sleep(60)\n",
    "    user_data = {\n",
    "        \"user_name\": username,\n",
    "        \"user_id\": user_id,\n",
    "        \"n_followers\": n_followers,\n",
    "        \"n_following\": n_following,\n",
    "        \"n_posts_total\": n_posts,\n",
    "        \"n_posts_retrieved\": len(posts_info),\n",
    "        \"n_likes_total\": sum([posts_info[key][\"n_comments\"] for key in posts_info.keys()]),\n",
    "        \"n_likes_retrieved\": sum([posts_info[key][\"n_likes\"] for key in list(posts_info.keys())[:max_posts]]),\n",
    "        \"n_comments_total\": sum([posts_info[key][\"n_comments\"] for key in posts_info.keys()]),\n",
    "        \"n_comments_retrieved\": sum([len(posts_info[key][\"comments_text\"]) for key in posts_info.keys()]),\n",
    "        \"created_at\": dt.now(),\n",
    "        \"posts_info\": posts_info\n",
    "    }\n",
    "    return user_data\n",
    "\n",
    "# --- TWITTER ---\n",
    "\n",
    "CONSUMER_KEY = 'P8uR3oU2eTF1hZw2SX1lma8Zw'\n",
    "CONSUMER_SECRET = 'Kg85hTJdliuTdFroydQvoRsg7cpr5WZm2MdEQtCz8EjcjG04dp'\n",
    "ACCESS_TOKEN = '386339280-5sy1Smvnkw91cBObIwu3ju6aMQJU4B8X8HZNsDSo'\n",
    "ACCESS_TOKEN_SECRET = 'WuZNLBRfzZgT6DIDnZOPqaVlt8uMtrvOUJ9aSbUwkmocD'\n",
    "\n",
    "auth = tweepy.OAuth1UserHandler(\n",
    "    CONSUMER_KEY, \n",
    "    CONSUMER_SECRET, \n",
    "    ACCESS_TOKEN, \n",
    "    ACCESS_TOKEN_SECRET\n",
    ")\n",
    "\n",
    "api = tweepy.API(auth, wait_on_rate_limit=True)\n",
    "\n",
    "twitter_username = \"\"\n",
    "\n",
    "def get_replies(api, username, tweet_id, max_replies=10, max_attempts=20):\n",
    "    replies = tweepy.Cursor(api.search_tweets, q='to:{}'.format(username),\n",
    "                                    since_id=tweet_id, tweet_mode='extended').items()\n",
    "\n",
    "    replies_ls = []\n",
    "\n",
    "    counter_fetched_rep = 0\n",
    "    counter_attempts = 0\n",
    "    while counter_fetched_rep < max_replies and counter_attempts < max_attempts:\n",
    "        try:\n",
    "            reply = replies.next()\n",
    "            if not hasattr(reply, 'in_reply_to_status_id_str'):\n",
    "                continue\n",
    "            if reply.in_reply_to_status_id == tweet_id:\n",
    "                replies_ls.append(reply.full_text)\n",
    "                counter_fetched_rep = counter_fetched_rep + 1 \n",
    "            counter_attempts = counter_attempts + 1 \n",
    "\n",
    "        except StopIteration:\n",
    "            break\n",
    "\n",
    "        except Exception as e:\n",
    "            print(\"Failed while fetching replies {}\".format(e))\n",
    "            break\n",
    "    return replies_ls\n",
    "\n",
    "def get_twitter_data(api, username, max_tweets=5, max_replies=10):\n",
    "    \n",
    "    n_followers = api.search_users(username)[0].followers_count\n",
    "    extracted_tweets = []\n",
    "\n",
    "    for status in tweepy.Cursor(api.search_tweets, \n",
    "                                f\"from:{username}\",\n",
    "                                count=max_tweets).items(max_tweets):\n",
    "        extracted_tweets.append(status)\n",
    "    retweets = [tweet for tweet in extracted_tweets if \"RT @\" in tweet.text]\n",
    "    tweets = set(extracted_tweets) - set(retweets)\n",
    "    n_retweets = len(retweets)\n",
    "    n_tweets = len(tweets)\n",
    "    n_id_ls = []\n",
    "    n_retweets_ls = []\n",
    "    n_favorites_ls = []\n",
    "    tweet_text_ls = []\n",
    "    for tweet in tweets:\n",
    "        n_id_ls.append(tweet.id)\n",
    "        n_retweets_ls.append(tweet.retweet_count)\n",
    "        n_favorites_ls.append(tweet.favorite_count)\n",
    "        tweet_text_ls.append(tweet.text)\n",
    "    replies_ls = [get_replies(api, username, tweet_id, max_replies=max_replies) for tweet_id in n_id_ls]\n",
    "\n",
    "    user_data = {\n",
    "        \"user_name\": username,\n",
    "        \"n_followers\": n_followers,\n",
    "        \"n_retweets\": n_retweets,\n",
    "        \"n_tweets\": n_tweets,\n",
    "        \"n_retweets_to_user\": sum(n_retweets_ls),\n",
    "        \"n_favorites_to_user\": sum(n_favorites_ls),\n",
    "        \"n_replies_to_user\": sum([len(replies_post) for replies_post in replies_ls]),\n",
    "        \"tweets_text\": tweet_text_ls,\n",
    "        \"tweets_replies\": replies_ls,\n",
    "        \"created_at\": dt.now()\n",
    "    }\n",
    "\n",
    "    return user_data\n",
    "\n",
    "def get_comments_ls(data_dict, mode=\"ig\"):\n",
    "    all_comments = []\n",
    "    if mode==\"ig\":\n",
    "        for post_id in data_dict['posts_info'].keys():\n",
    "            all_comments.extend(data_dict['posts_info'][post_id][\"comments_text\"])\n",
    "    else:\n",
    "        for tweet_replies in data_dict[\"tweets_replies\"]:\n",
    "            for comment in tweet_replies:\n",
    "                all_comments.append(comment)\n",
    "    return all_comments"
   ]
  },
  {
   "cell_type": "markdown",
   "metadata": {},
   "source": [
    "## Retrieve data from social media"
   ]
  },
  {
   "cell_type": "code",
   "execution_count": 9,
   "metadata": {},
   "outputs": [],
   "source": [
    "user_data_twitter = get_twitter_data(api, \"JFCadavid\", max_tweets=10, max_replies=10)"
   ]
  },
  {
   "cell_type": "code",
   "execution_count": 10,
   "metadata": {},
   "outputs": [],
   "source": [
    "user_data_ig = get_ig_data(cl, \"jfcadavid\", max_posts=5, max_comments=10)"
   ]
  },
  {
   "cell_type": "code",
   "execution_count": 11,
   "metadata": {},
   "outputs": [],
   "source": [
    "def get_comments_ls(data_dict, mode=\"ig\"):\n",
    "    all_comments = []\n",
    "    if mode==\"ig\":\n",
    "        for post_id in data_dict['posts_info'].keys():\n",
    "            all_comments.extend(data_dict['posts_info'][post_id][\"comments_text\"])\n",
    "    else:\n",
    "        for tweet_replies in user_data_twitter[\"tweets_replies\"]:\n",
    "            for comment in tweet_replies:\n",
    "                all_comments.append(comment)\n",
    "    return all_comments"
   ]
  },
  {
   "cell_type": "markdown",
   "metadata": {},
   "source": [
    "## Compute the sentiment for user accounts (IG and Twitter) "
   ]
  },
  {
   "cell_type": "code",
   "execution_count": 12,
   "metadata": {},
   "outputs": [],
   "source": [
    "# Instagram\n",
    "# posts_comments_ig = [user_data_ig['posts_info'][post_id]['comments_text'] for post_id in user_data_ig['posts_info'].keys()]\n",
    "posts_comments_ig = get_comments_ls(user_data_ig, mode=\"ig\")\n",
    "sentiment_instagram = get_sentiment(posts_comments_ig, language_detector, analyzer_en, analyzer_es, tokenizer)"
   ]
  },
  {
   "cell_type": "code",
   "execution_count": 15,
   "metadata": {},
   "outputs": [],
   "source": [
    "# Twitter\n",
    "posts_comments_tw = get_comments_ls(user_data_twitter, mode=\"tw\")\n",
    "sentiment_twitter = get_sentiment(posts_comments_ig, language_detector, analyzer_en, analyzer_es, tokenizer)"
   ]
  },
  {
   "cell_type": "code",
   "execution_count": 16,
   "metadata": {},
   "outputs": [
    {
     "data": {
      "text/plain": [
       "['@JFCadavid Uruguay es mucho más equipo, solo que los técnicos son miedosos',\n",
       " '@JFCadavid Solo Brazil esta por encima.',\n",
       " '@JFCadavid Compara a Pasto tercero con 4 puntos con Santafe LÍDER del otro grupo…..un poco parcializado',\n",
       " '@JFCadavid Señor inflador de millos... Porque no hablamos de tu equipo inflado....ya vez llegar la eliminación y lo que nos vamos a reír en diciembre por cuanta de millos city ......',\n",
       " '@JFCadavid Pues si no le alcanza a Santa Fe siendo líder, imagínese al resto... qué titular tan tendencioso...',\n",
       " '@JFCadavid Le alcanzará a Santa fe ? Si Santa fe es el líder .. más bien le alcanzará a millonarios???',\n",
       " '@JFCadavid Los del yuyu xq tenían la mejor nómina del país y clasificaron raspando podríamos decir q el yuyu y nacional amb9s fracasaron en el semestre salvo q nacional quedo campeón en la liga anterior',\n",
       " '@JFCadavid Ojalá les alcance la trampa Juan Felipe, Viera demostró cual era el objetivo de Junior y no me vengan a salir con que no hubo nada raro, como no los hicieron debajo del hueco toma tu penal, hay es cuando el buen fútbol pasa al segundo plano.',\n",
       " '@JFCadavid América con este resultado queda sin ningún chance??',\n",
       " '@JFCadavid Los dos- si',\n",
       " '@JFCadavid Pero si SANTAFÉ es el líder?',\n",
       " '@JFCadavid Junior cumpliendo le a su hinchada el deseo de dejarse ganar de Santa Fe para q dañarle el caminado a millonarios. Eso en el fútbol se paga caro!',\n",
       " '@JFCadavid Suarez tuvo parte de responsabilidad, pero si se miran las estadísticas Costa rica no pateó a puerta de España',\n",
       " '@JFCadavid Claro q suarez tiene gran parte de la culpa ahora también hay q decir q los jugadores tienen un mayor porcentaje de culpa xq se les noto q no querían correr y por supuesto q luis Enrique es el mejor DT del mundial lo demostro con su kinder']"
      ]
     },
     "execution_count": 16,
     "metadata": {},
     "output_type": "execute_result"
    }
   ],
   "source": [
    "posts_comments_tw"
   ]
  },
  {
   "cell_type": "code",
   "execution_count": 52,
   "metadata": {},
   "outputs": [
    {
     "data": {
      "text/plain": [
       "[0.41033692056399884,\n",
       " 0.5,\n",
       " 0.3339894809149695,\n",
       " 0.27873771263383934,\n",
       " 0.27252542562257887]"
      ]
     },
     "execution_count": 52,
     "metadata": {},
     "output_type": "execute_result"
    }
   ],
   "source": [
    "sentiment_twitter"
   ]
  },
  {
   "cell_type": "code",
   "execution_count": 53,
   "metadata": {},
   "outputs": [
    {
     "name": "stdout",
     "output_type": "stream",
     "text": [
      "Instagram sentiment: 0.4369447707948009\n",
      "Twitter sentiment: 0.3591179079470773\n"
     ]
    }
   ],
   "source": [
    "print(f\"Instagram sentiment: {np.mean(sentiment_instagram)}\")\n",
    "print(f\"Twitter sentiment: {np.mean(sentiment_twitter)}\")"
   ]
  },
  {
   "cell_type": "code",
   "execution_count": 54,
   "metadata": {},
   "outputs": [
    {
     "data": {
      "text/plain": [
       "{'user_name': 'jfcadavid',\n",
       " 'user_id': '192185562',\n",
       " 'n_followers': 130317,\n",
       " 'n_following': 756,\n",
       " 'n_posts_total': 2834,\n",
       " 'n_posts_retrieved': 5,\n",
       " 'n_likes_total': 5049,\n",
       " 'n_comments_total': 70,\n",
       " 'date': '21/11/2022',\n",
       " 'posts_info': {'2975297232093322943_192185562': {'n_comments': 56,\n",
       "   'n_likes': 1230,\n",
       "   'caption': '💔 ¿quién más así?',\n",
       "   'comments_text': ['Yo 😭',\n",
       "    '😢',\n",
       "    '🙋🏽\\u200d♂️ 😥',\n",
       "    '😢😢😢😢',\n",
       "    '☝🏻',\n",
       "    '😢',\n",
       "    '\\U0001fae4🙋🏼\\u200d♀️',\n",
       "    'Mala noticia el mejor del mundo',\n",
       "    '💔',\n",
       "    'Valbuena debe estar igual y las chicas que conocieron con Roberi también... es un crack, es un animal en la cancha, pero la vida se encarga de cobrarte todo, algunos lo llaman Karma 🙌',\n",
       "    '😢😢😢',\n",
       "    '☝️',\n",
       "    '@john_alex86 si',\n",
       "    '😢🙋🏼\\u200d♀️😢',\n",
       "    'BENZEMA ES MAS SALADO QUE ZIPAQUIRA.  UN NGRAN GOLEADOR SE VA DEL MUNDIAL.  COSAS DE LA VIDA.  Y COLOMBIA EXTRAÑANDO A  LOS PECHIFRIOS QUE DE PREMIO POR SER ELIMINADOS LOS LLEVAN DE PASEO A ESTADOS.  COSAS DEL FÚTBOL',\n",
       "    'Probablemente lo fue :((',\n",
       "    'A mí me daño la polla mundialista',\n",
       "    '💔',\n",
       "    'Uy si 😢',\n",
       "    'Lo lindo de un mundial de futbol es ver a los mejores jugadores del 🌍 en la misma competencia. Muy triste su salida 💔',\n",
       "    '😢',\n",
       "    'Jodaaa estamos nosotros 💔x 🇨🇴🇨🇴 me importa un locu este Man',\n",
       "    '🙌',\n",
       "    '😢',\n",
       "    '😢',\n",
       "    'Es una pena que no pueda estar en la gran cita!! El Balón de Oro, tremenda baja para Francia 😥😥',\n",
       "    'Uy Juan, si yo me siento así no me imagino cómo estará él, que cruel que puede ser el fútbol.',\n",
       "    'Ya lloré 😢',\n",
       "    'Yo 😢😢😢',\n",
       "    'Ahora si Brasil Campeón']},\n",
       "  '2975186264590117649_614075928': {'n_comments': 10,\n",
       "   'n_likes': 469,\n",
       "   'caption': '#Qatar2022 El análisis del juego inaugural: Qatar Vs. Ecuador.\\n\\n🗣 @JFCadavid le trae la previa del primer duelo de la Copa del Mundo.',\n",
       "   'comments_text': ['Te mando un abrazo.Tu profesora de Pre- escolar,del San Bartolo.Te felicito por tu excelente labor.',\n",
       "    '@rengoacevedo la verdad no le entendí a este indio su idioma 🤔🤔disculpa pero tu idioma ancestral no lo entendí ,,,, o tal vez  ya lo tienes adentro y por eso escribes así 🤔',\n",
       "    '@user239675149b pregúntele a su madre q es bien coya precisamente ud fue engendrado en un bukake pregúntele cachon',\n",
       "    '@rengoacevedo jajajaja fue por lana y salió cortado jajaja tranquilo hermano , aaa y cual me recomiendas tú que debes saber de esos aparatos 🤣😂😅',\n",
       "    '@user239675149b pero con tu maldita madre sapo cabron, si no entiende sarcasmo cómprese un vibrador y se lo mete culo arriba chacaron',\n",
       "    '@rengoacevedo en la sala de tu casa amigo , si no sabes ni dónde estás parado , cierra la cuenta y vete a dormir 😉',\n",
       "    'Colombia en q estadio jugará la primera fase']},\n",
       "  '2974976323411372494_192185562': {'n_comments': 11,\n",
       "   'n_likes': 1205,\n",
       "   'caption': 'Acá será la inauguración de Qatar 2022',\n",
       "   'comments_text': ['Exitos juan su periodismo es excelente',\n",
       "    '👏Éxitos hoy y siempre 👍🙏💪',\n",
       "    'Me parece el periodista deportivo mas coherente de la nueva generación, Felicitaciones!!!',\n",
       "    '👏',\n",
       "    'Juan Felipe ..Con Toda mi Rey, siempre he Admirado tu Profesionalidad que',\n",
       "    'ESTOS PERIODISTAS SON HIPOCRITAS SE LA PASARON HABLANDO MAL DEL MUNDIAL Y SUS PROHIBICIONES Y ALLA ESTAN PURA HIPOCRESÍA',\n",
       "    'Yo veré esa información al día 🙏🏽 @jfcadavid',\n",
       "    'Que notaaaaa🔥🙌',\n",
       "    'Disfruta al maximo😍',\n",
       "    'Éxitos ídolo 🙌🏽⚽',\n",
       "    '¿¿A dónde tan pinta Juan Felipe?? Le recuerdo que ustedes es casado jejejej.']},\n",
       "  '2974339884150309333_192185562': {'n_comments': 1,\n",
       "   'n_likes': 195,\n",
       "   'caption': '3️⃣ Datos que no sabías de la Copa del Mundo \\n\\n¿El tercero es el mejor y con ese puedes ganar más de 450 millones de pesos 💴💰? \\n\\n👉 Entra ya a @wplay.co y juega en la promoción más goles más millones #publicidad #wplay #qatar',\n",
       "   'comments_text': ['Jf Cadavid eso es mentira dizque Mascherano patabrava si la mayoría de.  Faltas. De  el eran faltas técnicas no bruscas tipo. Leñador. Me sorprende que diga UD eso. Siendo periodista']},\n",
       "  '2973780927335085059_192185562': {'n_comments': 22,\n",
       "   'n_likes': 1950,\n",
       "   'caption': 'Llegar a 🇶🇦 y encontrarse a este crack, sinónimo de que las cosas saldrán TODO BIEN, TODO BIEN @pibevalderramap',\n",
       "   'comments_text': ['Fotaza 👏',\n",
       "    'Nooo papa...ese mundial comprado nada bien nada bien',\n",
       "    'Grandes Juan Felipe y el pibe saludos',\n",
       "    '@carlosurielblandonocampo es bueno recalcar los Kgones del 6 a1 ante ecuador. Que también hicieron revuelta para sacar a Queiroz.',\n",
       "    '@luisalbertosegura21 y que han ganado los de ahora. Cagarse ante ecuador para que le metieran 6. Por lo menos este le metio 5 a los Dioses del continente',\n",
       "    'un Colombiano que vive en el exterior y puedo dar fe de eso.',\n",
       "    'Puso a Colombia en el Mapa, en el mundo del futbol El Pibe es leyenda.........',\n",
       "    'No llegó a ser tan grande como James Rodríguez',\n",
       "    'Voy a ser irrespetuoso un poco, pero sería bueno que algún periodista le preguntara al pibe que ganó al ser uno de los líderes de la revuelta por premios en el 94 que causó el desatino del mal partido ante Rumania. Los jóvenes no lo saben pero los de aquella época si lo recordamos y abucheamos al pibe y su cofradía. El periodismo deportivo se ha quedado callado ante esos hechos y los siguen encumbrando en lugares que no merecen; socio primordial del pibe fue el tino. Qué tal si algún día nos cuentan, puede ser Ud, Juan Felipe, que es de los jóvenes y buenos.',\n",
       "    '🔥🔥🙌🙌🙌🙌🙌🙌🙌🙌',\n",
       "    'Entonces Figo, cafu, zlatan, Ramos, Lampard... no fueron cracks segun usted.... smh.  Menos mal falcao metio el del 2018 o seria tambien un tronco en su mundo..',\n",
       "    'Cuantos goles hizo en un mundial? Un crack en que fútbol?',\n",
       "    '@jimmypedrosa jamás fue un tipo disciplinado😂',\n",
       "    '@luisalbertosegura21 puede que en lo deportivo no mucho, pero gano mucho por su dedicacion, profesionalismo y disciplina dentro y fuera de las canchas, de como se debe cuidar un deportista de alto nivel, por eso sigue vigente a donde valla, lo invitan, lo respetan y lo admiran, Crack siempre, saludos !!',\n",
       "    'Solo puedo decirles TODO BIEN, TODO BIEN,!!!!!',\n",
       "    'Fotón 🔥 muy Cracks los dos',\n",
       "    '@luisalbertosegura21 Cuanta razón👍🏻',\n",
       "    '👏👏 genial!! 👏👏',\n",
       "    'Bendiciones 🙌 @jfcadavid',\n",
       "    '@carlosdelahoz fue pagando boleta jajaja',\n",
       "    'Un crack que no ganó nada 😂😂😂']}}}"
      ]
     },
     "execution_count": 54,
     "metadata": {},
     "output_type": "execute_result"
    }
   ],
   "source": [
    "user_data_ig"
   ]
  },
  {
   "cell_type": "markdown",
   "metadata": {},
   "source": [
    "## Create a dummy dict with account users"
   ]
  },
  {
   "cell_type": "code",
   "execution_count": 5,
   "metadata": {},
   "outputs": [],
   "source": [
    "users_dict = {\n",
    "    \"cristiano\": {\n",
    "        \"instagram\": \"cristiano\",\n",
    "        \"twitter\": \"Cristiano\"\n",
    "    },\n",
    "    \"messi\": {\n",
    "        \"instagram\": \"leomessi\",\n",
    "        \"twitter\": \"Ieomessiok\"\n",
    "    },\n",
    "    \"lebron\": {\n",
    "        \"instagram\": \"lebron\",\n",
    "        \"twitter\": \"KingJames\"\n",
    "    },\n",
    "    \"nadal\": {\n",
    "        \"instagram\": \"rafaelnadal\",\n",
    "        \"twitter\": \"RafaelNadal\"\n",
    "    },\n",
    "    \"mayweather\": {\n",
    "        \"instagram\": \"floydmayweather\",\n",
    "        \"twitter\": \"FloydMayweather\"\n",
    "    }\n",
    "}"
   ]
  },
  {
   "cell_type": "markdown",
   "metadata": {},
   "source": [
    "## Create a gigamethod to process everything"
   ]
  },
  {
   "cell_type": "code",
   "execution_count": 90,
   "metadata": {},
   "outputs": [],
   "source": [
    "def get_spi(user_dict):\n",
    "# Twitter\n",
    "\n",
    "    start_time = time.time()\n",
    "    print(\"Getting twitter profile data\")\n",
    "    twitter_username = user_dict[\"twitter\"]\n",
    "    user_data_twitter = get_twitter_data(api, twitter_username, max_tweets=10, max_replies=10)\n",
    "\n",
    "    posts_comments_tw = get_comments_ls(user_data_twitter, mode=\"tw\")\n",
    "    sentiment_twitter = get_sentiment(posts_comments_tw, language_detector, analyzer_en, analyzer_es, tokenizer)\n",
    "    user_data_twitter.pop('tweets_text', None)\n",
    "    user_data_twitter.pop('tweets_replies', None)\n",
    "    user_data_twitter[\"sentiment_twitter\"] = sentiment_twitter\n",
    "    print(f\"Elapsed time: {(time.time() - start_time)} secs\")\n",
    "    \n",
    "    \n",
    "# Instagram\n",
    "    start_time = time.time()\n",
    "    print(\"Getting instagram profile data\")\n",
    "    ig_username = user_dict[\"instagram\"]\n",
    "    user_data_ig = get_ig_data(cl,ig_username, max_posts=5, max_comments=10)\n",
    "\n",
    "    posts_comments_ig = get_comments_ls(user_data_ig, mode=\"ig\")\n",
    "    sentiment_instagram = get_sentiment(posts_comments_ig, language_detector, analyzer_en, analyzer_es, tokenizer)\n",
    "    user_data_ig.pop('posts_info', None)\n",
    "    user_data_ig[\"sentiment_instagram\"] = sentiment_instagram\n",
    "    print(f\"Elapsed time: {(time.time() - start_time)} secs\")\n",
    "\n",
    "    return user_data_twitter, user_data_ig"
   ]
  },
  {
   "cell_type": "code",
   "execution_count": null,
   "metadata": {},
   "outputs": [],
   "source": [
    "user_data_twitter, user_data_ig = get_spi(users_dict[\"cristiano\"])"
   ]
  },
  {
   "cell_type": "code",
   "execution_count": 92,
   "metadata": {},
   "outputs": [
    {
     "name": "stdout",
     "output_type": "stream",
     "text": [
      "Working on cristiano\n",
      "Getting twitter profile data\n",
      "Elapsed time: 87.92663049697876 secs\n",
      "Getting instagram profile data\n",
      "Elapsed time: 256.2639436721802 secs\n",
      "Done with cristiano\n",
      "-----------------\n",
      "Working on messi\n",
      "Getting twitter profile data\n",
      "Elapsed time: 14.084624290466309 secs\n",
      "Getting instagram profile data\n",
      "Elapsed time: 155.21371245384216 secs\n",
      "Done with messi\n",
      "-----------------\n",
      "Working on lebron\n",
      "Getting twitter profile data\n",
      "Elapsed time: 8.368600368499756 secs\n",
      "Getting instagram profile data\n",
      "Elapsed time: 228.44292306900024 secs\n",
      "Done with lebron\n",
      "-----------------\n",
      "Working on nadal\n",
      "Getting twitter profile data\n",
      "Elapsed time: 3.6094443798065186 secs\n",
      "Getting instagram profile data\n",
      "Elapsed time: 137.0606071949005 secs\n",
      "Done with nadal\n",
      "-----------------\n",
      "Working on mayweather\n",
      "Getting twitter profile data\n",
      "Elapsed time: 1.1450352668762207 secs\n",
      "Getting instagram profile data\n",
      "Elapsed time: 121.41418385505676 secs\n",
      "Done with mayweather\n",
      "-----------------\n",
      "Total elapsed time: 1315.1272485256195 secs\n"
     ]
    }
   ],
   "source": [
    "start_time_allp = time.time()\n",
    "users_data = {}\n",
    "\n",
    "for user in users_dict.keys():\n",
    "    print(f\"Working on {user}\")\n",
    "    user_data_twitter, user_data_ig = get_spi(users_dict[user])\n",
    "    users_data[user] = {}\n",
    "    users_data[user][\"twitter\"] = user_data_twitter\n",
    "    users_data[user][\"instagram\"] = user_data_ig\n",
    "    print(f\"Done with {user}\")\n",
    "    print(\"-----------------\")\n",
    "    time.sleep(60)\n",
    "print(f\"Total elapsed time: {(time.time()-start_time_allp)} secs\")"
   ]
  },
  {
   "cell_type": "code",
   "execution_count": 95,
   "metadata": {},
   "outputs": [
    {
     "data": {
      "text/html": [
       "<div>\n",
       "<style scoped>\n",
       "    .dataframe tbody tr th:only-of-type {\n",
       "        vertical-align: middle;\n",
       "    }\n",
       "\n",
       "    .dataframe tbody tr th {\n",
       "        vertical-align: top;\n",
       "    }\n",
       "\n",
       "    .dataframe thead th {\n",
       "        text-align: right;\n",
       "    }\n",
       "</style>\n",
       "<table border=\"1\" class=\"dataframe\">\n",
       "  <thead>\n",
       "    <tr style=\"text-align: right;\">\n",
       "      <th></th>\n",
       "      <th>user_name</th>\n",
       "      <th>user_id</th>\n",
       "      <th>n_followers</th>\n",
       "      <th>n_following</th>\n",
       "      <th>n_posts_total</th>\n",
       "      <th>n_posts_retrieved</th>\n",
       "      <th>n_likes_total</th>\n",
       "      <th>n_likes_retrieved</th>\n",
       "      <th>n_comments_total</th>\n",
       "      <th>n_comments_retrieved</th>\n",
       "      <th>created_at</th>\n",
       "      <th>sentiment_instagram</th>\n",
       "      <th>engagement</th>\n",
       "    </tr>\n",
       "  </thead>\n",
       "  <tbody>\n",
       "    <tr>\n",
       "      <th>0</th>\n",
       "      <td>cristiano</td>\n",
       "      <td>173560420</td>\n",
       "      <td>502741773</td>\n",
       "      <td>523</td>\n",
       "      <td>3402</td>\n",
       "      <td>3398</td>\n",
       "      <td>85695526</td>\n",
       "      <td>54750995</td>\n",
       "      <td>85695526</td>\n",
       "      <td>80</td>\n",
       "      <td>2022-11-24 16:37:07.291570</td>\n",
       "      <td>0.696240</td>\n",
       "      <td>34.091269</td>\n",
       "    </tr>\n",
       "    <tr>\n",
       "      <th>1</th>\n",
       "      <td>leomessi</td>\n",
       "      <td>427553890</td>\n",
       "      <td>378390987</td>\n",
       "      <td>286</td>\n",
       "      <td>949</td>\n",
       "      <td>949</td>\n",
       "      <td>33419326</td>\n",
       "      <td>56111341</td>\n",
       "      <td>33419326</td>\n",
       "      <td>191</td>\n",
       "      <td>2022-11-24 16:40:27.454016</td>\n",
       "      <td>0.583508</td>\n",
       "      <td>17.663912</td>\n",
       "    </tr>\n",
       "    <tr>\n",
       "      <th>2</th>\n",
       "      <td>lebron</td>\n",
       "      <td>7855453810</td>\n",
       "      <td>661215</td>\n",
       "      <td>34</td>\n",
       "      <td>2956</td>\n",
       "      <td>2955</td>\n",
       "      <td>142086</td>\n",
       "      <td>33001</td>\n",
       "      <td>142086</td>\n",
       "      <td>160</td>\n",
       "      <td>2022-11-24 16:46:01.935118</td>\n",
       "      <td>0.638398</td>\n",
       "      <td>42.977246</td>\n",
       "    </tr>\n",
       "    <tr>\n",
       "      <th>3</th>\n",
       "      <td>rafaelnadal</td>\n",
       "      <td>1938502255</td>\n",
       "      <td>17074848</td>\n",
       "      <td>207</td>\n",
       "      <td>1244</td>\n",
       "      <td>1243</td>\n",
       "      <td>2245446</td>\n",
       "      <td>926669</td>\n",
       "      <td>2245446</td>\n",
       "      <td>170</td>\n",
       "      <td>2022-11-24 16:49:10.334872</td>\n",
       "      <td>0.707313</td>\n",
       "      <td>26.301212</td>\n",
       "    </tr>\n",
       "    <tr>\n",
       "      <th>4</th>\n",
       "      <td>floydmayweather</td>\n",
       "      <td>16264572</td>\n",
       "      <td>28522578</td>\n",
       "      <td>317</td>\n",
       "      <td>1044</td>\n",
       "      <td>1043</td>\n",
       "      <td>4564730</td>\n",
       "      <td>1013098</td>\n",
       "      <td>4564730</td>\n",
       "      <td>193</td>\n",
       "      <td>2022-11-24 16:52:16.778585</td>\n",
       "      <td>0.571865</td>\n",
       "      <td>32.007836</td>\n",
       "    </tr>\n",
       "  </tbody>\n",
       "</table>\n",
       "</div>"
      ],
      "text/plain": [
       "         user_name     user_id  n_followers  n_following  n_posts_total  \\\n",
       "0        cristiano   173560420    502741773          523           3402   \n",
       "1         leomessi   427553890    378390987          286            949   \n",
       "2           lebron  7855453810       661215           34           2956   \n",
       "3      rafaelnadal  1938502255     17074848          207           1244   \n",
       "4  floydmayweather    16264572     28522578          317           1044   \n",
       "\n",
       "   n_posts_retrieved  n_likes_total  n_likes_retrieved  n_comments_total  \\\n",
       "0               3398       85695526           54750995          85695526   \n",
       "1                949       33419326           56111341          33419326   \n",
       "2               2955         142086              33001            142086   \n",
       "3               1243        2245446             926669           2245446   \n",
       "4               1043        4564730            1013098           4564730   \n",
       "\n",
       "   n_comments_retrieved                 created_at  sentiment_instagram  \\\n",
       "0                    80 2022-11-24 16:37:07.291570             0.696240   \n",
       "1                   191 2022-11-24 16:40:27.454016             0.583508   \n",
       "2                   160 2022-11-24 16:46:01.935118             0.638398   \n",
       "3                   170 2022-11-24 16:49:10.334872             0.707313   \n",
       "4                   193 2022-11-24 16:52:16.778585             0.571865   \n",
       "\n",
       "   engagement  \n",
       "0   34.091269  \n",
       "1   17.663912  \n",
       "2   42.977246  \n",
       "3   26.301212  \n",
       "4   32.007836  "
      ]
     },
     "execution_count": 95,
     "metadata": {},
     "output_type": "execute_result"
    }
   ],
   "source": [
    "users_data_instagram = [users_data[username][\"instagram\"] for username in users_data.keys()]\n",
    "df_ig = pd.DataFrame(users_data_instagram)\n",
    "df_ig[\"n_likes_retrieved\"] = abs(df_ig[\"n_likes_retrieved\"])\n",
    "df_ig[\"engagement\"] = (df_ig[\"n_likes_total\"] + df_ig[\"n_comments_total\"])/(df_ig[\"n_followers\"])*100\n",
    "df_ig\n"
   ]
  },
  {
   "cell_type": "code",
   "execution_count": 73,
   "metadata": {},
   "outputs": [
    {
     "data": {
      "text/plain": [
       "403261144.20000005"
      ]
     },
     "execution_count": 73,
     "metadata": {},
     "output_type": "execute_result"
    }
   ],
   "source": [
    "df_ig[\"n_followers\"].quantile(0.8)"
   ]
  },
  {
   "cell_type": "code",
   "execution_count": 77,
   "metadata": {},
   "outputs": [
    {
     "data": {
      "text/plain": [
       "40.0"
      ]
     },
     "execution_count": 77,
     "metadata": {},
     "output_type": "execute_result"
    }
   ],
   "source": [
    "from scipy import stats\n",
    "stats.percentileofscore(df_ig[\"n_followers\"], 17074848)"
   ]
  },
  {
   "cell_type": "code",
   "execution_count": 86,
   "metadata": {},
   "outputs": [
    {
     "data": {
      "text/html": [
       "<div>\n",
       "<style scoped>\n",
       "    .dataframe tbody tr th:only-of-type {\n",
       "        vertical-align: middle;\n",
       "    }\n",
       "\n",
       "    .dataframe tbody tr th {\n",
       "        vertical-align: top;\n",
       "    }\n",
       "\n",
       "    .dataframe thead th {\n",
       "        text-align: right;\n",
       "    }\n",
       "</style>\n",
       "<table border=\"1\" class=\"dataframe\">\n",
       "  <thead>\n",
       "    <tr style=\"text-align: right;\">\n",
       "      <th></th>\n",
       "      <th>user_name</th>\n",
       "      <th>n_followers</th>\n",
       "      <th>n_retweets</th>\n",
       "      <th>n_tweets</th>\n",
       "      <th>n_retweets_to_user</th>\n",
       "      <th>n_favorites_to_user</th>\n",
       "      <th>n_replies_to_user</th>\n",
       "      <th>created_at</th>\n",
       "      <th>sentiment_twitter</th>\n",
       "      <th>relative_engagement_per_post</th>\n",
       "    </tr>\n",
       "  </thead>\n",
       "  <tbody>\n",
       "    <tr>\n",
       "      <th>0</th>\n",
       "      <td>Cristiano</td>\n",
       "      <td>105308453</td>\n",
       "      <td>0</td>\n",
       "      <td>10</td>\n",
       "      <td>392256</td>\n",
       "      <td>3884065</td>\n",
       "      <td>6</td>\n",
       "      <td>2022-11-24 15:31:16.871960</td>\n",
       "      <td>0.496363</td>\n",
       "      <td>0.406076</td>\n",
       "    </tr>\n",
       "    <tr>\n",
       "      <th>1</th>\n",
       "      <td>Ieomessiok</td>\n",
       "      <td>559544</td>\n",
       "      <td>0</td>\n",
       "      <td>10</td>\n",
       "      <td>16945</td>\n",
       "      <td>383509</td>\n",
       "      <td>10</td>\n",
       "      <td>2022-11-24 15:38:13.685011</td>\n",
       "      <td>0.634433</td>\n",
       "      <td>7.156971</td>\n",
       "    </tr>\n",
       "    <tr>\n",
       "      <th>2</th>\n",
       "      <td>KingJames</td>\n",
       "      <td>52476180</td>\n",
       "      <td>2</td>\n",
       "      <td>7</td>\n",
       "      <td>4034</td>\n",
       "      <td>55621</td>\n",
       "      <td>3</td>\n",
       "      <td>2022-11-24 15:41:27.702786</td>\n",
       "      <td>0.663781</td>\n",
       "      <td>0.016241</td>\n",
       "    </tr>\n",
       "    <tr>\n",
       "      <th>3</th>\n",
       "      <td>RafaelNadal</td>\n",
       "      <td>15829515</td>\n",
       "      <td>0</td>\n",
       "      <td>1</td>\n",
       "      <td>165</td>\n",
       "      <td>1624</td>\n",
       "      <td>2</td>\n",
       "      <td>2022-11-24 15:46:14.343182</td>\n",
       "      <td>0.430537</td>\n",
       "      <td>0.011314</td>\n",
       "    </tr>\n",
       "    <tr>\n",
       "      <th>4</th>\n",
       "      <td>FloydMayweather</td>\n",
       "      <td>7831358</td>\n",
       "      <td>0</td>\n",
       "      <td>0</td>\n",
       "      <td>0</td>\n",
       "      <td>0</td>\n",
       "      <td>0</td>\n",
       "      <td>2022-11-24 15:49:20.490307</td>\n",
       "      <td>0.500000</td>\n",
       "      <td>NaN</td>\n",
       "    </tr>\n",
       "  </tbody>\n",
       "</table>\n",
       "</div>"
      ],
      "text/plain": [
       "         user_name  n_followers  n_retweets  n_tweets  n_retweets_to_user  \\\n",
       "0        Cristiano    105308453           0        10              392256   \n",
       "1       Ieomessiok       559544           0        10               16945   \n",
       "2        KingJames     52476180           2         7                4034   \n",
       "3      RafaelNadal     15829515           0         1                 165   \n",
       "4  FloydMayweather      7831358           0         0                   0   \n",
       "\n",
       "   n_favorites_to_user  n_replies_to_user                 created_at  \\\n",
       "0              3884065                  6 2022-11-24 15:31:16.871960   \n",
       "1               383509                 10 2022-11-24 15:38:13.685011   \n",
       "2                55621                  3 2022-11-24 15:41:27.702786   \n",
       "3                 1624                  2 2022-11-24 15:46:14.343182   \n",
       "4                    0                  0 2022-11-24 15:49:20.490307   \n",
       "\n",
       "   sentiment_twitter  relative_engagement_per_post  \n",
       "0           0.496363                      0.406076  \n",
       "1           0.634433                      7.156971  \n",
       "2           0.663781                      0.016241  \n",
       "3           0.430537                      0.011314  \n",
       "4           0.500000                           NaN  "
      ]
     },
     "execution_count": 86,
     "metadata": {},
     "output_type": "execute_result"
    }
   ],
   "source": [
    "# users_data_twitter = [users_data[username][\"twitter\"] for username in users_data.keys()]\n",
    "df_tw = pd.DataFrame(users_data_twitter)\n",
    "df_tw[\"relative_engagement_per_post\"] = (df_tw[\"n_favorites_to_user\"] + df_tw[\"n_retweets_to_user\"] + + df_tw[\"n_replies_to_user\"])/(df_tw[\"n_followers\"]*df_tw[\"n_tweets\"])*100\n",
    "df_tw\n"
   ]
  },
  {
   "cell_type": "code",
   "execution_count": 87,
   "metadata": {},
   "outputs": [
    {
     "data": {
      "text/plain": [
       "[{'user_name': 'Cristiano',\n",
       "  'n_followers': 105308453,\n",
       "  'n_retweets': 0,\n",
       "  'n_tweets': 10,\n",
       "  'n_retweets_to_user': 392256,\n",
       "  'n_favorites_to_user': 3884065,\n",
       "  'n_replies_to_user': 6,\n",
       "  'created_at': datetime.datetime(2022, 11, 24, 15, 31, 16, 871960),\n",
       "  'sentiment_twitter': 0.49636333840584906},\n",
       " {'user_name': 'Ieomessiok',\n",
       "  'n_followers': 559544,\n",
       "  'n_retweets': 0,\n",
       "  'n_tweets': 10,\n",
       "  'n_retweets_to_user': 16945,\n",
       "  'n_favorites_to_user': 383509,\n",
       "  'n_replies_to_user': 10,\n",
       "  'created_at': datetime.datetime(2022, 11, 24, 15, 38, 13, 685011),\n",
       "  'sentiment_twitter': 0.6344329414317261},\n",
       " {'user_name': 'KingJames',\n",
       "  'n_followers': 52476180,\n",
       "  'n_retweets': 2,\n",
       "  'n_tweets': 7,\n",
       "  'n_retweets_to_user': 4034,\n",
       "  'n_favorites_to_user': 55621,\n",
       "  'n_replies_to_user': 3,\n",
       "  'created_at': datetime.datetime(2022, 11, 24, 15, 41, 27, 702786),\n",
       "  'sentiment_twitter': 0.6637814821552505},\n",
       " {'user_name': 'RafaelNadal',\n",
       "  'n_followers': 15829515,\n",
       "  'n_retweets': 0,\n",
       "  'n_tweets': 1,\n",
       "  'n_retweets_to_user': 165,\n",
       "  'n_favorites_to_user': 1624,\n",
       "  'n_replies_to_user': 2,\n",
       "  'created_at': datetime.datetime(2022, 11, 24, 15, 46, 14, 343182),\n",
       "  'sentiment_twitter': 0.4305365882643721},\n",
       " {'user_name': 'FloydMayweather',\n",
       "  'n_followers': 7831358,\n",
       "  'n_retweets': 0,\n",
       "  'n_tweets': 0,\n",
       "  'n_retweets_to_user': 0,\n",
       "  'n_favorites_to_user': 0,\n",
       "  'n_replies_to_user': 0,\n",
       "  'created_at': datetime.datetime(2022, 11, 24, 15, 49, 20, 490307),\n",
       "  'sentiment_twitter': 0.5}]"
      ]
     },
     "execution_count": 87,
     "metadata": {},
     "output_type": "execute_result"
    }
   ],
   "source": [
    "users_data_twitter"
   ]
  },
  {
   "cell_type": "code",
   "execution_count": 23,
   "metadata": {},
   "outputs": [
    {
     "data": {
      "text/plain": [
       "array([5, 2, 3])"
      ]
     },
     "execution_count": 23,
     "metadata": {},
     "output_type": "execute_result"
    }
   ],
   "source": [
    "np.clip([10,2,3], a_min=1, a_max=5)"
   ]
  },
  {
   "cell_type": "markdown",
   "metadata": {},
   "source": [
    "engagement = (n_likes+n_comments)/(n_followers)*100"
   ]
  },
  {
   "cell_type": "code",
   "execution_count": 16,
   "metadata": {},
   "outputs": [
    {
     "data": {
      "text/plain": [
       "47.96266253371391"
      ]
     },
     "execution_count": 16,
     "metadata": {},
     "output_type": "execute_result"
    }
   ],
   "source": [
    "(48225587+81)/(502741773/5)*100"
   ]
  },
  {
   "cell_type": "code",
   "execution_count": 17,
   "metadata": {},
   "outputs": [
    {
     "data": {
      "text/plain": [
       "74.00611394583771"
      ]
     },
     "execution_count": 17,
     "metadata": {},
     "output_type": "execute_result"
    }
   ],
   "source": [
    "(56006302+191)/(378390987/5)*100"
   ]
  },
  {
   "cell_type": "markdown",
   "metadata": {},
   "source": [
    "---"
   ]
  },
  {
   "cell_type": "code",
   "execution_count": null,
   "metadata": {},
   "outputs": [],
   "source": [
    "user_data_ig = get_ig_data(cl, \"jfcadavid\", max_posts=5, max_comments=10)\n",
    "user_data_twitter = get_twitter_data(api, \"JFCadavid\", max_tweets=10, max_replies=10)"
   ]
  },
  {
   "cell_type": "code",
   "execution_count": null,
   "metadata": {},
   "outputs": [],
   "source": [
    "# Instagram\n",
    "posts_comments_ig = [user_data_ig['posts_info'][post_id]['comments_text'] for post_id in user_data_ig['posts_info'].keys()]\n",
    "sentiment_instagram = [get_sentiment(comments, language_detector, analyzer_en, analyzer_es, tokenizer) for comments in posts_comments_ig]\n",
    "\n",
    "# Twitter\n",
    "posts_comments_tw = user_data_twitter['tweets_replies']\n",
    "sentiment_twitter= [get_sentiment(comments, language_detector, analyzer_en, analyzer_es, tokenizer) for comments in posts_comments_tw]"
   ]
  },
  {
   "cell_type": "code",
   "execution_count": 65,
   "metadata": {},
   "outputs": [
    {
     "data": {
      "text/plain": [
       "{'user_name': 'jfcadavid',\n",
       " 'user_id': '192185562',\n",
       " 'n_followers': 130317,\n",
       " 'n_following': 756,\n",
       " 'n_posts_total': 2834,\n",
       " 'n_posts_retrieved': 5,\n",
       " 'n_likes_total': 5049,\n",
       " 'n_comments_total': 70,\n",
       " 'date': '21/11/2022',\n",
       " 'posts_info': {'2975297232093322943_192185562': {'n_comments': 56,\n",
       "   'n_likes': 1230,\n",
       "   'caption': '💔 ¿quién más así?',\n",
       "   'comments_text': ['Yo 😭',\n",
       "    '😢',\n",
       "    '🙋🏽\\u200d♂️ 😥',\n",
       "    '😢😢😢😢',\n",
       "    '☝🏻',\n",
       "    '😢',\n",
       "    '\\U0001fae4🙋🏼\\u200d♀️',\n",
       "    'Mala noticia el mejor del mundo',\n",
       "    '💔',\n",
       "    'Valbuena debe estar igual y las chicas que conocieron con Roberi también... es un crack, es un animal en la cancha, pero la vida se encarga de cobrarte todo, algunos lo llaman Karma 🙌',\n",
       "    '😢😢😢',\n",
       "    '☝️',\n",
       "    '@john_alex86 si',\n",
       "    '😢🙋🏼\\u200d♀️😢',\n",
       "    'BENZEMA ES MAS SALADO QUE ZIPAQUIRA.  UN NGRAN GOLEADOR SE VA DEL MUNDIAL.  COSAS DE LA VIDA.  Y COLOMBIA EXTRAÑANDO A  LOS PECHIFRIOS QUE DE PREMIO POR SER ELIMINADOS LOS LLEVAN DE PASEO A ESTADOS.  COSAS DEL FÚTBOL',\n",
       "    'Probablemente lo fue :((',\n",
       "    'A mí me daño la polla mundialista',\n",
       "    '💔',\n",
       "    'Uy si 😢',\n",
       "    'Lo lindo de un mundial de futbol es ver a los mejores jugadores del 🌍 en la misma competencia. Muy triste su salida 💔',\n",
       "    '😢',\n",
       "    'Jodaaa estamos nosotros 💔x 🇨🇴🇨🇴 me importa un locu este Man',\n",
       "    '🙌',\n",
       "    '😢',\n",
       "    '😢',\n",
       "    'Es una pena que no pueda estar en la gran cita!! El Balón de Oro, tremenda baja para Francia 😥😥',\n",
       "    'Uy Juan, si yo me siento así no me imagino cómo estará él, que cruel que puede ser el fútbol.',\n",
       "    'Ya lloré 😢',\n",
       "    'Yo 😢😢😢',\n",
       "    'Ahora si Brasil Campeón']},\n",
       "  '2975186264590117649_614075928': {'n_comments': 10,\n",
       "   'n_likes': 469,\n",
       "   'caption': '#Qatar2022 El análisis del juego inaugural: Qatar Vs. Ecuador.\\n\\n🗣 @JFCadavid le trae la previa del primer duelo de la Copa del Mundo.',\n",
       "   'comments_text': ['Te mando un abrazo.Tu profesora de Pre- escolar,del San Bartolo.Te felicito por tu excelente labor.',\n",
       "    '@rengoacevedo la verdad no le entendí a este indio su idioma 🤔🤔disculpa pero tu idioma ancestral no lo entendí ,,,, o tal vez  ya lo tienes adentro y por eso escribes así 🤔',\n",
       "    '@user239675149b pregúntele a su madre q es bien coya precisamente ud fue engendrado en un bukake pregúntele cachon',\n",
       "    '@rengoacevedo jajajaja fue por lana y salió cortado jajaja tranquilo hermano , aaa y cual me recomiendas tú que debes saber de esos aparatos 🤣😂😅',\n",
       "    '@user239675149b pero con tu maldita madre sapo cabron, si no entiende sarcasmo cómprese un vibrador y se lo mete culo arriba chacaron',\n",
       "    '@rengoacevedo en la sala de tu casa amigo , si no sabes ni dónde estás parado , cierra la cuenta y vete a dormir 😉',\n",
       "    'Colombia en q estadio jugará la primera fase']},\n",
       "  '2974976323411372494_192185562': {'n_comments': 11,\n",
       "   'n_likes': 1205,\n",
       "   'caption': 'Acá será la inauguración de Qatar 2022',\n",
       "   'comments_text': ['Exitos juan su periodismo es excelente',\n",
       "    '👏Éxitos hoy y siempre 👍🙏💪',\n",
       "    'Me parece el periodista deportivo mas coherente de la nueva generación, Felicitaciones!!!',\n",
       "    '👏',\n",
       "    'Juan Felipe ..Con Toda mi Rey, siempre he Admirado tu Profesionalidad que',\n",
       "    'ESTOS PERIODISTAS SON HIPOCRITAS SE LA PASARON HABLANDO MAL DEL MUNDIAL Y SUS PROHIBICIONES Y ALLA ESTAN PURA HIPOCRESÍA',\n",
       "    'Yo veré esa información al día 🙏🏽 @jfcadavid',\n",
       "    'Que notaaaaa🔥🙌',\n",
       "    'Disfruta al maximo😍',\n",
       "    'Éxitos ídolo 🙌🏽⚽',\n",
       "    '¿¿A dónde tan pinta Juan Felipe?? Le recuerdo que ustedes es casado jejejej.']},\n",
       "  '2974339884150309333_192185562': {'n_comments': 1,\n",
       "   'n_likes': 195,\n",
       "   'caption': '3️⃣ Datos que no sabías de la Copa del Mundo \\n\\n¿El tercero es el mejor y con ese puedes ganar más de 450 millones de pesos 💴💰? \\n\\n👉 Entra ya a @wplay.co y juega en la promoción más goles más millones #publicidad #wplay #qatar',\n",
       "   'comments_text': ['Jf Cadavid eso es mentira dizque Mascherano patabrava si la mayoría de.  Faltas. De  el eran faltas técnicas no bruscas tipo. Leñador. Me sorprende que diga UD eso. Siendo periodista']},\n",
       "  '2973780927335085059_192185562': {'n_comments': 22,\n",
       "   'n_likes': 1950,\n",
       "   'caption': 'Llegar a 🇶🇦 y encontrarse a este crack, sinónimo de que las cosas saldrán TODO BIEN, TODO BIEN @pibevalderramap',\n",
       "   'comments_text': ['Fotaza 👏',\n",
       "    'Nooo papa...ese mundial comprado nada bien nada bien',\n",
       "    'Grandes Juan Felipe y el pibe saludos',\n",
       "    '@carlosurielblandonocampo es bueno recalcar los Kgones del 6 a1 ante ecuador. Que también hicieron revuelta para sacar a Queiroz.',\n",
       "    '@luisalbertosegura21 y que han ganado los de ahora. Cagarse ante ecuador para que le metieran 6. Por lo menos este le metio 5 a los Dioses del continente',\n",
       "    'un Colombiano que vive en el exterior y puedo dar fe de eso.',\n",
       "    'Puso a Colombia en el Mapa, en el mundo del futbol El Pibe es leyenda.........',\n",
       "    'No llegó a ser tan grande como James Rodríguez',\n",
       "    'Voy a ser irrespetuoso un poco, pero sería bueno que algún periodista le preguntara al pibe que ganó al ser uno de los líderes de la revuelta por premios en el 94 que causó el desatino del mal partido ante Rumania. Los jóvenes no lo saben pero los de aquella época si lo recordamos y abucheamos al pibe y su cofradía. El periodismo deportivo se ha quedado callado ante esos hechos y los siguen encumbrando en lugares que no merecen; socio primordial del pibe fue el tino. Qué tal si algún día nos cuentan, puede ser Ud, Juan Felipe, que es de los jóvenes y buenos.',\n",
       "    '🔥🔥🙌🙌🙌🙌🙌🙌🙌🙌',\n",
       "    'Entonces Figo, cafu, zlatan, Ramos, Lampard... no fueron cracks segun usted.... smh.  Menos mal falcao metio el del 2018 o seria tambien un tronco en su mundo..',\n",
       "    'Cuantos goles hizo en un mundial? Un crack en que fútbol?',\n",
       "    '@jimmypedrosa jamás fue un tipo disciplinado😂',\n",
       "    '@luisalbertosegura21 puede que en lo deportivo no mucho, pero gano mucho por su dedicacion, profesionalismo y disciplina dentro y fuera de las canchas, de como se debe cuidar un deportista de alto nivel, por eso sigue vigente a donde valla, lo invitan, lo respetan y lo admiran, Crack siempre, saludos !!',\n",
       "    'Solo puedo decirles TODO BIEN, TODO BIEN,!!!!!',\n",
       "    'Fotón 🔥 muy Cracks los dos',\n",
       "    '@luisalbertosegura21 Cuanta razón👍🏻',\n",
       "    '👏👏 genial!! 👏👏',\n",
       "    'Bendiciones 🙌 @jfcadavid',\n",
       "    '@carlosdelahoz fue pagando boleta jajaja',\n",
       "    'Un crack que no ganó nada 😂😂😂']}}}"
      ]
     },
     "execution_count": 65,
     "metadata": {},
     "output_type": "execute_result"
    }
   ],
   "source": [
    "user_data_ig"
   ]
  },
  {
   "cell_type": "code",
   "execution_count": 57,
   "metadata": {},
   "outputs": [],
   "source": [
    "user_data_ig_ls = user_data_ig.copy()"
   ]
  },
  {
   "cell_type": "code",
   "execution_count": 60,
   "metadata": {},
   "outputs": [
    {
     "data": {
      "text/plain": [
       "{'user_name': 'jfcadavid',\n",
       " 'user_id': '192185562',\n",
       " 'n_followers': 130317,\n",
       " 'n_following': 756,\n",
       " 'n_posts_total': 2834,\n",
       " 'n_posts_retrieved': 5,\n",
       " 'n_likes_total': 5049,\n",
       " 'n_comments_total': 70,\n",
       " 'date': '21/11/2022'}"
      ]
     },
     "execution_count": 60,
     "metadata": {},
     "output_type": "execute_result"
    }
   ],
   "source": [
    "user_data_ig_ls"
   ]
  },
  {
   "cell_type": "code",
   "execution_count": null,
   "metadata": {},
   "outputs": [],
   "source": []
  }
 ],
 "metadata": {
  "kernelspec": {
   "display_name": "Python 3.10.5 ('vertikal': venv)",
   "language": "python",
   "name": "python3"
  },
  "language_info": {
   "codemirror_mode": {
    "name": "ipython",
    "version": 3
   },
   "file_extension": ".py",
   "mimetype": "text/x-python",
   "name": "python",
   "nbconvert_exporter": "python",
   "pygments_lexer": "ipython3",
   "version": "3.10.5"
  },
  "orig_nbformat": 4,
  "vscode": {
   "interpreter": {
    "hash": "70258f4837e3f46022aa0137b5be3a4e9270dc89d52dc988758cb74f0ce7bbb8"
   }
  }
 },
 "nbformat": 4,
 "nbformat_minor": 2
}
