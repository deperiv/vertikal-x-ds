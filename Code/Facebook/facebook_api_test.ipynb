{
 "cells": [
  {
   "cell_type": "code",
   "execution_count": 1,
   "metadata": {},
   "outputs": [
    {
     "name": "stdout",
     "output_type": "stream",
     "text": [
      "Collecting facebook-scraper\n",
      "  Downloading facebook_scraper-0.2.59-py3-none-any.whl (45 kB)\n",
      "     ---------------------------------------- 45.5/45.5 KB 2.2 MB/s eta 0:00:00\n",
      "Collecting demjson3<4.0.0,>=3.0.5\n",
      "  Downloading demjson3-3.0.6.tar.gz (131 kB)\n",
      "     -------------------------------------- 131.5/131.5 KB 7.6 MB/s eta 0:00:00\n",
      "  Preparing metadata (setup.py): started\n",
      "  Preparing metadata (setup.py): finished with status 'done'\n",
      "Collecting requests-html<0.11.0,>=0.10.0\n",
      "  Using cached requests_html-0.10.0-py3-none-any.whl (13 kB)\n",
      "Collecting dateparser<2.0.0,>=1.0.0\n",
      "  Downloading dateparser-1.1.3-py2.py3-none-any.whl (292 kB)\n",
      "     -------------------------------------- 292.7/292.7 KB 6.0 MB/s eta 0:00:00\n",
      "Requirement already satisfied: tzlocal in c:\\users\\daniel\\appdata\\local\\programs\\python\\python310\\lib\\site-packages (from dateparser<2.0.0,>=1.0.0->facebook-scraper) (4.2)\n",
      "Collecting regex!=2019.02.19,!=2021.8.27,<2022.3.15\n",
      "  Downloading regex-2022.3.2-cp310-cp310-win_amd64.whl (274 kB)\n",
      "     -------------------------------------- 274.4/274.4 KB 8.5 MB/s eta 0:00:00\n",
      "Requirement already satisfied: pytz in c:\\users\\daniel\\appdata\\local\\programs\\python\\python310\\lib\\site-packages (from dateparser<2.0.0,>=1.0.0->facebook-scraper) (2022.1)\n",
      "Requirement already satisfied: python-dateutil in c:\\users\\daniel\\appdata\\local\\programs\\python\\python310\\lib\\site-packages (from dateparser<2.0.0,>=1.0.0->facebook-scraper) (2.8.2)\n",
      "Collecting parse\n",
      "  Using cached parse-1.19.0.tar.gz (30 kB)\n",
      "  Preparing metadata (setup.py): started\n",
      "  Preparing metadata (setup.py): finished with status 'done'\n",
      "Collecting w3lib\n",
      "  Using cached w3lib-2.0.1-py3-none-any.whl (20 kB)\n",
      "Requirement already satisfied: requests in c:\\users\\daniel\\appdata\\local\\programs\\python\\python310\\lib\\site-packages (from requests-html<0.11.0,>=0.10.0->facebook-scraper) (2.28.0)\n",
      "Collecting fake-useragent\n",
      "  Downloading fake_useragent-1.0.0-py3-none-any.whl (49 kB)\n",
      "     ---------------------------------------- 49.9/49.9 KB 2.6 MB/s eta 0:00:00\n",
      "Requirement already satisfied: pyppeteer>=0.0.14 in c:\\users\\daniel\\appdata\\local\\programs\\python\\python310\\lib\\site-packages (from requests-html<0.11.0,>=0.10.0->facebook-scraper) (1.0.2)\n",
      "Collecting pyquery\n",
      "  Using cached pyquery-1.4.3-py3-none-any.whl (22 kB)\n",
      "Collecting bs4\n",
      "  Using cached bs4-0.0.1.tar.gz (1.1 kB)\n",
      "  Preparing metadata (setup.py): started\n",
      "  Preparing metadata (setup.py): finished with status 'done'\n",
      "Requirement already satisfied: appdirs<2.0.0,>=1.4.3 in c:\\users\\daniel\\appdata\\local\\programs\\python\\python310\\lib\\site-packages (from pyppeteer>=0.0.14->requests-html<0.11.0,>=0.10.0->facebook-scraper) (1.4.4)\n",
      "Requirement already satisfied: tqdm<5.0.0,>=4.42.1 in c:\\users\\daniel\\appdata\\local\\programs\\python\\python310\\lib\\site-packages (from pyppeteer>=0.0.14->requests-html<0.11.0,>=0.10.0->facebook-scraper) (4.64.0)\n",
      "Requirement already satisfied: certifi>=2021 in c:\\users\\daniel\\appdata\\local\\programs\\python\\python310\\lib\\site-packages (from pyppeteer>=0.0.14->requests-html<0.11.0,>=0.10.0->facebook-scraper) (2022.5.18.1)\n",
      "Requirement already satisfied: urllib3<2.0.0,>=1.25.8 in c:\\users\\daniel\\appdata\\local\\programs\\python\\python310\\lib\\site-packages (from pyppeteer>=0.0.14->requests-html<0.11.0,>=0.10.0->facebook-scraper) (1.26.9)\n",
      "Requirement already satisfied: importlib-metadata>=1.4 in c:\\users\\daniel\\appdata\\local\\programs\\python\\python310\\lib\\site-packages (from pyppeteer>=0.0.14->requests-html<0.11.0,>=0.10.0->facebook-scraper) (4.11.4)\n",
      "Requirement already satisfied: pyee<9.0.0,>=8.1.0 in c:\\users\\daniel\\appdata\\local\\programs\\python\\python310\\lib\\site-packages (from pyppeteer>=0.0.14->requests-html<0.11.0,>=0.10.0->facebook-scraper) (8.2.2)\n",
      "Requirement already satisfied: websockets<11.0,>=10.0 in c:\\users\\daniel\\appdata\\local\\programs\\python\\python310\\lib\\site-packages (from pyppeteer>=0.0.14->requests-html<0.11.0,>=0.10.0->facebook-scraper) (10.3)\n",
      "Requirement already satisfied: beautifulsoup4 in c:\\users\\daniel\\appdata\\local\\programs\\python\\python310\\lib\\site-packages (from bs4->requests-html<0.11.0,>=0.10.0->facebook-scraper) (4.11.1)\n",
      "Collecting cssselect>0.7.9\n",
      "  Using cached cssselect-1.2.0-py2.py3-none-any.whl (18 kB)\n",
      "Collecting lxml>=2.1\n",
      "  Using cached lxml-4.9.1-cp310-cp310-win_amd64.whl (3.6 MB)\n",
      "Requirement already satisfied: six>=1.5 in c:\\users\\daniel\\appdata\\local\\programs\\python\\python310\\lib\\site-packages (from python-dateutil->dateparser<2.0.0,>=1.0.0->facebook-scraper) (1.16.0)\n",
      "Requirement already satisfied: charset-normalizer~=2.0.0 in c:\\users\\daniel\\appdata\\local\\programs\\python\\python310\\lib\\site-packages (from requests->requests-html<0.11.0,>=0.10.0->facebook-scraper) (2.0.12)\n",
      "Requirement already satisfied: idna<4,>=2.5 in c:\\users\\daniel\\appdata\\local\\programs\\python\\python310\\lib\\site-packages (from requests->requests-html<0.11.0,>=0.10.0->facebook-scraper) (3.3)\n",
      "Requirement already satisfied: pytz-deprecation-shim in c:\\users\\daniel\\appdata\\local\\programs\\python\\python310\\lib\\site-packages (from tzlocal->dateparser<2.0.0,>=1.0.0->facebook-scraper) (0.1.0.post0)\n",
      "Requirement already satisfied: tzdata in c:\\users\\daniel\\appdata\\local\\programs\\python\\python310\\lib\\site-packages (from tzlocal->dateparser<2.0.0,>=1.0.0->facebook-scraper) (2022.1)\n",
      "Requirement already satisfied: zipp>=0.5 in c:\\users\\daniel\\appdata\\local\\programs\\python\\python310\\lib\\site-packages (from importlib-metadata>=1.4->pyppeteer>=0.0.14->requests-html<0.11.0,>=0.10.0->facebook-scraper) (3.8.0)\n",
      "Requirement already satisfied: colorama in c:\\users\\daniel\\appdata\\local\\programs\\python\\python310\\lib\\site-packages (from tqdm<5.0.0,>=4.42.1->pyppeteer>=0.0.14->requests-html<0.11.0,>=0.10.0->facebook-scraper) (0.4.4)\n",
      "Requirement already satisfied: soupsieve>1.2 in c:\\users\\daniel\\appdata\\local\\programs\\python\\python310\\lib\\site-packages (from beautifulsoup4->bs4->requests-html<0.11.0,>=0.10.0->facebook-scraper) (2.3.2.post1)\n",
      "Using legacy 'setup.py install' for demjson3, since package 'wheel' is not installed.\n",
      "Using legacy 'setup.py install' for bs4, since package 'wheel' is not installed.\n",
      "Using legacy 'setup.py install' for parse, since package 'wheel' is not installed.\n",
      "Installing collected packages: parse, fake-useragent, demjson3, w3lib, regex, lxml, cssselect, pyquery, bs4, requests-html, dateparser, facebook-scraper\n",
      "  Running setup.py install for parse: started\n",
      "  Running setup.py install for parse: finished with status 'done'\n",
      "  Running setup.py install for demjson3: started\n",
      "  Running setup.py install for demjson3: finished with status 'done'\n",
      "  Running setup.py install for bs4: started\n",
      "  Running setup.py install for bs4: finished with status 'done'\n",
      "Successfully installed bs4-0.0.1 cssselect-1.2.0 dateparser-1.1.3 demjson3-3.0.6 facebook-scraper-0.2.59 fake-useragent-1.0.0 lxml-4.9.1 parse-1.19.0 pyquery-1.4.3 regex-2022.3.2 requests-html-0.10.0 w3lib-2.0.1\n"
     ]
    },
    {
     "name": "stderr",
     "output_type": "stream",
     "text": [
      "WARNING: You are using pip version 22.0.4; however, version 22.3.1 is available.\n",
      "You should consider upgrading via the 'C:\\Users\\DANIEL\\AppData\\Local\\Programs\\Python\\Python310\\python.exe -m pip install --upgrade pip' command.\n"
     ]
    }
   ],
   "source": [
    "!pip install facebook-scraper"
   ]
  },
  {
   "cell_type": "code",
   "execution_count": 2,
   "metadata": {},
   "outputs": [],
   "source": [
    "from facebook_scraper import get_posts"
   ]
  },
  {
   "cell_type": "code",
   "execution_count": 4,
   "metadata": {},
   "outputs": [
    {
     "name": "stdout",
     "output_type": "stream",
     "text": [
      "Your adventures in the Paldea region begin today!\n",
      "\n",
      "\n",
      "Make your LEGO Super Mario levels even more fun wi\n",
      "Sprigatito, Fuecoco, and Quaxly dropped by Nintend\n",
      "\n",
      "Pokémon Scarlet and Pokémon Violet are almost here\n",
      "Tune in on Nov. 9 at 9:00 a.m. PT for a new Indie \n",
      "Kirby discovers that a new friendship can sprout u\n"
     ]
    },
    {
     "name": "stderr",
     "output_type": "stream",
     "text": [
      "c:\\Users\\DANIEL\\AppData\\Local\\Programs\\Python\\Python310\\lib\\site-packages\\dateparser\\freshness_date_parser.py:76: PytzUsageWarning: The localize method is no longer necessary, as this time zone supports the fold attribute (PEP 495). For more details on migrating to a PEP 495-compliant implementation, see https://pytz-deprecation-shim.readthedocs.io/en/latest/migration.html\n",
      "  now = self.get_local_tz().localize(now)\n"
     ]
    },
    {
     "name": "stdout",
     "output_type": "stream",
     "text": [
      "Let’s-a go! Designed with an 8-bit Mario camouflag\n",
      "Looking for a festive Halloween shirt? Don’t lose \n",
      "Two new Mario Kart themed watches from TAG Heuer a\n",
      "Check out this statue of Link from The Legend of Z\n"
     ]
    }
   ],
   "source": [
    "for post in get_posts('nintendo', pages=4):\n",
    "    print(post['text'][:50])    "
   ]
  },
  {
   "cell_type": "code",
   "execution_count": 8,
   "metadata": {},
   "outputs": [
    {
     "name": "stderr",
     "output_type": "stream",
     "text": [
      "c:\\Users\\DANIEL\\AppData\\Local\\Programs\\Python\\Python310\\lib\\site-packages\\dateparser\\freshness_date_parser.py:76: PytzUsageWarning: The localize method is no longer necessary, as this time zone supports the fold attribute (PEP 495). For more details on migrating to a PEP 495-compliant implementation, see https://pytz-deprecation-shim.readthedocs.io/en/latest/migration.html\n",
      "  now = self.get_local_tz().localize(now)\n"
     ]
    },
    {
     "data": {
      "text/plain": [
       "{'top_post': {'post_id': '10228101842470268',\n",
       "  'text': 'Muy orgulloso de graduarme como Ingeniero Mecatrónico. Fue un gusto volver a ver a mis compañeros en un momento tan especial.\\n\\nEsto no hubiera sido posible sin el invaluable apoyo de mi familia, mis amigos, mis compañeros y mi pareja.\\n\\nLarga vida a la gloriosa Universidad Nacional de Colombia.',\n",
       "  'post_text': 'Muy orgulloso de graduarme como Ingeniero Mecatrónico. Fue un gusto volver a ver a mis compañeros en un momento tan especial.\\n\\nEsto no hubiera sido posible sin el invaluable apoyo de mi familia, mis amigos, mis compañeros y mi pareja.\\n\\nLarga vida a la gloriosa Universidad Nacional de Colombia.',\n",
       "  'shared_text': '',\n",
       "  'original_text': None,\n",
       "  'time': datetime.datetime(2021, 12, 10, 18, 43),\n",
       "  'timestamp': None,\n",
       "  'image': 'https://scontent.fbog5-1.fna.fbcdn.net/v/t39.30808-6/264743617_10228101841190236_2095461314177990526_n.jpg?stp=cp0_dst-jpg_e15_fr_q65&_nc_cat=110&ccb=1-7&_nc_sid=110474&efg=eyJpIjoidCJ9&_nc_ohc=LNGajqaRv_sAX9goaKF&_nc_oc=AQnfjPMHcNYAcD0ZZitpfYKQ4feZVPOIY0dGYLpzfDTG3dxotFcWkJjEYDDNHzMUeuY&_nc_ht=scontent.fbog5-1.fna&oh=00_AfD1jGzquBe-I1V-2w2WWQpHw1OukOv1On7fbesDmwovOw&oe=637DCADD&manual_redirect=1',\n",
       "  'image_lowquality': 'https://scontent.fbog5-1.fna.fbcdn.net/v/t39.30808-6/264743617_10228101841190236_2095461314177990526_n.jpg?stp=cp0_dst-jpg_e15_p240x240_q65&_nc_cat=110&ccb=1-7&_nc_sid=110474&efg=eyJpIjoidCJ9&_nc_ohc=LNGajqaRv_sAX9goaKF&_nc_oc=AQnfjPMHcNYAcD0ZZitpfYKQ4feZVPOIY0dGYLpzfDTG3dxotFcWkJjEYDDNHzMUeuY&_nc_ht=scontent.fbog5-1.fna&oh=00_AfDXag2CC0t2rGMbbyfZxHalQ0WPxi5xi82nPrMVUq9FBg&oe=637DCADD',\n",
       "  'images': ['https://scontent.fbog5-1.fna.fbcdn.net/v/t39.30808-6/264743617_10228101841190236_2095461314177990526_n.jpg?stp=cp0_dst-jpg_e15_fr_q65&_nc_cat=110&ccb=1-7&_nc_sid=110474&efg=eyJpIjoidCJ9&_nc_ohc=LNGajqaRv_sAX9goaKF&_nc_oc=AQnfjPMHcNYAcD0ZZitpfYKQ4feZVPOIY0dGYLpzfDTG3dxotFcWkJjEYDDNHzMUeuY&_nc_ht=scontent.fbog5-1.fna&oh=00_AfD1jGzquBe-I1V-2w2WWQpHw1OukOv1On7fbesDmwovOw&oe=637DCADD&manual_redirect=1',\n",
       "   'https://scontent.fbog5-1.fna.fbcdn.net/v/t39.30808-6/266728927_10228101842910279_1274421529383155171_n.jpg?stp=cp0_dst-jpg_e15_fr_q65&_nc_cat=103&ccb=1-7&_nc_sid=110474&efg=eyJpIjoidCJ9&_nc_ohc=Pg9d7QYT35wAX9QwhNN&tn=e0hpcYx7yrnp0N7X&_nc_ht=scontent.fbog5-1.fna&oh=00_AfAWwLqdFVCJSbKUB-SfPVZ2EUDbHLeOr_CKu1THZkCEyw&oe=637D90AA&manual_redirect=1',\n",
       "   'https://scontent.fbog5-1.fna.fbcdn.net/v/t39.30808-6/266154314_10228101843830302_4041227633557888279_n.jpg?stp=cp0_dst-jpg_e15_fr_q65&_nc_cat=100&ccb=1-7&_nc_sid=110474&efg=eyJpIjoidCJ9&_nc_ohc=M-vNJlmYrjsAX-b-sSu&tn=e0hpcYx7yrnp0N7X&_nc_ht=scontent.fbog5-1.fna&oh=00_AfBQFioB4HIUu6mIznNLbxgCX4n4Abrwhxmr4gJcebx2iw&oe=637CC8C7&manual_redirect=1',\n",
       "   'https://scontent.fbog5-1.fna.fbcdn.net/v/t39.30808-6/266846440_10228101843910304_6053836631752032590_n.jpg?stp=cp0_dst-jpg_e15_fr_q65&_nc_cat=111&ccb=1-7&_nc_sid=110474&efg=eyJpIjoidCJ9&_nc_ohc=q2MqzH-8h7UAX8tlWW1&_nc_ht=scontent.fbog5-1.fna&oh=00_AfA9inMCAuJuP2AnOBgxIlmuK9UeKHLwg_S7CsLZqlt8rg&oe=637C88ED&manual_redirect=1'],\n",
       "  'images_description': ['Puede ser una imagen de texto que dice \"UNIVERSIDAD NACIONAL DECOLOMBIA facultad de ngeniería Sede Bogotá UNIVERSID NACIO DE COLOM acultad de Ingenieria Sede Bogotá facultad de ngeniería Sede Bogotá UNIVERSIDAD NACION DE COLOMBIA SIDAD IONAL OMBIA Ingeniería Bogotá UNIVERSIDAD NACIONAL facultad ngeniería DECOLOMBIA UNIVER\\'S Sede Bogotá UNIVERSIDAD NACIONAL acultad ería facultad de Ingeniería NACIO COLOMBIA Sede Sede Bogotá DE ஜழ COLOI B VERSIDAD NACION NACIONAL COLOMBIA\"',\n",
       "   'Puede ser una imagen de una o varias personas, personas de pie y al aire libre',\n",
       "   'No hay ninguna descripción de la foto disponible.',\n",
       "   'Puede ser una imagen de una o varias personas, personas de pie e interior'],\n",
       "  'images_lowquality': ['https://scontent.fbog5-1.fna.fbcdn.net/v/t39.30808-6/264743617_10228101841190236_2095461314177990526_n.jpg?stp=cp0_dst-jpg_e15_p240x240_q65&_nc_cat=110&ccb=1-7&_nc_sid=110474&efg=eyJpIjoidCJ9&_nc_ohc=LNGajqaRv_sAX9goaKF&_nc_oc=AQnfjPMHcNYAcD0ZZitpfYKQ4feZVPOIY0dGYLpzfDTG3dxotFcWkJjEYDDNHzMUeuY&_nc_ht=scontent.fbog5-1.fna&oh=00_AfDXag2CC0t2rGMbbyfZxHalQ0WPxi5xi82nPrMVUq9FBg&oe=637DCADD',\n",
       "   'https://scontent.fbog5-1.fna.fbcdn.net/v/t39.30808-6/266728927_10228101842910279_1274421529383155171_n.jpg?stp=cp0_dst-jpg_e15_p118x118_q65&_nc_cat=103&ccb=1-7&_nc_sid=110474&efg=eyJpIjoidCJ9&_nc_ohc=Pg9d7QYT35wAX9QwhNN&_nc_ht=scontent.fbog5-1.fna&oh=00_AfBBy9oOnp5wLjJVYjGMY6SOR62rR5Kbd4pb5YEsUvfzAw&oe=637D90AA',\n",
       "   'https://scontent.fbog5-1.fna.fbcdn.net/v/t39.30808-6/266154314_10228101843830302_4041227633557888279_n.jpg?stp=cp0_dst-jpg_e15_p118x118_q65&_nc_cat=100&ccb=1-7&_nc_sid=110474&efg=eyJpIjoidCJ9&_nc_ohc=M-vNJlmYrjsAX-b-sSu&_nc_ht=scontent.fbog5-1.fna&oh=00_AfCF3g82lrY_cIrie4kVYszSgkXYF_p-YjnJ-RihH_aHeQ&oe=637CC8C7',\n",
       "   'https://scontent.fbog5-1.fna.fbcdn.net/v/t39.30808-6/266846440_10228101843910304_6053836631752032590_n.jpg?stp=cp0_dst-jpg_e15_p118x118_q65&_nc_cat=111&ccb=1-7&_nc_sid=110474&efg=eyJpIjoidCJ9&_nc_ohc=q2MqzH-8h7UAX8tlWW1&_nc_ht=scontent.fbog5-1.fna&oh=00_AfBZW5Pt7_Ipz-6Pvm7v3jDAkEyaMydRoSUTxQqp7_8rkw&oe=637C88ED'],\n",
       "  'images_lowquality_description': ['Puede ser una imagen de texto que dice \"UNIVERSIDAD NACIONAL DECOLOMBIA facultad de ngeniería Sede Bogotá UNIVERSID NACIO DE COLOM acultad de Ingenieria Sede Bogotá facultad de ngeniería Sede Bogotá UNIVERSIDAD NACION DE COLOMBIA SIDAD IONAL OMBIA Ingeniería Bogotá UNIVERSIDAD NACIONAL facultad ngeniería DECOLOMBIA UNIVER\\'S Sede Bogotá UNIVERSIDAD NACIONAL acultad ería facultad de Ingeniería NACIO COLOMBIA Sede Sede Bogotá DE ஜழ COLOI B VERSIDAD NACION NACIONAL COLOMBIA\"',\n",
       "   'Puede ser una imagen de una o varias personas, personas de pie y al aire libre',\n",
       "   'No hay ninguna descripción de la foto disponible.',\n",
       "   'Puede ser una imagen de una o varias personas, personas de pie e interior'],\n",
       "  'video': None,\n",
       "  'video_duration_seconds': None,\n",
       "  'video_height': None,\n",
       "  'video_id': None,\n",
       "  'video_quality': None,\n",
       "  'video_size_MB': None,\n",
       "  'video_thumbnail': None,\n",
       "  'video_watches': None,\n",
       "  'video_width': None,\n",
       "  'likes': 100,\n",
       "  'comments': 16,\n",
       "  'shares': 0,\n",
       "  'post_url': 'https://facebook.com/story.php?story_fbid=pfbid02SvYfNKJxBpZZRvtrZiaeWcgmpUAwfq33ui6sj8Ge9KHhJWsnBX696yUKikXMAf6il&id=1201315536',\n",
       "  'link': None,\n",
       "  'links': [{'link': '/story.php?story_fbid=pfbid02SvYfNKJxBpZZRvtrZiaeWcgmpUAwfq33ui6sj8Ge9KHhJWsnBX696yUKikXMAf6il&id=1201315536&eav=AfaRYgqMOcasZzEIoCALGWNuyHtBV-r_2km6xb7oTmlvnXg_2cqAmQzWpqMP1vXCAtE&m_entstream_source=timeline&refid=17&_ft_=encrypted_tracking_data.0AY_rzeijAVqLgO6W_KxGKo_xz39TEbDiMstPAV3wpticOfuIGrMm62LJiAIO3pBjs1-qhJXAuFr-j5keshHDIk9Q7Zoey2fZFNreMVvqGDPGBlwQh2J2wJbx-ZDrX7QhsMCBDgRKkDuCP4uf6vNuO61ItmhkpetSibBANNLR8x3ueiIEu5xRdulRxO-QkkjaXidIb32KGp9r44l3RoQJA0aexmLAEGeIRowTt6XU9uf-HtWY7NR5eZFc1Gi33Z28NwA4Q2BAMAOSK7O8uYD8VE4LOpRTTlc5YV8Ei8S537AtcP3x8ABsv59x_iEj-wort3XNOTBrHysJkHTOiqfKgEZUWO7CblVph9T5ritLNOf5eDsbJ6JcAOTBGRMbK1VuSJkriNN4KewOYSGqEckRPhIt5gbB01_lmG2LMxtdcHQFX7lLlTvXJIn4ycrQKZYjOgkyUGmC86pUW7v8wV-LMXV8gxrdWnsvgkX-2oYfsGnCdWAC_hDnmtkbuNwE18g2gRpDQykv1ZHjlLu6Yp0sPVW24nYpMR3RR2dsBSUZQkVNAqpxQ1Hv2QVIXkAP_euycSmrrwePirrQdtRC0HwwA202XZfa1qjJXiJChrJayi77k40ibknUDn72q81uSc3h-H8o6Vn75_cVpRxW0uA5MfvBl_mPy0Ln5bIul5oOPwHhbIEaC-zf0ppLB7auJOOP_HgCsbxGBeoLzIgRHyc-_Nn-TVkY1V2I-W63aXUL3MEY-IBepwwvqNDGH9pquSdai4jnP5rjuvQG7qZdhNkKA7nV4r8Pffag_3XEjH6UfXU7Fn4lY43UrU6zySyxEX__N7oQIDaAx_89iVE1N4TZc8Jn-3TiQ-Y&__tn__=%2As%2As-R&paipv=0',\n",
       "    'text': ''},\n",
       "   {'link': '/photos/viewer/?photoset_token=pcb.10228101842470268&photo=10228101841310239&profileid=100001562325722&eav=AfZ8PQXqJH_lvroVu4cx_x3gPt4dJcKbUEXGlAGQlGjapBIb2skWIJwsCAsNurXJm-o&paipv=0&source=49&refid=17&_ft_=encrypted_tracking_data.0AY_rzeijAVqLgO6W_KxGKo_xz39TEbDiMstPAV3wpticOfuIGrMm62LJiAIO3pBjs1-qhJXAuFr-j5keshHDIk9Q7Zoey2fZFNreMVvqGDPGBlwQh2J2wJbx-ZDrX7QhsMCBDgRKkDuCP4uf6vNuO61ItmhkpetSibBANNLR8x3ueiIEu5xRdulRxO-QkkjaXidIb32KGp9r44l3RoQJA0aexmLAEGeIRowTt6XU9uf-HtWY7NR5eZFc1Gi33Z28NwA4Q2BAMAOSK7O8uYD8VE4LOpRTTlc5YV8Ei8S537AtcP3x8ABsv59x_iEj-wort3XNOTBrHysJkHTOiqfKgEZUWO7CblVph9T5ritLNOf5eDsbJ6JcAOTBGRMbK1VuSJkriNN4KewOYSGqEckRPhIt5gbB01_lmG2LMxtdcHQFX7lLlTvXJIn4ycrQKZYjOgkyUGmC86pUW7v8wV-LMXV8gxrdWnsvgkX-2oYfsGnCdWAC_hDnmtkbuNwE18g2gRpDQykv1ZHjlLu6Yp0sPVW24nYpMR3RR2dsBSUZQkVNAqpxQ1Hv2QVIXkAP_euycSmrrwePirrQdtRC0HwwA202XZfa1qjJXiJChrJayi77k40ibknUDn72q81uSc3h-H8o6Vn75_cVpRxW0uA5MfvBl_mPy0Ln5bIul5oOPwHhbIEaC-zf0ppLB7auJOOP_HgCsbxGBeoLzIgRHyc-_Nn-TVkY1V2I-W63aXUL3MEY-IBepwwvqNDGH9pquSdai4jnP5rjuvQG7qZdhNkKA7nV4r8Pffag_3XEjH6UfXU7Fn4lY43UrU6zySyxEX__N7oQIDaAx_89iVE1N4TZc8Jn-3TiQ-Y&__tn__=EH-R',\n",
       "    'text': ''},\n",
       "   {'link': '/photos/viewer/?photoset_token=pcb.10228101842470268&photo=10228101841750250&profileid=100001562325722&eav=Afb8WwEnfppv1MlbDizfvaWaYeyRJ77LRFo8sax5nPs4SwH6dyQLxRubQnBm-FDsSl8&paipv=0&source=49&refid=17&_ft_=encrypted_tracking_data.0AY_rzeijAVqLgO6W_KxGKo_xz39TEbDiMstPAV3wpticOfuIGrMm62LJiAIO3pBjs1-qhJXAuFr-j5keshHDIk9Q7Zoey2fZFNreMVvqGDPGBlwQh2J2wJbx-ZDrX7QhsMCBDgRKkDuCP4uf6vNuO61ItmhkpetSibBANNLR8x3ueiIEu5xRdulRxO-QkkjaXidIb32KGp9r44l3RoQJA0aexmLAEGeIRowTt6XU9uf-HtWY7NR5eZFc1Gi33Z28NwA4Q2BAMAOSK7O8uYD8VE4LOpRTTlc5YV8Ei8S537AtcP3x8ABsv59x_iEj-wort3XNOTBrHysJkHTOiqfKgEZUWO7CblVph9T5ritLNOf5eDsbJ6JcAOTBGRMbK1VuSJkriNN4KewOYSGqEckRPhIt5gbB01_lmG2LMxtdcHQFX7lLlTvXJIn4ycrQKZYjOgkyUGmC86pUW7v8wV-LMXV8gxrdWnsvgkX-2oYfsGnCdWAC_hDnmtkbuNwE18g2gRpDQykv1ZHjlLu6Yp0sPVW24nYpMR3RR2dsBSUZQkVNAqpxQ1Hv2QVIXkAP_euycSmrrwePirrQdtRC0HwwA202XZfa1qjJXiJChrJayi77k40ibknUDn72q81uSc3h-H8o6Vn75_cVpRxW0uA5MfvBl_mPy0Ln5bIul5oOPwHhbIEaC-zf0ppLB7auJOOP_HgCsbxGBeoLzIgRHyc-_Nn-TVkY1V2I-W63aXUL3MEY-IBepwwvqNDGH9pquSdai4jnP5rjuvQG7qZdhNkKA7nV4r8Pffag_3XEjH6UfXU7Fn4lY43UrU6zySyxEX__N7oQIDaAx_89iVE1N4TZc8Jn-3TiQ-Y&__tn__=EH-R',\n",
       "    'text': ''},\n",
       "   {'link': '/photos/viewer/?photoset_token=pcb.10228101842470268&photo=10228101842030257&profileid=100001562325722&eav=AfZZ1rhz59Ri1yiWOOjqldp7TMF78VUnS4O8MrPXzML5tmH5_dbqhZ1sKLkX8C6UN8c&paipv=0&source=49&refid=17&_ft_=encrypted_tracking_data.0AY_rzeijAVqLgO6W_KxGKo_xz39TEbDiMstPAV3wpticOfuIGrMm62LJiAIO3pBjs1-qhJXAuFr-j5keshHDIk9Q7Zoey2fZFNreMVvqGDPGBlwQh2J2wJbx-ZDrX7QhsMCBDgRKkDuCP4uf6vNuO61ItmhkpetSibBANNLR8x3ueiIEu5xRdulRxO-QkkjaXidIb32KGp9r44l3RoQJA0aexmLAEGeIRowTt6XU9uf-HtWY7NR5eZFc1Gi33Z28NwA4Q2BAMAOSK7O8uYD8VE4LOpRTTlc5YV8Ei8S537AtcP3x8ABsv59x_iEj-wort3XNOTBrHysJkHTOiqfKgEZUWO7CblVph9T5ritLNOf5eDsbJ6JcAOTBGRMbK1VuSJkriNN4KewOYSGqEckRPhIt5gbB01_lmG2LMxtdcHQFX7lLlTvXJIn4ycrQKZYjOgkyUGmC86pUW7v8wV-LMXV8gxrdWnsvgkX-2oYfsGnCdWAC_hDnmtkbuNwE18g2gRpDQykv1ZHjlLu6Yp0sPVW24nYpMR3RR2dsBSUZQkVNAqpxQ1Hv2QVIXkAP_euycSmrrwePirrQdtRC0HwwA202XZfa1qjJXiJChrJayi77k40ibknUDn72q81uSc3h-H8o6Vn75_cVpRxW0uA5MfvBl_mPy0Ln5bIul5oOPwHhbIEaC-zf0ppLB7auJOOP_HgCsbxGBeoLzIgRHyc-_Nn-TVkY1V2I-W63aXUL3MEY-IBepwwvqNDGH9pquSdai4jnP5rjuvQG7qZdhNkKA7nV4r8Pffag_3XEjH6UfXU7Fn4lY43UrU6zySyxEX__N7oQIDaAx_89iVE1N4TZc8Jn-3TiQ-Y&__tn__=EH-R',\n",
       "    'text': ''},\n",
       "   {'link': '/photos/viewer/?photoset_token=pcb.10228101842470268&photo=10228101842310264&profileid=100001562325722&eav=AfaRyaSZNOcYRJRnljziLvu7lI5izOobtE8MQGU7BQ9rdk3IJ7wHp38RZTysEryr4p4&paipv=0&source=49&refid=17&_ft_=encrypted_tracking_data.0AY_rzeijAVqLgO6W_KxGKo_xz39TEbDiMstPAV3wpticOfuIGrMm62LJiAIO3pBjs1-qhJXAuFr-j5keshHDIk9Q7Zoey2fZFNreMVvqGDPGBlwQh2J2wJbx-ZDrX7QhsMCBDgRKkDuCP4uf6vNuO61ItmhkpetSibBANNLR8x3ueiIEu5xRdulRxO-QkkjaXidIb32KGp9r44l3RoQJA0aexmLAEGeIRowTt6XU9uf-HtWY7NR5eZFc1Gi33Z28NwA4Q2BAMAOSK7O8uYD8VE4LOpRTTlc5YV8Ei8S537AtcP3x8ABsv59x_iEj-wort3XNOTBrHysJkHTOiqfKgEZUWO7CblVph9T5ritLNOf5eDsbJ6JcAOTBGRMbK1VuSJkriNN4KewOYSGqEckRPhIt5gbB01_lmG2LMxtdcHQFX7lLlTvXJIn4ycrQKZYjOgkyUGmC86pUW7v8wV-LMXV8gxrdWnsvgkX-2oYfsGnCdWAC_hDnmtkbuNwE18g2gRpDQykv1ZHjlLu6Yp0sPVW24nYpMR3RR2dsBSUZQkVNAqpxQ1Hv2QVIXkAP_euycSmrrwePirrQdtRC0HwwA202XZfa1qjJXiJChrJayi77k40ibknUDn72q81uSc3h-H8o6Vn75_cVpRxW0uA5MfvBl_mPy0Ln5bIul5oOPwHhbIEaC-zf0ppLB7auJOOP_HgCsbxGBeoLzIgRHyc-_Nn-TVkY1V2I-W63aXUL3MEY-IBepwwvqNDGH9pquSdai4jnP5rjuvQG7qZdhNkKA7nV4r8Pffag_3XEjH6UfXU7Fn4lY43UrU6zySyxEX__N7oQIDaAx_89iVE1N4TZc8Jn-3TiQ-Y&__tn__=EH-R',\n",
       "    'text': ''}],\n",
       "  'user_id': 1201315536,\n",
       "  'username': 'Lucho Rodriguez',\n",
       "  'user_url': 'https://facebook.com/lucho.rodriguez.144?eav=AfaCt-LqsxvDkgCc0jqxSguB8QvxUNqlAvjfE8a4XV3yHfhD9pmqzQPtE74LwY_Co5I&refid=17&_ft_=encrypted_tracking_data.0AY_rzeijAVqLgO6W_KxGKo_xz39TEbDiMstPAV3wpticOfuIGrMm62LJiAIO3pBjs1-qhJXAuFr-j5keshHDIk9Q7Zoey2fZFNreMVvqGDPGBlwQh2J2wJbx-ZDrX7QhsMCBDgRKkDuCP4uf6vNuO61ItmhkpetSibBANNLR8x3ueiIEu5xRdulRxO-QkkjaXidIb32KGp9r44l3RoQJA0aexmLAEGeIRowTt6XU9uf-HtWY7NR5eZFc1Gi33Z28NwA4Q2BAMAOSK7O8uYD8VE4LOpRTTlc5YV8Ei8S537AtcP3x8ABsv59x_iEj-wort3XNOTBrHysJkHTOiqfKgEZUWO7CblVph9T5ritLNOf5eDsbJ6JcAOTBGRMbK1VuSJkriNN4KewOYSGqEckRPhIt5gbB01_lmG2LMxtdcHQFX7lLlTvXJIn4ycrQKZYjOgkyUGmC86pUW7v8wV-LMXV8gxrdWnsvgkX-2oYfsGnCdWAC_hDnmtkbuNwE18g2gRpDQykv1ZHjlLu6Yp0sPVW24nYpMR3RR2dsBSUZQkVNAqpxQ1Hv2QVIXkAP_euycSmrrwePirrQdtRC0HwwA202XZfa1qjJXiJChrJayi77k40ibknUDn72q81uSc3h-H8o6Vn75_cVpRxW0uA5MfvBl_mPy0Ln5bIul5oOPwHhbIEaC-zf0ppLB7auJOOP_HgCsbxGBeoLzIgRHyc-_Nn-TVkY1V2I-W63aXUL3MEY-IBepwwvqNDGH9pquSdai4jnP5rjuvQG7qZdhNkKA7nV4r8Pffag_3XEjH6UfXU7Fn4lY43UrU6zySyxEX__N7oQIDaAx_89iVE1N4TZc8Jn-3TiQ-Y&__tn__=C-R&paipv=0',\n",
       "  'is_live': False,\n",
       "  'factcheck': None,\n",
       "  'shared_post_id': None,\n",
       "  'shared_time': None,\n",
       "  'shared_user_id': None,\n",
       "  'shared_username': None,\n",
       "  'shared_post_url': None,\n",
       "  'available': True,\n",
       "  'comments_full': None,\n",
       "  'reactors': None,\n",
       "  'w3_fb_url': None,\n",
       "  'reactions': None,\n",
       "  'reaction_count': 100,\n",
       "  'with': [{'name': 'David Parga Veloza',\n",
       "    'link': '/davidleonardo.pargaveloza?eav=AfbcluHA1fGSrM-2i_hnUYLDTaGve_F1lsrBEPHRU8KyapYwJiiiWYwf3pvyCBu2-_M&refid=17&_ft_=encrypted_tracking_data.0AY_rzeijAVqLgO6W_KxGKo_xz39TEbDiMstPAV3wpticOfuIGrMm62LJiAIO3pBjs1-qhJXAuFr-j5keshHDIk9Q7Zoey2fZFNreMVvqGDPGBlwQh2J2wJbx-ZDrX7QhsMCBDgRKkDuCP4uf6vNuO61ItmhkpetSibBANNLR8x3ueiIEu5xRdulRxO-QkkjaXidIb32KGp9r44l3RoQJA0aexmLAEGeIRowTt6XU9uf-HtWY7NR5eZFc1Gi33Z28NwA4Q2BAMAOSK7O8uYD8VE4LOpRTTlc5YV8Ei8S537AtcP3x8ABsv59x_iEj-wort3XNOTBrHysJkHTOiqfKgEZUWO7CblVph9T5ritLNOf5eDsbJ6JcAOTBGRMbK1VuSJkriNN4KewOYSGqEckRPhIt5gbB01_lmG2LMxtdcHQFX7lLlTvXJIn4ycrQKZYjOgkyUGmC86pUW7v8wV-LMXV8gxrdWnsvgkX-2oYfsGnCdWAC_hDnmtkbuNwE18g2gRpDQykv1ZHjlLu6Yp0sPVW24nYpMR3RR2dsBSUZQkVNAqpxQ1Hv2QVIXkAP_euycSmrrwePirrQdtRC0HwwA202XZfa1qjJXiJChrJayi77k40ibknUDn72q81uSc3h-H8o6Vn75_cVpRxW0uA5MfvBl_mPy0Ln5bIul5oOPwHhbIEaC-zf0ppLB7auJOOP_HgCsbxGBeoLzIgRHyc-_Nn-TVkY1V2I-W63aXUL3MEY-IBepwwvqNDGH9pquSdai4jnP5rjuvQG7qZdhNkKA7nV4r8Pffag_3XEjH6UfXU7Fn4lY43UrU6zySyxEX__N7oQIDaAx_89iVE1N4TZc8Jn-3TiQ-Y&__tn__=C-R&paipv=0'},\n",
       "   {'name': 'Kevin Ramirez',\n",
       "    'link': '/kevin.ramirez.71216?eav=AfZ9ORYQgUPbM6kmTIRqkxS6ylWjbydtScdWLh_ZAjAvzM5dPVc-TFhyWGOOfTmrZuE&fref=pb&paipv=0'},\n",
       "   {'name': 'Alejandra Melo',\n",
       "    'link': '/alejandra.melo.549?eav=Afa2pkeZevf4v1j9PJa6sxedOP0-IUBGPMhVO3aBOTlcvNuvoyIc0TQz_m8Kbjo2WHQ&fref=pb&paipv=0'},\n",
       "   {'name': 'Daniel P. Rivera',\n",
       "    'link': '/danieleduardo.privera?eav=Afb4R4wQlYGWeDM0doTOTlIeUF-hYHbD2sAdLXfdfIne9oQVGbrbQWfkDymTSuBIAyk&fref=pb&paipv=0'},\n",
       "   {'name': 'Luis Bohorquez',\n",
       "    'link': '/LuisCarlos.1997?eav=AfbTTbIh81FWxXGtih7t3nZ0n4Q-bIEmi5V104FEaLpsCHalTeGCnvRU0IiroVvw9LM&fref=pb&paipv=0'}],\n",
       "  'page_id': None,\n",
       "  'sharers': None,\n",
       "  'image_id': None,\n",
       "  'image_ids': [],\n",
       "  'video_ids': [],\n",
       "  'videos': [],\n",
       "  'was_live': False,\n",
       "  'header': 'Lucho Rodriguez está con David Parga Veloza y 4 personas más.'},\n",
       " 'Friend_count': 305,\n",
       " 'Follower_count': None,\n",
       " 'Following_count': 2889,\n",
       " 'cover_photo_text': 'Foto de portada: Foto de Daniel P. Rivera.',\n",
       " 'cover_photo': 'https://scontent.fbog5-1.fna.fbcdn.net/v/t1.18169-9/10505517_857758617619541_4570246123294328022_n.jpg?stp=cp0_dst-jpg_e15_fr_q65&_nc_cat=106&ccb=1-7&_nc_sid=dd9801&efg=eyJpIjoidCJ9&_nc_ohc=xVAGDQfvQp4AX8GYGdU&_nc_ht=scontent.fbog5-1.fna&oh=00_AfDMJyBU28YRNnMZ_aL4thmC0lnhkzlpKfMq0bHK37CSSA&oe=639FA678&manual_redirect=1',\n",
       " 'profile_picture': 'https://scontent.fbog5-1.fna.fbcdn.net/v/t1.18169-9/12187874_993622110699857_8587656695463915752_n.jpg?stp=cp0_dst-jpg_e15_fr_q65&_nc_cat=111&ccb=1-7&_nc_sid=85a577&efg=eyJpIjoidCJ9&_nc_ohc=5DHVDeqG-dEAX9bOfac&_nc_ht=scontent.fbog5-1.fna&oh=00_AfAEUuS_i660YTn7gVah8bNzK_yJ1U1TRLVEZu-P5cq0pw&oe=639F8D32&manual_redirect=1',\n",
       " 'id': '100001562325722',\n",
       " 'Name': 'Daniel P. Rivera',\n",
       " 'Empleo': 'Agrega un empleo',\n",
       " 'Formación académica': 'Agrega una universidad\\nAgrega una escuela secundaria\\nUniversidad Nacional de Colombia\\nUniversidad\\nMás opciones',\n",
       " 'Lugares de residencia': 'Agrega una ciudad\\nBogotá\\nCiudad actual\\nMás opciones\\nChiquinquirá\\nCiudad de origen\\nMás opciones',\n",
       " 'Información de contacto\\nEditar': 'Editar\\n/danieleduardo.privera\\nFacebook\\ndaniel.19982001@hotmail.com\\nCorreo electrónico',\n",
       " 'Información básica\\nEditar': 'Editar\\n11 de agosto de 1998\\nFecha de nacimiento\\nHombre\\nSexo\\nMujeres\\nIntereses\\nCatólico\\nCreencias religiosas',\n",
       " 'Otros nombres': 'Agregar un apodo, un nombre original...',\n",
       " 'Situación sentimental': 'Soltero\\nMás opciones',\n",
       " 'Familiares': 'Agregar un familiar',\n",
       " 'Información sobre ti': 'Escribe sobre ti',\n",
       " 'Acontecimientos importantes': '',\n",
       " 'Citas favoritas': 'Agrega una cita favorita'}"
      ]
     },
     "execution_count": 8,
     "metadata": {},
     "output_type": "execute_result"
    }
   ],
   "source": [
    "from facebook_scraper import get_profile\n",
    "get_profile(\"danieleduardo.privera\", cookies=\"facebook.com_cookies.txt\")"
   ]
  },
  {
   "cell_type": "code",
   "execution_count": null,
   "metadata": {},
   "outputs": [],
   "source": []
  },
  {
   "cell_type": "code",
   "execution_count": 9,
   "metadata": {},
   "outputs": [
    {
     "name": "stdout",
     "output_type": "stream",
     "text": [
      "Collecting selenium\n",
      "  Using cached selenium-4.6.0-py3-none-any.whl (5.2 MB)\n",
      "Requirement already satisfied: beautifulsoup4 in c:\\users\\daniel\\appdata\\local\\programs\\python\\python310\\lib\\site-packages (4.11.1)\n",
      "Collecting trio~=0.17\n",
      "  Using cached trio-0.22.0-py3-none-any.whl (384 kB)\n",
      "Collecting trio-websocket~=0.9\n",
      "  Using cached trio_websocket-0.9.2-py3-none-any.whl (16 kB)\n",
      "Requirement already satisfied: certifi>=2021.10.8 in c:\\users\\daniel\\appdata\\local\\programs\\python\\python310\\lib\\site-packages (from selenium) (2022.5.18.1)\n",
      "Requirement already satisfied: urllib3[socks]~=1.26 in c:\\users\\daniel\\appdata\\local\\programs\\python\\python310\\lib\\site-packages (from selenium) (1.26.9)\n",
      "Requirement already satisfied: soupsieve>1.2 in c:\\users\\daniel\\appdata\\local\\programs\\python\\python310\\lib\\site-packages (from beautifulsoup4) (2.3.2.post1)\n",
      "Requirement already satisfied: idna in c:\\users\\daniel\\appdata\\local\\programs\\python\\python310\\lib\\site-packages (from trio~=0.17->selenium) (3.3)\n",
      "Collecting exceptiongroup>=1.0.0rc9\n",
      "  Downloading exceptiongroup-1.0.4-py3-none-any.whl (14 kB)\n",
      "Collecting outcome\n",
      "  Using cached outcome-1.2.0-py2.py3-none-any.whl (9.7 kB)\n",
      "Collecting sniffio\n",
      "  Using cached sniffio-1.3.0-py3-none-any.whl (10 kB)\n",
      "Requirement already satisfied: attrs>=19.2.0 in c:\\users\\daniel\\appdata\\local\\programs\\python\\python310\\lib\\site-packages (from trio~=0.17->selenium) (21.4.0)\n",
      "Collecting sortedcontainers\n",
      "  Using cached sortedcontainers-2.4.0-py2.py3-none-any.whl (29 kB)\n",
      "Collecting async-generator>=1.9\n",
      "  Using cached async_generator-1.10-py3-none-any.whl (18 kB)\n",
      "Requirement already satisfied: cffi>=1.14 in c:\\users\\daniel\\appdata\\local\\programs\\python\\python310\\lib\\site-packages (from trio~=0.17->selenium) (1.15.0)\n",
      "Collecting wsproto>=0.14\n",
      "  Using cached wsproto-1.2.0-py3-none-any.whl (24 kB)\n",
      "Requirement already satisfied: PySocks!=1.5.7,<2.0,>=1.5.6 in c:\\users\\daniel\\appdata\\local\\programs\\python\\python310\\lib\\site-packages (from urllib3[socks]~=1.26->selenium) (1.7.1)\n",
      "Requirement already satisfied: pycparser in c:\\users\\daniel\\appdata\\local\\programs\\python\\python310\\lib\\site-packages (from cffi>=1.14->trio~=0.17->selenium) (2.21)\n",
      "Collecting h11<1,>=0.9.0\n",
      "  Using cached h11-0.14.0-py3-none-any.whl (58 kB)\n",
      "Installing collected packages: sortedcontainers, sniffio, outcome, h11, exceptiongroup, async-generator, wsproto, trio, trio-websocket, selenium\n",
      "Successfully installed async-generator-1.10 exceptiongroup-1.0.4 h11-0.14.0 outcome-1.2.0 selenium-4.6.0 sniffio-1.3.0 sortedcontainers-2.4.0 trio-0.22.0 trio-websocket-0.9.2 wsproto-1.2.0\n"
     ]
    },
    {
     "name": "stderr",
     "output_type": "stream",
     "text": [
      "WARNING: You are using pip version 22.0.4; however, version 22.3.1 is available.\n",
      "You should consider upgrading via the 'C:\\Users\\DANIEL\\AppData\\Local\\Programs\\Python\\Python310\\python.exe -m pip install --upgrade pip' command.\n"
     ]
    }
   ],
   "source": [
    "!pip install selenium beautifulsoup4"
   ]
  },
  {
   "cell_type": "code",
   "execution_count": null,
   "metadata": {},
   "outputs": [],
   "source": []
  }
 ],
 "metadata": {
  "kernelspec": {
   "display_name": "Python 3.10.5 ('vertikal': venv)",
   "language": "python",
   "name": "python3"
  },
  "language_info": {
   "codemirror_mode": {
    "name": "ipython",
    "version": 3
   },
   "file_extension": ".py",
   "mimetype": "text/x-python",
   "name": "python",
   "nbconvert_exporter": "python",
   "pygments_lexer": "ipython3",
   "version": "3.10.5"
  },
  "orig_nbformat": 4,
  "vscode": {
   "interpreter": {
    "hash": "70258f4837e3f46022aa0137b5be3a4e9270dc89d52dc988758cb74f0ce7bbb8"
   }
  }
 },
 "nbformat": 4,
 "nbformat_minor": 2
}
