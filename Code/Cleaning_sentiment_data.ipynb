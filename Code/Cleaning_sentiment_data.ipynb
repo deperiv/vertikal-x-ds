{
 "cells": [
  {
   "cell_type": "markdown",
   "metadata": {},
   "source": [
    "# Cleaning sentiment data"
   ]
  },
  {
   "cell_type": "markdown",
   "metadata": {},
   "source": [
    "## Description"
   ]
  },
  {
   "cell_type": "markdown",
   "metadata": {},
   "source": [
    "We will handle two languages: English and Spanish.\n",
    "\n",
    "For English we will work with the next datasets:\n",
    "* EPL tweets dataset\n",
    "* Sentiment140\n",
    "\n",
    "For Spanish we will work with the next datasets:\n",
    "* TASS general\n",
    "* Emociones\n",
    "* emoji\n",
    "* interTASS\n",
    "* Spanish Airlines tweets"
   ]
  },
  {
   "cell_type": "markdown",
   "metadata": {},
   "source": [
    "interTASS data is a dataset from [TASS](http://www.sepln.org/workshops/tass) that gathers tweets in Spanish from several countries (Spain, Mexico, Costa Rica and Peru). Each tweet is labeled by its sentiment (N-Negative, NEU-Neutral, P-Positive, NONE-None). The data is in XML format, so we will have to perform a parsing process in order to extract the useful data."
   ]
  },
  {
   "cell_type": "markdown",
   "metadata": {},
   "source": [
    "## Loading files"
   ]
  },
  {
   "cell_type": "code",
   "execution_count": 1,
   "metadata": {},
   "outputs": [],
   "source": [
    "import unidecode\n",
    "import re\n",
    "\n",
    "import pandas               as pd\n",
    "import pandas_read_xml      as pdx\n",
    "import matplotlib.pyplot    as plt\n",
    "from os                   import listdir\n",
    "from os.path              import isfile, join"
   ]
  },
  {
   "cell_type": "markdown",
   "metadata": {},
   "source": [
    "### English"
   ]
  },
  {
   "cell_type": "markdown",
   "metadata": {},
   "source": [
    "#### EPL"
   ]
  },
  {
   "cell_type": "code",
   "execution_count": 2,
   "metadata": {},
   "outputs": [],
   "source": [
    "EPL_RAW_PATH = \"C:\\\\Users\\\\DANIEL\\\\Desktop\\\\ITSENSE\\\\Vertikal\\\\Datasets\\\\Social\\\\English\\\\Premier League\\\\Raw\\\\\"\n",
    "EPL_PROC_PATH = \"C:\\\\Users\\\\DANIEL\\\\Desktop\\\\ITSENSE\\\\Vertikal\\\\Datasets\\\\Social\\\\English\\\\Premier League\\\\Processed\\\\\""
   ]
  },
  {
   "cell_type": "code",
   "execution_count": 3,
   "metadata": {},
   "outputs": [
    {
     "data": {
      "text/html": [
       "<div>\n",
       "<style scoped>\n",
       "    .dataframe tbody tr th:only-of-type {\n",
       "        vertical-align: middle;\n",
       "    }\n",
       "\n",
       "    .dataframe tbody tr th {\n",
       "        vertical-align: top;\n",
       "    }\n",
       "\n",
       "    .dataframe thead th {\n",
       "        text-align: right;\n",
       "    }\n",
       "</style>\n",
       "<table border=\"1\" class=\"dataframe\">\n",
       "  <thead>\n",
       "    <tr style=\"text-align: right;\">\n",
       "      <th></th>\n",
       "      <th>twitter_id</th>\n",
       "      <th>text</th>\n",
       "      <th>polarity</th>\n",
       "    </tr>\n",
       "  </thead>\n",
       "  <tbody>\n",
       "    <tr>\n",
       "      <th>0</th>\n",
       "      <td>1281189890936504320</td>\n",
       "      <td>This is a strange claim  #LFC  https://t.co/U1...</td>\n",
       "      <td>-0.2023</td>\n",
       "    </tr>\n",
       "    <tr>\n",
       "      <th>1</th>\n",
       "      <td>1281189827468279808</td>\n",
       "      <td>RT @TheKopiteOFF: 😱| #LFC have won 30 of their...</td>\n",
       "      <td>0.8316</td>\n",
       "    </tr>\n",
       "  </tbody>\n",
       "</table>\n",
       "</div>"
      ],
      "text/plain": [
       "            twitter_id                                               text  \\\n",
       "0  1281189890936504320  This is a strange claim  #LFC  https://t.co/U1...   \n",
       "1  1281189827468279808  RT @TheKopiteOFF: 😱| #LFC have won 30 of their...   \n",
       "\n",
       "   polarity  \n",
       "0   -0.2023  \n",
       "1    0.8316  "
      ]
     },
     "execution_count": 3,
     "metadata": {},
     "output_type": "execute_result"
    }
   ],
   "source": [
    "epl_paths = [f_path for f_path in listdir(EPL_RAW_PATH) if isfile(join(EPL_RAW_PATH, f_path))]\n",
    "\n",
    "epl_sentiment_dataset = pd.DataFrame()\n",
    "for epl_dataset in epl_paths:\n",
    "    df = pd.read_csv(EPL_RAW_PATH + epl_dataset)\n",
    "    df = df[[\"twitter_id\", \"text\", \"polarity\"]]\n",
    "    epl_sentiment_dataset = pd.concat([epl_sentiment_dataset, df], axis=0, ignore_index=True)\n",
    "\n",
    "epl_sentiment_dataset.head(2)"
   ]
  },
  {
   "cell_type": "code",
   "execution_count": 4,
   "metadata": {},
   "outputs": [],
   "source": [
    "epl_sentiment_dataset[\"dataset\"] = \"EPL\"\n",
    "epl_sentiment_dataset[\"language\"] = \"EN\""
   ]
  },
  {
   "cell_type": "markdown",
   "metadata": {},
   "source": [
    "There are some tweets that have duplicates. We will drop them keeping just the first occurrence, this is because all the duplicates have the same polarity value."
   ]
  },
  {
   "cell_type": "code",
   "execution_count": 5,
   "metadata": {},
   "outputs": [
    {
     "data": {
      "text/plain": [
       "1010582"
      ]
     },
     "execution_count": 5,
     "metadata": {},
     "output_type": "execute_result"
    }
   ],
   "source": [
    "len(epl_sentiment_dataset)"
   ]
  },
  {
   "cell_type": "code",
   "execution_count": 6,
   "metadata": {},
   "outputs": [
    {
     "data": {
      "text/plain": [
       "901266"
      ]
     },
     "execution_count": 6,
     "metadata": {},
     "output_type": "execute_result"
    }
   ],
   "source": [
    "epl_sentiment_dataset = epl_sentiment_dataset.drop_duplicates(\"twitter_id\", keep=\"first\", ignore_index=True)\n",
    "len(epl_sentiment_dataset)"
   ]
  },
  {
   "cell_type": "code",
   "execution_count": 7,
   "metadata": {},
   "outputs": [
    {
     "data": {
      "text/html": [
       "<div>\n",
       "<style scoped>\n",
       "    .dataframe tbody tr th:only-of-type {\n",
       "        vertical-align: middle;\n",
       "    }\n",
       "\n",
       "    .dataframe tbody tr th {\n",
       "        vertical-align: top;\n",
       "    }\n",
       "\n",
       "    .dataframe thead th {\n",
       "        text-align: right;\n",
       "    }\n",
       "</style>\n",
       "<table border=\"1\" class=\"dataframe\">\n",
       "  <thead>\n",
       "    <tr style=\"text-align: right;\">\n",
       "      <th></th>\n",
       "      <th>tweet_id</th>\n",
       "      <th>content</th>\n",
       "      <th>sentiment</th>\n",
       "      <th>dataset</th>\n",
       "      <th>language</th>\n",
       "    </tr>\n",
       "  </thead>\n",
       "  <tbody>\n",
       "    <tr>\n",
       "      <th>0</th>\n",
       "      <td>1281189890936504320</td>\n",
       "      <td>This is a strange claim  #LFC  https://t.co/U1...</td>\n",
       "      <td>-0.2023</td>\n",
       "      <td>EPL</td>\n",
       "      <td>EN</td>\n",
       "    </tr>\n",
       "    <tr>\n",
       "      <th>1</th>\n",
       "      <td>1281189827468279808</td>\n",
       "      <td>RT @TheKopiteOFF: 😱| #LFC have won 30 of their...</td>\n",
       "      <td>0.8316</td>\n",
       "      <td>EPL</td>\n",
       "      <td>EN</td>\n",
       "    </tr>\n",
       "  </tbody>\n",
       "</table>\n",
       "</div>"
      ],
      "text/plain": [
       "              tweet_id                                            content  \\\n",
       "0  1281189890936504320  This is a strange claim  #LFC  https://t.co/U1...   \n",
       "1  1281189827468279808  RT @TheKopiteOFF: 😱| #LFC have won 30 of their...   \n",
       "\n",
       "   sentiment dataset language  \n",
       "0    -0.2023     EPL       EN  \n",
       "1     0.8316     EPL       EN  "
      ]
     },
     "execution_count": 7,
     "metadata": {},
     "output_type": "execute_result"
    }
   ],
   "source": [
    "epl_sentiment_dataset = epl_sentiment_dataset.rename(columns={\"twitter_id\": \"tweet_id\", \"polarity\": \"sentiment\", \"text\": \"content\"})\n",
    "epl_sentiment_dataset.head(2)"
   ]
  },
  {
   "cell_type": "code",
   "execution_count": 8,
   "metadata": {},
   "outputs": [
    {
     "data": {
      "image/png": "[encoded data removed]",
      "text/plain": [
       "<Figure size 600x400 with 1 Axes>"
      ]
     },
     "metadata": {},
     "output_type": "display_data"
    }
   ],
   "source": [
    "fig, ax = plt.subplots(figsize=(6,4))\n",
    "epl_sentiment_dataset[\"sentiment\"].plot(kind=\"hist\",\n",
    "                                   ax=ax)\n",
    "\n",
    "ax.set(title=\"Polarity distribution\",\n",
    "       xlabel=\"Polarity\",\n",
    "       ylabel=\"Frequency\");"
   ]
  },
  {
   "cell_type": "markdown",
   "metadata": {},
   "source": [
    "#### Sentiment140"
   ]
  },
  {
   "cell_type": "code",
   "execution_count": 9,
   "metadata": {},
   "outputs": [],
   "source": [
    "s140_RAW_PATH = \"C:\\\\Users\\\\DANIEL\\\\Desktop\\\\ITSENSE\\\\Vertikal\\\\Datasets\\\\Social\\\\English\\\\Sentiment140\\\\Raw\\\\\"\n",
    "s140_PROC_PATH = \"C:\\\\Users\\\\DANIEL\\\\Desktop\\\\ITSENSE\\\\Vertikal\\\\Datasets\\\\Social\\\\English\\\\Sentiment140\\\\Processed\\\\\""
   ]
  },
  {
   "cell_type": "code",
   "execution_count": 10,
   "metadata": {},
   "outputs": [
    {
     "data": {
      "text/html": [
       "<div>\n",
       "<style scoped>\n",
       "    .dataframe tbody tr th:only-of-type {\n",
       "        vertical-align: middle;\n",
       "    }\n",
       "\n",
       "    .dataframe tbody tr th {\n",
       "        vertical-align: top;\n",
       "    }\n",
       "\n",
       "    .dataframe thead th {\n",
       "        text-align: right;\n",
       "    }\n",
       "</style>\n",
       "<table border=\"1\" class=\"dataframe\">\n",
       "  <thead>\n",
       "    <tr style=\"text-align: right;\">\n",
       "      <th></th>\n",
       "      <th>label</th>\n",
       "      <th>id</th>\n",
       "      <th>date</th>\n",
       "      <th>query</th>\n",
       "      <th>user</th>\n",
       "      <th>text</th>\n",
       "    </tr>\n",
       "  </thead>\n",
       "  <tbody>\n",
       "    <tr>\n",
       "      <th>0</th>\n",
       "      <td>0</td>\n",
       "      <td>1467810369</td>\n",
       "      <td>Mon Apr 06 22:19:45 PDT 2009</td>\n",
       "      <td>NO_QUERY</td>\n",
       "      <td>_TheSpecialOne_</td>\n",
       "      <td>@switchfoot http://twitpic.com/2y1zl - Awww, t...</td>\n",
       "    </tr>\n",
       "    <tr>\n",
       "      <th>1</th>\n",
       "      <td>0</td>\n",
       "      <td>1467810672</td>\n",
       "      <td>Mon Apr 06 22:19:49 PDT 2009</td>\n",
       "      <td>NO_QUERY</td>\n",
       "      <td>scotthamilton</td>\n",
       "      <td>is upset that he can't update his Facebook by ...</td>\n",
       "    </tr>\n",
       "  </tbody>\n",
       "</table>\n",
       "</div>"
      ],
      "text/plain": [
       "   label          id                          date     query             user  \\\n",
       "0      0  1467810369  Mon Apr 06 22:19:45 PDT 2009  NO_QUERY  _TheSpecialOne_   \n",
       "1      0  1467810672  Mon Apr 06 22:19:49 PDT 2009  NO_QUERY    scotthamilton   \n",
       "\n",
       "                                                text  \n",
       "0  @switchfoot http://twitpic.com/2y1zl - Awww, t...  \n",
       "1  is upset that he can't update his Facebook by ...  "
      ]
     },
     "execution_count": 10,
     "metadata": {},
     "output_type": "execute_result"
    }
   ],
   "source": [
    "s140_paths = [f_path for f_path in listdir(s140_RAW_PATH) if isfile(join(s140_RAW_PATH, f_path))]\n",
    "s140_sentiment_dataset = pd.read_csv(s140_RAW_PATH + s140_paths[0], encoding=\"latin-1\", names=[\"label\", \"id\", \"date\", \"query\", \"user\", \"text\"])\n",
    "s140_sentiment_dataset.head(2)"
   ]
  },
  {
   "cell_type": "markdown",
   "metadata": {},
   "source": [
    "There are some tweets that have duplicates. We will drop them as the same tweet may have a different label."
   ]
  },
  {
   "cell_type": "code",
   "execution_count": 11,
   "metadata": {},
   "outputs": [
    {
     "data": {
      "text/plain": [
       "1600000"
      ]
     },
     "execution_count": 11,
     "metadata": {},
     "output_type": "execute_result"
    }
   ],
   "source": [
    "len(s140_sentiment_dataset)"
   ]
  },
  {
   "cell_type": "code",
   "execution_count": 12,
   "metadata": {},
   "outputs": [
    {
     "data": {
      "text/plain": [
       "1596630"
      ]
     },
     "execution_count": 12,
     "metadata": {},
     "output_type": "execute_result"
    }
   ],
   "source": [
    "s140_sentiment_dataset = s140_sentiment_dataset.drop_duplicates(\"id\", keep=False, ignore_index=True)\n",
    "len(s140_sentiment_dataset)"
   ]
  },
  {
   "cell_type": "code",
   "execution_count": 13,
   "metadata": {},
   "outputs": [
    {
     "data": {
      "text/html": [
       "<div>\n",
       "<style scoped>\n",
       "    .dataframe tbody tr th:only-of-type {\n",
       "        vertical-align: middle;\n",
       "    }\n",
       "\n",
       "    .dataframe tbody tr th {\n",
       "        vertical-align: top;\n",
       "    }\n",
       "\n",
       "    .dataframe thead th {\n",
       "        text-align: right;\n",
       "    }\n",
       "</style>\n",
       "<table border=\"1\" class=\"dataframe\">\n",
       "  <thead>\n",
       "    <tr style=\"text-align: right;\">\n",
       "      <th></th>\n",
       "      <th>sentiment</th>\n",
       "      <th>tweet_id</th>\n",
       "      <th>content</th>\n",
       "      <th>dataset</th>\n",
       "      <th>language</th>\n",
       "    </tr>\n",
       "  </thead>\n",
       "  <tbody>\n",
       "    <tr>\n",
       "      <th>0</th>\n",
       "      <td>0</td>\n",
       "      <td>1467810369</td>\n",
       "      <td>@switchfoot http://twitpic.com/2y1zl - Awww, t...</td>\n",
       "      <td>S140</td>\n",
       "      <td>EN</td>\n",
       "    </tr>\n",
       "    <tr>\n",
       "      <th>1</th>\n",
       "      <td>0</td>\n",
       "      <td>1467810672</td>\n",
       "      <td>is upset that he can't update his Facebook by ...</td>\n",
       "      <td>S140</td>\n",
       "      <td>EN</td>\n",
       "    </tr>\n",
       "  </tbody>\n",
       "</table>\n",
       "</div>"
      ],
      "text/plain": [
       "   sentiment    tweet_id                                            content  \\\n",
       "0          0  1467810369  @switchfoot http://twitpic.com/2y1zl - Awww, t...   \n",
       "1          0  1467810672  is upset that he can't update his Facebook by ...   \n",
       "\n",
       "  dataset language  \n",
       "0    S140       EN  \n",
       "1    S140       EN  "
      ]
     },
     "execution_count": 13,
     "metadata": {},
     "output_type": "execute_result"
    }
   ],
   "source": [
    "s140_sentiment_dataset = s140_sentiment_dataset.drop([\"query\", \"date\", \"user\"], axis=1)\n",
    "s140_sentiment_dataset[\"dataset\"] = \"S140\"\n",
    "s140_sentiment_dataset[\"language\"] = \"EN\"\n",
    "s140_sentiment_dataset = s140_sentiment_dataset.rename(columns={\"id\": \"tweet_id\", \"label\": \"sentiment\", \"text\": \"content\"})\n",
    "s140_sentiment_dataset.head(2)"
   ]
  },
  {
   "cell_type": "code",
   "execution_count": 14,
   "metadata": {},
   "outputs": [
    {
     "data": {
      "text/plain": [
       "0    798315\n",
       "4    798315\n",
       "Name: sentiment, dtype: int64"
      ]
     },
     "execution_count": 14,
     "metadata": {},
     "output_type": "execute_result"
    }
   ],
   "source": [
    "s140_sentiment_dataset[\"sentiment\"].value_counts()"
   ]
  },
  {
   "cell_type": "markdown",
   "metadata": {},
   "source": [
    "### Spanish"
   ]
  },
  {
   "cell_type": "markdown",
   "metadata": {},
   "source": [
    "#### TASS general"
   ]
  },
  {
   "cell_type": "code",
   "execution_count": 15,
   "metadata": {},
   "outputs": [],
   "source": [
    "TASS_RAW_PATH = \"C:\\\\Users\\\\DANIEL\\\\Desktop\\\\ITSENSE\\\\Vertikal\\\\Datasets\\\\Social\\\\Spanish\\\\TASS\\\\Raw\\\\\"\n",
    "TASS_PROC_PATH = \"C:\\\\Users\\\\DANIEL\\\\Desktop\\\\ITSENSE\\\\Vertikal\\\\Datasets\\\\Social\\\\Spanish\\\\TASS\\\\Processed\\\\\""
   ]
  },
  {
   "cell_type": "code",
   "execution_count": 16,
   "metadata": {},
   "outputs": [
    {
     "data": {
      "text/html": [
       "<div>\n",
       "<style scoped>\n",
       "    .dataframe tbody tr th:only-of-type {\n",
       "        vertical-align: middle;\n",
       "    }\n",
       "\n",
       "    .dataframe tbody tr th {\n",
       "        vertical-align: top;\n",
       "    }\n",
       "\n",
       "    .dataframe thead th {\n",
       "        text-align: right;\n",
       "    }\n",
       "</style>\n",
       "<table border=\"1\" class=\"dataframe\">\n",
       "  <thead>\n",
       "    <tr style=\"text-align: right;\">\n",
       "      <th></th>\n",
       "      <th>tweets|tweet|tweetid</th>\n",
       "      <th>tweets|tweet|user</th>\n",
       "      <th>tweets|tweet|content</th>\n",
       "      <th>tweets|tweet|date</th>\n",
       "      <th>tweets|tweet|lang</th>\n",
       "      <th>tweets|tweet|topics|topic</th>\n",
       "      <th>tweets|tweet|sentiments|polarity|value</th>\n",
       "      <th>tweets|tweet|sentiments|polarity|type</th>\n",
       "      <th>tweets|tweet|sentiments|polarity|entity</th>\n",
       "    </tr>\n",
       "  </thead>\n",
       "  <tbody>\n",
       "    <tr>\n",
       "      <th>0</th>\n",
       "      <td>142416095012339712</td>\n",
       "      <td>mgilguerrero</td>\n",
       "      <td>Off pensando en el regalito Sinde, la que se v...</td>\n",
       "      <td>2011-12-02T02:33:37</td>\n",
       "      <td>es</td>\n",
       "      <td>política</td>\n",
       "      <td>N+</td>\n",
       "      <td>AGREEMENT</td>\n",
       "      <td>NaN</td>\n",
       "    </tr>\n",
       "    <tr>\n",
       "      <th>1</th>\n",
       "      <td>142416095012339712</td>\n",
       "      <td>mgilguerrero</td>\n",
       "      <td>Off pensando en el regalito Sinde, la que se v...</td>\n",
       "      <td>2011-12-02T02:33:37</td>\n",
       "      <td>es</td>\n",
       "      <td>economía</td>\n",
       "      <td>N+</td>\n",
       "      <td>AGREEMENT</td>\n",
       "      <td>NaN</td>\n",
       "    </tr>\n",
       "  </tbody>\n",
       "</table>\n",
       "</div>"
      ],
      "text/plain": [
       "  tweets|tweet|tweetid tweets|tweet|user  \\\n",
       "0   142416095012339712      mgilguerrero   \n",
       "1   142416095012339712      mgilguerrero   \n",
       "\n",
       "                                tweets|tweet|content    tweets|tweet|date  \\\n",
       "0  Off pensando en el regalito Sinde, la que se v...  2011-12-02T02:33:37   \n",
       "1  Off pensando en el regalito Sinde, la que se v...  2011-12-02T02:33:37   \n",
       "\n",
       "  tweets|tweet|lang tweets|tweet|topics|topic  \\\n",
       "0                es                  política   \n",
       "1                es                  economía   \n",
       "\n",
       "  tweets|tweet|sentiments|polarity|value  \\\n",
       "0                                     N+   \n",
       "1                                     N+   \n",
       "\n",
       "  tweets|tweet|sentiments|polarity|type  \\\n",
       "0                             AGREEMENT   \n",
       "1                             AGREEMENT   \n",
       "\n",
       "  tweets|tweet|sentiments|polarity|entity  \n",
       "0                                     NaN  \n",
       "1                                     NaN  "
      ]
     },
     "execution_count": 16,
     "metadata": {},
     "output_type": "execute_result"
    }
   ],
   "source": [
    "tass_paths = [f_path for f_path in listdir(TASS_RAW_PATH) if isfile(join(TASS_RAW_PATH, f_path))]\n",
    "tass_sentiment = pdx.read_xml(TASS_RAW_PATH+tass_paths[0],  encoding=\"utf8\")\n",
    "tass_sentiment = pdx.fully_flatten(tass_sentiment)\n",
    "tass_sentiment.head(2)"
   ]
  },
  {
   "cell_type": "code",
   "execution_count": 17,
   "metadata": {},
   "outputs": [],
   "source": [
    "tass_sentiment = tass_sentiment.drop([\"tweets|tweet|user\", \n",
    "                                        \"tweets|tweet|lang\", \n",
    "                                        \"tweets|tweet|topics|topic\", \n",
    "                                        \"tweets|tweet|sentiments|polarity|type\", \n",
    "                                        \"tweets|tweet|sentiments|polarity|entity\"],\n",
    "                                    axis=1)\n",
    "tass_sentiment.columns = [\"tweetid\", \"content\", \"date\", \"sentiment\"]"
   ]
  },
  {
   "cell_type": "markdown",
   "metadata": {},
   "source": [
    "There are some tweets that have duplicates. We will drop them keeping just the first occurrence, this is because all the duplicates have the same polarity value."
   ]
  },
  {
   "cell_type": "code",
   "execution_count": 18,
   "metadata": {},
   "outputs": [
    {
     "data": {
      "text/html": [
       "<div>\n",
       "<style scoped>\n",
       "    .dataframe tbody tr th:only-of-type {\n",
       "        vertical-align: middle;\n",
       "    }\n",
       "\n",
       "    .dataframe tbody tr th {\n",
       "        vertical-align: top;\n",
       "    }\n",
       "\n",
       "    .dataframe thead th {\n",
       "        text-align: right;\n",
       "    }\n",
       "</style>\n",
       "<table border=\"1\" class=\"dataframe\">\n",
       "  <thead>\n",
       "    <tr style=\"text-align: right;\">\n",
       "      <th></th>\n",
       "      <th>tweetid</th>\n",
       "      <th>content</th>\n",
       "      <th>date</th>\n",
       "      <th>sentiment</th>\n",
       "    </tr>\n",
       "  </thead>\n",
       "  <tbody>\n",
       "    <tr>\n",
       "      <th>0</th>\n",
       "      <td>142416095012339712</td>\n",
       "      <td>Off pensando en el regalito Sinde, la que se v...</td>\n",
       "      <td>2011-12-02T02:33:37</td>\n",
       "      <td>N+</td>\n",
       "    </tr>\n",
       "    <tr>\n",
       "      <th>1</th>\n",
       "      <td>142521019171749888</td>\n",
       "      <td>abcdesevilla.es: Recio no tiene «indicios pote...</td>\n",
       "      <td>2011-12-02T09:30:33</td>\n",
       "      <td>N</td>\n",
       "    </tr>\n",
       "    <tr>\n",
       "      <th>2</th>\n",
       "      <td>142521301054140416</td>\n",
       "      <td>La marcha atrás del PP en posponer devolución ...</td>\n",
       "      <td>2011-12-02T09:31:40</td>\n",
       "      <td>N</td>\n",
       "    </tr>\n",
       "    <tr>\n",
       "      <th>3</th>\n",
       "      <td>142536698188931072</td>\n",
       "      <td>Viernes negro: Aumenta el paro en Noviembre y ...</td>\n",
       "      <td>2011-12-02T10:32:51</td>\n",
       "      <td>N+</td>\n",
       "    </tr>\n",
       "    <tr>\n",
       "      <th>4</th>\n",
       "      <td>142579605327450115</td>\n",
       "      <td>se puede entender que la misma solidaridad que...</td>\n",
       "      <td>2011-12-02T13:23:21</td>\n",
       "      <td>NEU</td>\n",
       "    </tr>\n",
       "  </tbody>\n",
       "</table>\n",
       "</div>"
      ],
      "text/plain": [
       "              tweetid                                            content  \\\n",
       "0  142416095012339712  Off pensando en el regalito Sinde, la que se v...   \n",
       "1  142521019171749888  abcdesevilla.es: Recio no tiene «indicios pote...   \n",
       "2  142521301054140416  La marcha atrás del PP en posponer devolución ...   \n",
       "3  142536698188931072  Viernes negro: Aumenta el paro en Noviembre y ...   \n",
       "4  142579605327450115  se puede entender que la misma solidaridad que...   \n",
       "\n",
       "                  date sentiment  \n",
       "0  2011-12-02T02:33:37        N+  \n",
       "1  2011-12-02T09:30:33         N  \n",
       "2  2011-12-02T09:31:40         N  \n",
       "3  2011-12-02T10:32:51        N+  \n",
       "4  2011-12-02T13:23:21       NEU  "
      ]
     },
     "execution_count": 18,
     "metadata": {},
     "output_type": "execute_result"
    }
   ],
   "source": [
    "tass_sentiment = tass_sentiment.drop_duplicates(\"tweetid\", ignore_index=True)\n",
    "tass_sentiment.head()"
   ]
  },
  {
   "cell_type": "code",
   "execution_count": 19,
   "metadata": {},
   "outputs": [],
   "source": [
    "tass_sentiment = tass_sentiment.drop([\"date\"], axis=1)\n",
    "tass_sentiment[\"dataset\"] = \"TASS\"\n",
    "tass_sentiment[\"language\"] = \"SP\"\n",
    "tass_sentiment = tass_sentiment.rename(columns={\"tweetid\": \"tweet_id\", \"label\": \"sentiment\"})"
   ]
  },
  {
   "cell_type": "code",
   "execution_count": 20,
   "metadata": {},
   "outputs": [
    {
     "data": {
      "text/plain": [
       "P+      1652\n",
       "NONE    1483\n",
       "N       1335\n",
       "P       1232\n",
       "N+       847\n",
       "NEU      670\n",
       "Name: sentiment, dtype: int64"
      ]
     },
     "execution_count": 20,
     "metadata": {},
     "output_type": "execute_result"
    }
   ],
   "source": [
    "tass_sentiment[\"sentiment\"].value_counts()"
   ]
  },
  {
   "cell_type": "code",
   "execution_count": 21,
   "metadata": {},
   "outputs": [
    {
     "data": {
      "text/plain": [
       "NEU    2153\n",
       "P+     1652\n",
       "N      1335\n",
       "P      1232\n",
       "N+      847\n",
       "Name: sentiment, dtype: int64"
      ]
     },
     "execution_count": 21,
     "metadata": {},
     "output_type": "execute_result"
    }
   ],
   "source": [
    "tass_sentiment = tass_sentiment.replace(\"NONE\", \"NEU\")\n",
    "tass_sentiment[\"sentiment\"].value_counts()"
   ]
  },
  {
   "cell_type": "markdown",
   "metadata": {},
   "source": [
    "#### Emociones"
   ]
  },
  {
   "cell_type": "code",
   "execution_count": 22,
   "metadata": {},
   "outputs": [],
   "source": [
    "EMOTIONS_RAW_PATH = \"C:\\\\Users\\\\DANIEL\\\\Desktop\\\\ITSENSE\\\\Vertikal\\\\Datasets\\\\Social\\\\Spanish\\\\Emotions\\\\Raw\\\\\"\n",
    "EMOTIONS_PROC_PATH = \"C:\\\\Users\\\\DANIEL\\\\Desktop\\\\ITSENSE\\\\Vertikal\\\\Datasets\\\\Social\\\\Spanish\\\\Emotions\\\\Processed\\\\\""
   ]
  },
  {
   "cell_type": "code",
   "execution_count": 23,
   "metadata": {},
   "outputs": [
    {
     "data": {
      "text/html": [
       "<div>\n",
       "<style scoped>\n",
       "    .dataframe tbody tr th:only-of-type {\n",
       "        vertical-align: middle;\n",
       "    }\n",
       "\n",
       "    .dataframe tbody tr th {\n",
       "        vertical-align: top;\n",
       "    }\n",
       "\n",
       "    .dataframe thead th {\n",
       "        text-align: right;\n",
       "    }\n",
       "</style>\n",
       "<table border=\"1\" class=\"dataframe\">\n",
       "  <thead>\n",
       "    <tr style=\"text-align: right;\">\n",
       "      <th></th>\n",
       "      <th>id</th>\n",
       "      <th>tweet</th>\n",
       "      <th>label</th>\n",
       "    </tr>\n",
       "  </thead>\n",
       "  <tbody>\n",
       "    <tr>\n",
       "      <th>0</th>\n",
       "      <td>1</td>\n",
       "      <td>-Spoiler- Nadie ha tenido el dilema de tener q...</td>\n",
       "      <td>others</td>\n",
       "    </tr>\n",
       "    <tr>\n",
       "      <th>1</th>\n",
       "      <td>2</td>\n",
       "      <td>Yo solo quiero saber donde esta HASHTAG? HASHT...</td>\n",
       "      <td>others</td>\n",
       "    </tr>\n",
       "  </tbody>\n",
       "</table>\n",
       "</div>"
      ],
      "text/plain": [
       "   id                                              tweet   label \n",
       "0   1  -Spoiler- Nadie ha tenido el dilema de tener q...  others \n",
       "1   2  Yo solo quiero saber donde esta HASHTAG? HASHT...  others "
      ]
     },
     "execution_count": 23,
     "metadata": {},
     "output_type": "execute_result"
    }
   ],
   "source": [
    "emotions_paths = [f_path for f_path in listdir(EMOTIONS_RAW_PATH) if isfile(join(EMOTIONS_RAW_PATH, f_path))]\n",
    "emotions_sentiment = pd.read_csv(EMOTIONS_RAW_PATH+emotions_paths[0], sep='\\t', encoding=\"utf8\")\n",
    "emotions_sentiment.head(2)"
   ]
  },
  {
   "cell_type": "code",
   "execution_count": 24,
   "metadata": {},
   "outputs": [],
   "source": [
    "emotions_sentiment.columns = [col.strip() for col in emotions_sentiment.columns]"
   ]
  },
  {
   "cell_type": "code",
   "execution_count": 25,
   "metadata": {},
   "outputs": [
    {
     "name": "stdout",
     "output_type": "stream",
     "text": [
      "857\n",
      "436\n"
     ]
    }
   ],
   "source": [
    "emotions_sentiment = emotions_sentiment.rename(columns={\"id\": \"tweet_id\", \"tweet\": \"content\", \"label\": \"sentiment\"})\n",
    "print(len(emotions_sentiment))\n",
    "emotions_sentiment = emotions_sentiment.drop(emotions_sentiment[emotions_sentiment[\"sentiment\"] == \"others \"].index, axis=0)\n",
    "print(len(emotions_sentiment))\n"
   ]
  },
  {
   "cell_type": "code",
   "execution_count": 26,
   "metadata": {},
   "outputs": [
    {
     "data": {
      "text/html": [
       "<div>\n",
       "<style scoped>\n",
       "    .dataframe tbody tr th:only-of-type {\n",
       "        vertical-align: middle;\n",
       "    }\n",
       "\n",
       "    .dataframe tbody tr th {\n",
       "        vertical-align: top;\n",
       "    }\n",
       "\n",
       "    .dataframe thead th {\n",
       "        text-align: right;\n",
       "    }\n",
       "</style>\n",
       "<table border=\"1\" class=\"dataframe\">\n",
       "  <thead>\n",
       "    <tr style=\"text-align: right;\">\n",
       "      <th></th>\n",
       "      <th>tweet_id</th>\n",
       "      <th>content</th>\n",
       "      <th>sentiment</th>\n",
       "      <th>dataset</th>\n",
       "      <th>language</th>\n",
       "    </tr>\n",
       "  </thead>\n",
       "  <tbody>\n",
       "    <tr>\n",
       "      <th>2</th>\n",
       "      <td>3</td>\n",
       "      <td>La literatura nos hace más empáticos, dispuest...</td>\n",
       "      <td>joy</td>\n",
       "      <td>EMOTIONS</td>\n",
       "      <td>SP</td>\n",
       "    </tr>\n",
       "    <tr>\n",
       "      <th>3</th>\n",
       "      <td>4</td>\n",
       "      <td>Para mi, estas son las 4 mejores escenas de es...</td>\n",
       "      <td>surprise</td>\n",
       "      <td>EMOTIONS</td>\n",
       "      <td>SP</td>\n",
       "    </tr>\n",
       "  </tbody>\n",
       "</table>\n",
       "</div>"
      ],
      "text/plain": [
       "   tweet_id                                            content  sentiment  \\\n",
       "2         3  La literatura nos hace más empáticos, dispuest...       joy    \n",
       "3         4  Para mi, estas son las 4 mejores escenas de es...  surprise    \n",
       "\n",
       "    dataset language  \n",
       "2  EMOTIONS       SP  \n",
       "3  EMOTIONS       SP  "
      ]
     },
     "execution_count": 26,
     "metadata": {},
     "output_type": "execute_result"
    }
   ],
   "source": [
    "emotions_sentiment[\"dataset\"] = \"EMOTIONS\"\n",
    "emotions_sentiment[\"language\"] = \"SP\"\n",
    "emotions_sentiment.head(2)"
   ]
  },
  {
   "cell_type": "markdown",
   "metadata": {},
   "source": [
    "#### Spanish Airlines Tweets"
   ]
  },
  {
   "cell_type": "code",
   "execution_count": 27,
   "metadata": {},
   "outputs": [],
   "source": [
    "SAT_RAW_PATH = \"C:\\\\Users\\\\DANIEL\\\\Desktop\\\\ITSENSE\\\\Vertikal\\\\Datasets\\\\Social\\\\Spanish\\\\Spanish Airlines\\\\Raw\\\\\"\n",
    "SAT_PROC_PATH = \"C:\\\\Users\\\\DANIEL\\\\Desktop\\\\ITSENSE\\\\Vertikal\\\\Datasets\\\\Social\\\\Spanish\\\\Spanish Airlines\\\\Processed\\\\\""
   ]
  },
  {
   "cell_type": "code",
   "execution_count": 28,
   "metadata": {},
   "outputs": [
    {
     "data": {
      "text/html": [
       "<div>\n",
       "<style scoped>\n",
       "    .dataframe tbody tr th:only-of-type {\n",
       "        vertical-align: middle;\n",
       "    }\n",
       "\n",
       "    .dataframe tbody tr th {\n",
       "        vertical-align: top;\n",
       "    }\n",
       "\n",
       "    .dataframe thead th {\n",
       "        text-align: right;\n",
       "    }\n",
       "</style>\n",
       "<table border=\"1\" class=\"dataframe\">\n",
       "  <thead>\n",
       "    <tr style=\"text-align: right;\">\n",
       "      <th></th>\n",
       "      <th>airline_sentiment</th>\n",
       "      <th>is_reply</th>\n",
       "      <th>reply_count</th>\n",
       "      <th>retweet_count</th>\n",
       "      <th>text</th>\n",
       "      <th>tweet_coord</th>\n",
       "      <th>tweet_created</th>\n",
       "      <th>tweet_id</th>\n",
       "      <th>tweet_location</th>\n",
       "      <th>user_timezone</th>\n",
       "    </tr>\n",
       "  </thead>\n",
       "  <tbody>\n",
       "    <tr>\n",
       "      <th>0</th>\n",
       "      <td>neutral</td>\n",
       "      <td>False</td>\n",
       "      <td>0</td>\n",
       "      <td>0</td>\n",
       "      <td>Trabajar en #Ryanair como #TMA: https://t.co/r...</td>\n",
       "      <td>NaN</td>\n",
       "      <td>Fri Nov 03 12:05:12 +0000 2017</td>\n",
       "      <td>926419989107798016</td>\n",
       "      <td>NaN</td>\n",
       "      <td>Madrid</td>\n",
       "    </tr>\n",
       "    <tr>\n",
       "      <th>1</th>\n",
       "      <td>neutral</td>\n",
       "      <td>True</td>\n",
       "      <td>0</td>\n",
       "      <td>0</td>\n",
       "      <td>@Iberia @FIONAFERRER Cuando gusten en Cancún s...</td>\n",
       "      <td>NaN</td>\n",
       "      <td>Sun Nov 26 18:40:28 +0000 2017</td>\n",
       "      <td>934854385577943041</td>\n",
       "      <td>NaN</td>\n",
       "      <td>Mexico City</td>\n",
       "    </tr>\n",
       "  </tbody>\n",
       "</table>\n",
       "</div>"
      ],
      "text/plain": [
       "  airline_sentiment  is_reply  reply_count  retweet_count  \\\n",
       "0           neutral     False            0              0   \n",
       "1           neutral      True            0              0   \n",
       "\n",
       "                                                text tweet_coord  \\\n",
       "0  Trabajar en #Ryanair como #TMA: https://t.co/r...         NaN   \n",
       "1  @Iberia @FIONAFERRER Cuando gusten en Cancún s...         NaN   \n",
       "\n",
       "                    tweet_created            tweet_id tweet_location  \\\n",
       "0  Fri Nov 03 12:05:12 +0000 2017  926419989107798016            NaN   \n",
       "1  Sun Nov 26 18:40:28 +0000 2017  934854385577943041            NaN   \n",
       "\n",
       "  user_timezone  \n",
       "0        Madrid  \n",
       "1   Mexico City  "
      ]
     },
     "execution_count": 28,
     "metadata": {},
     "output_type": "execute_result"
    }
   ],
   "source": [
    "sat_paths = [f_path for f_path in listdir(SAT_RAW_PATH) if isfile(join(SAT_RAW_PATH, f_path))]\n",
    "sat_sentiment = pd.read_csv(SAT_RAW_PATH+sat_paths[0],  encoding=\"utf8\")\n",
    "sat_sentiment.head(2)"
   ]
  },
  {
   "cell_type": "code",
   "execution_count": 29,
   "metadata": {},
   "outputs": [
    {
     "data": {
      "text/html": [
       "<div>\n",
       "<style scoped>\n",
       "    .dataframe tbody tr th:only-of-type {\n",
       "        vertical-align: middle;\n",
       "    }\n",
       "\n",
       "    .dataframe tbody tr th {\n",
       "        vertical-align: top;\n",
       "    }\n",
       "\n",
       "    .dataframe thead th {\n",
       "        text-align: right;\n",
       "    }\n",
       "</style>\n",
       "<table border=\"1\" class=\"dataframe\">\n",
       "  <thead>\n",
       "    <tr style=\"text-align: right;\">\n",
       "      <th></th>\n",
       "      <th>tweet_id</th>\n",
       "      <th>content</th>\n",
       "      <th>sentiment</th>\n",
       "    </tr>\n",
       "  </thead>\n",
       "  <tbody>\n",
       "    <tr>\n",
       "      <th>0</th>\n",
       "      <td>926419989107798016</td>\n",
       "      <td>Trabajar en #Ryanair como #TMA: https://t.co/r...</td>\n",
       "      <td>neutral</td>\n",
       "    </tr>\n",
       "    <tr>\n",
       "      <th>1</th>\n",
       "      <td>934854385577943041</td>\n",
       "      <td>@Iberia @FIONAFERRER Cuando gusten en Cancún s...</td>\n",
       "      <td>neutral</td>\n",
       "    </tr>\n",
       "    <tr>\n",
       "      <th>2</th>\n",
       "      <td>945318406441635840</td>\n",
       "      <td>Sabiais que @Iberia te trata muy bien en santi...</td>\n",
       "      <td>negative</td>\n",
       "    </tr>\n",
       "    <tr>\n",
       "      <th>3</th>\n",
       "      <td>927540721296568320</td>\n",
       "      <td>NUNCA NUNCA NUNCA pidáis el café de Ryanair.\\n...</td>\n",
       "      <td>negative</td>\n",
       "    </tr>\n",
       "    <tr>\n",
       "      <th>4</th>\n",
       "      <td>947965901332197376</td>\n",
       "      <td>@cris_tortu @dakar @Iberia @Mitsubishi_ES @BFG...</td>\n",
       "      <td>positive</td>\n",
       "    </tr>\n",
       "    <tr>\n",
       "      <th>...</th>\n",
       "      <td>...</td>\n",
       "      <td>...</td>\n",
       "      <td>...</td>\n",
       "    </tr>\n",
       "    <tr>\n",
       "      <th>7862</th>\n",
       "      <td>946509662341554176</td>\n",
       "      <td>@Iberia @iberiaexpress especialistas en dejart...</td>\n",
       "      <td>negative</td>\n",
       "    </tr>\n",
       "    <tr>\n",
       "      <th>7863</th>\n",
       "      <td>935946417495035904</td>\n",
       "      <td>Con @Iberia, mi destino a un solo click. ¡Dese...</td>\n",
       "      <td>neutral</td>\n",
       "    </tr>\n",
       "    <tr>\n",
       "      <th>7864</th>\n",
       "      <td>945770846949396480</td>\n",
       "      <td>@Iberia Muy bien. Muchas gracias</td>\n",
       "      <td>positive</td>\n",
       "    </tr>\n",
       "    <tr>\n",
       "      <th>7865</th>\n",
       "      <td>943045386570223616</td>\n",
       "      <td>Es que volar con Ryanair es peor que irte a ch...</td>\n",
       "      <td>negative</td>\n",
       "    </tr>\n",
       "    <tr>\n",
       "      <th>7866</th>\n",
       "      <td>935546571663527936</td>\n",
       "      <td>Iberia inaugura un nuevo espacio Premium para ...</td>\n",
       "      <td>negative</td>\n",
       "    </tr>\n",
       "  </tbody>\n",
       "</table>\n",
       "<p>7867 rows × 3 columns</p>\n",
       "</div>"
      ],
      "text/plain": [
       "                tweet_id                                            content  \\\n",
       "0     926419989107798016  Trabajar en #Ryanair como #TMA: https://t.co/r...   \n",
       "1     934854385577943041  @Iberia @FIONAFERRER Cuando gusten en Cancún s...   \n",
       "2     945318406441635840  Sabiais que @Iberia te trata muy bien en santi...   \n",
       "3     927540721296568320  NUNCA NUNCA NUNCA pidáis el café de Ryanair.\\n...   \n",
       "4     947965901332197376  @cris_tortu @dakar @Iberia @Mitsubishi_ES @BFG...   \n",
       "...                  ...                                                ...   \n",
       "7862  946509662341554176  @Iberia @iberiaexpress especialistas en dejart...   \n",
       "7863  935946417495035904  Con @Iberia, mi destino a un solo click. ¡Dese...   \n",
       "7864  945770846949396480                   @Iberia Muy bien. Muchas gracias   \n",
       "7865  943045386570223616  Es que volar con Ryanair es peor que irte a ch...   \n",
       "7866  935546571663527936  Iberia inaugura un nuevo espacio Premium para ...   \n",
       "\n",
       "     sentiment  \n",
       "0      neutral  \n",
       "1      neutral  \n",
       "2     negative  \n",
       "3     negative  \n",
       "4     positive  \n",
       "...        ...  \n",
       "7862  negative  \n",
       "7863   neutral  \n",
       "7864  positive  \n",
       "7865  negative  \n",
       "7866  negative  \n",
       "\n",
       "[7867 rows x 3 columns]"
      ]
     },
     "execution_count": 29,
     "metadata": {},
     "output_type": "execute_result"
    }
   ],
   "source": [
    "sat_sentiment = sat_sentiment[[\"tweet_id\", \"text\", \"airline_sentiment\"]]\n",
    "sat_sentiment = sat_sentiment.rename(columns={\"text\": \"content\", \"airline_sentiment\": \"sentiment\"})\n",
    "sat_sentiment"
   ]
  },
  {
   "cell_type": "code",
   "execution_count": 30,
   "metadata": {},
   "outputs": [
    {
     "data": {
      "text/plain": [
       "negative    3769\n",
       "neutral     2609\n",
       "positive    1489\n",
       "Name: sentiment, dtype: int64"
      ]
     },
     "execution_count": 30,
     "metadata": {},
     "output_type": "execute_result"
    }
   ],
   "source": [
    "sat_sentiment[\"sentiment\"].value_counts()"
   ]
  },
  {
   "cell_type": "code",
   "execution_count": 31,
   "metadata": {},
   "outputs": [
    {
     "data": {
      "text/html": [
       "<div>\n",
       "<style scoped>\n",
       "    .dataframe tbody tr th:only-of-type {\n",
       "        vertical-align: middle;\n",
       "    }\n",
       "\n",
       "    .dataframe tbody tr th {\n",
       "        vertical-align: top;\n",
       "    }\n",
       "\n",
       "    .dataframe thead th {\n",
       "        text-align: right;\n",
       "    }\n",
       "</style>\n",
       "<table border=\"1\" class=\"dataframe\">\n",
       "  <thead>\n",
       "    <tr style=\"text-align: right;\">\n",
       "      <th></th>\n",
       "      <th>tweet_id</th>\n",
       "      <th>content</th>\n",
       "      <th>sentiment</th>\n",
       "      <th>dataset</th>\n",
       "      <th>language</th>\n",
       "    </tr>\n",
       "  </thead>\n",
       "  <tbody>\n",
       "    <tr>\n",
       "      <th>0</th>\n",
       "      <td>926419989107798016</td>\n",
       "      <td>Trabajar en #Ryanair como #TMA: https://t.co/r...</td>\n",
       "      <td>neutral</td>\n",
       "      <td>SAT</td>\n",
       "      <td>SP</td>\n",
       "    </tr>\n",
       "    <tr>\n",
       "      <th>1</th>\n",
       "      <td>934854385577943041</td>\n",
       "      <td>@Iberia @FIONAFERRER Cuando gusten en Cancún s...</td>\n",
       "      <td>neutral</td>\n",
       "      <td>SAT</td>\n",
       "      <td>SP</td>\n",
       "    </tr>\n",
       "  </tbody>\n",
       "</table>\n",
       "</div>"
      ],
      "text/plain": [
       "             tweet_id                                            content  \\\n",
       "0  926419989107798016  Trabajar en #Ryanair como #TMA: https://t.co/r...   \n",
       "1  934854385577943041  @Iberia @FIONAFERRER Cuando gusten en Cancún s...   \n",
       "\n",
       "  sentiment dataset language  \n",
       "0   neutral     SAT       SP  \n",
       "1   neutral     SAT       SP  "
      ]
     },
     "execution_count": 31,
     "metadata": {},
     "output_type": "execute_result"
    }
   ],
   "source": [
    "sat_sentiment[\"dataset\"] = \"SAT\"\n",
    "sat_sentiment[\"language\"] = \"SP\"\n",
    "sat_sentiment.head(2)"
   ]
  },
  {
   "cell_type": "markdown",
   "metadata": {},
   "source": [
    "#### Emoji"
   ]
  },
  {
   "cell_type": "code",
   "execution_count": 32,
   "metadata": {},
   "outputs": [],
   "source": [
    "EMOJI_RAW_PATH = \"C:\\\\Users\\\\DANIEL\\\\Desktop\\\\ITSENSE\\\\Vertikal\\\\Datasets\\\\Social\\\\Spanish\\\\Tweets emoji\\\\Raw\\\\\"\n",
    "EMOJI_PROC_PATH = \"C:\\\\Users\\\\DANIEL\\\\Desktop\\\\ITSENSE\\\\Vertikal\\\\Datasets\\\\Social\\\\Spanish\\\\Tweets emoji\\\\Processed\\\\\""
   ]
  },
  {
   "cell_type": "code",
   "execution_count": 33,
   "metadata": {},
   "outputs": [],
   "source": [
    "emoji_paths = [f_path for f_path in listdir(EMOJI_RAW_PATH) if isfile(join(EMOJI_RAW_PATH, f_path))]\n",
    "\n",
    "neg_s_file = open(EMOJI_RAW_PATH+emoji_paths[0],'r', encoding='utf-8')\n",
    "neg_s_contents = neg_s_file.readlines()\n",
    "\n",
    "pos_s_file = open(EMOJI_RAW_PATH+emoji_paths[1],'r', encoding='utf-8')\n",
    "pos_s_contents = pos_s_file.readlines()\n",
    "\n",
    "neg_s_cleaned_lines = [line.replace(\"\\n\", \"\").replace(\":(\",\"\").replace(\"(\",\"\") for line in neg_s_contents]\n",
    "pos_s_cleaned_lines = [line.replace(\"\\n\", \"\").replace(\":)\",\"\").replace(\")\",\"\") for line in pos_s_contents]"
   ]
  },
  {
   "cell_type": "code",
   "execution_count": 34,
   "metadata": {},
   "outputs": [],
   "source": [
    "neg_emoji_sentiment = pd.DataFrame(columns=[\"content\", \"sentiment\"])\n",
    "neg_emoji_sentiment[\"content\"] = neg_s_cleaned_lines\n",
    "neg_emoji_sentiment[\"sentiment\"] = 0\n",
    "\n",
    "pos_emoji_sentiment = pd.DataFrame(columns=[\"content\", \"sentiment\"])\n",
    "pos_emoji_sentiment[\"content\"] = pos_s_cleaned_lines\n",
    "pos_emoji_sentiment[\"sentiment\"] = 1\n",
    "\n",
    "emoji_sentiment = pd.concat([neg_emoji_sentiment, pos_emoji_sentiment], axis=0, ignore_index=True)\n",
    "emoji_sentiment = emoji_sentiment.sample(frac=1, random_state=42)"
   ]
  },
  {
   "cell_type": "code",
   "execution_count": 35,
   "metadata": {},
   "outputs": [
    {
     "data": {
      "text/html": [
       "<div>\n",
       "<style scoped>\n",
       "    .dataframe tbody tr th:only-of-type {\n",
       "        vertical-align: middle;\n",
       "    }\n",
       "\n",
       "    .dataframe tbody tr th {\n",
       "        vertical-align: top;\n",
       "    }\n",
       "\n",
       "    .dataframe thead th {\n",
       "        text-align: right;\n",
       "    }\n",
       "</style>\n",
       "<table border=\"1\" class=\"dataframe\">\n",
       "  <thead>\n",
       "    <tr style=\"text-align: right;\">\n",
       "      <th></th>\n",
       "      <th>content</th>\n",
       "      <th>sentiment</th>\n",
       "      <th>dataset</th>\n",
       "      <th>language</th>\n",
       "      <th>tweet_id</th>\n",
       "    </tr>\n",
       "  </thead>\n",
       "  <tbody>\n",
       "    <tr>\n",
       "      <th>119376</th>\n",
       "      <td>no puedo creer que hace una semana estaba espe...</td>\n",
       "      <td>0</td>\n",
       "      <td>EMOJI</td>\n",
       "      <td>SP</td>\n",
       "      <td>119376</td>\n",
       "    </tr>\n",
       "    <tr>\n",
       "      <th>63288</th>\n",
       "      <td>pinches piquetes de moscos no me dejan</td>\n",
       "      <td>0</td>\n",
       "      <td>EMOJI</td>\n",
       "      <td>SP</td>\n",
       "      <td>63288</td>\n",
       "    </tr>\n",
       "  </tbody>\n",
       "</table>\n",
       "</div>"
      ],
      "text/plain": [
       "                                                  content  sentiment dataset  \\\n",
       "119376  no puedo creer que hace una semana estaba espe...          0   EMOJI   \n",
       "63288             pinches piquetes de moscos no me dejan           0   EMOJI   \n",
       "\n",
       "       language  tweet_id  \n",
       "119376       SP    119376  \n",
       "63288        SP     63288  "
      ]
     },
     "execution_count": 35,
     "metadata": {},
     "output_type": "execute_result"
    }
   ],
   "source": [
    "emoji_sentiment[\"dataset\"] = \"EMOJI\"\n",
    "emoji_sentiment[\"language\"] = \"SP\"\n",
    "emoji_sentiment[\"id\"] = emoji_sentiment.index\n",
    "emoji_sentiment = emoji_sentiment.rename(columns={\"id\": \"tweet_id\"})\n",
    "emoji_sentiment.head(2)"
   ]
  },
  {
   "cell_type": "code",
   "execution_count": 36,
   "metadata": {},
   "outputs": [
    {
     "data": {
      "text/plain": [
       "0    122216\n",
       "1     55360\n",
       "Name: sentiment, dtype: int64"
      ]
     },
     "execution_count": 36,
     "metadata": {},
     "output_type": "execute_result"
    }
   ],
   "source": [
    "emoji_sentiment[\"sentiment\"].value_counts()"
   ]
  },
  {
   "cell_type": "markdown",
   "metadata": {},
   "source": [
    "#### interTASS"
   ]
  },
  {
   "cell_type": "code",
   "execution_count": 37,
   "metadata": {},
   "outputs": [],
   "source": [
    "INTERTASS_RAW_PATH = \"C:\\\\Users\\\\DANIEL\\\\Desktop\\\\ITSENSE\\\\Vertikal\\\\Datasets\\\\Social\\\\Spanish\\\\InterTASS\\\\Raw\\\\\"\n",
    "INTERTASS_PROC_PATH = \"C:\\\\Users\\\\DANIEL\\\\Desktop\\\\ITSENSE\\\\Vertikal\\\\Datasets\\\\Social\\\\Spanish\\\\InterTASS\\\\Processed\\\\\""
   ]
  },
  {
   "cell_type": "code",
   "execution_count": 38,
   "metadata": {},
   "outputs": [],
   "source": [
    "intertass_paths = [f_path for f_path in listdir(INTERTASS_RAW_PATH) if isfile(join(INTERTASS_RAW_PATH, f_path))]\n",
    "intertass_sentiment_dataset = pd.DataFrame()\n",
    "for intertass_dataset in intertass_paths:\n",
    "    df = pdx.read_xml(INTERTASS_RAW_PATH+intertass_dataset,  encoding=\"utf8\")\n",
    "    df = pdx.fully_flatten(df)\n",
    "    df.columns = [\"tweetid\", \"user\", \"content\", \"date\", \"lang\", \"sentiment\"]\n",
    "    df[\"country\"] = intertass_dataset.split(\"_\")[2]\n",
    "    df[\"type\"] = intertass_dataset.split(\"_\")[3].split(\".\")[0]\n",
    "    intertass_sentiment_dataset = pd.concat([intertass_sentiment_dataset, df], axis=0, ignore_index=True)"
   ]
  },
  {
   "cell_type": "code",
   "execution_count": 39,
   "metadata": {},
   "outputs": [],
   "source": [
    "intertass_sentiment_dataset = intertass_sentiment_dataset.drop([\"user\", \"date\", \"lang\", \"country\", \"type\"], axis=1)"
   ]
  },
  {
   "cell_type": "code",
   "execution_count": 40,
   "metadata": {},
   "outputs": [
    {
     "data": {
      "text/html": [
       "<div>\n",
       "<style scoped>\n",
       "    .dataframe tbody tr th:only-of-type {\n",
       "        vertical-align: middle;\n",
       "    }\n",
       "\n",
       "    .dataframe tbody tr th {\n",
       "        vertical-align: top;\n",
       "    }\n",
       "\n",
       "    .dataframe thead th {\n",
       "        text-align: right;\n",
       "    }\n",
       "</style>\n",
       "<table border=\"1\" class=\"dataframe\">\n",
       "  <thead>\n",
       "    <tr style=\"text-align: right;\">\n",
       "      <th></th>\n",
       "      <th>tweet_id</th>\n",
       "      <th>content</th>\n",
       "      <th>sentiment</th>\n",
       "      <th>dataset</th>\n",
       "      <th>language</th>\n",
       "    </tr>\n",
       "  </thead>\n",
       "  <tbody>\n",
       "    <tr>\n",
       "      <th>0</th>\n",
       "      <td>769802080701648896</td>\n",
       "      <td>@DexterAOM por eso es que se dice lo del final...</td>\n",
       "      <td>NEU</td>\n",
       "      <td>INTERTASS</td>\n",
       "      <td>SP</td>\n",
       "    </tr>\n",
       "    <tr>\n",
       "      <th>1</th>\n",
       "      <td>772253053328105472</td>\n",
       "      <td>@kikorobles11 6 meses con la banda y largo, fu...</td>\n",
       "      <td>NEU</td>\n",
       "      <td>INTERTASS</td>\n",
       "      <td>SP</td>\n",
       "    </tr>\n",
       "  </tbody>\n",
       "</table>\n",
       "</div>"
      ],
      "text/plain": [
       "             tweet_id                                            content  \\\n",
       "0  769802080701648896  @DexterAOM por eso es que se dice lo del final...   \n",
       "1  772253053328105472  @kikorobles11 6 meses con la banda y largo, fu...   \n",
       "\n",
       "  sentiment    dataset language  \n",
       "0       NEU  INTERTASS       SP  \n",
       "1       NEU  INTERTASS       SP  "
      ]
     },
     "execution_count": 40,
     "metadata": {},
     "output_type": "execute_result"
    }
   ],
   "source": [
    "intertass_sentiment_dataset[\"dataset\"] = \"INTERTASS\"\n",
    "intertass_sentiment_dataset[\"language\"] = \"SP\"\n",
    "intertass_sentiment_dataset = intertass_sentiment_dataset.rename(columns={\"tweetid\": \"tweet_id\"})\n",
    "intertass_sentiment_dataset = intertass_sentiment_dataset.replace(\"NONE\", \"NEU\")\n",
    "intertass_sentiment_dataset.head(2)"
   ]
  },
  {
   "cell_type": "code",
   "execution_count": 41,
   "metadata": {},
   "outputs": [
    {
     "data": {
      "text/plain": [
       "N      2844\n",
       "NEU    2323\n",
       "P      2098\n",
       "Name: sentiment, dtype: int64"
      ]
     },
     "execution_count": 41,
     "metadata": {},
     "output_type": "execute_result"
    }
   ],
   "source": [
    "intertass_sentiment_dataset[\"sentiment\"].value_counts()"
   ]
  },
  {
   "cell_type": "markdown",
   "metadata": {},
   "source": [
    "#### Spanish Airlines Tweets"
   ]
  },
  {
   "cell_type": "code",
   "execution_count": 42,
   "metadata": {},
   "outputs": [],
   "source": [
    "INTERTASS_RAW_PATH = \"C:\\\\Users\\\\DANIEL\\\\Desktop\\\\ITSENSE\\\\Vertikal\\\\Datasets\\\\Social\\\\Spanish\\\\InterTASS\\\\Raw\\\\\"\n",
    "INTERTASS_PROC_PATH = \"C:\\\\Users\\\\DANIEL\\\\Desktop\\\\ITSENSE\\\\Vertikal\\\\Datasets\\\\Social\\\\Spanish\\\\InterTASS\\\\Processed\\\\\""
   ]
  },
  {
   "cell_type": "code",
   "execution_count": 43,
   "metadata": {},
   "outputs": [],
   "source": [
    "intertass_paths = [f_path for f_path in listdir(INTERTASS_RAW_PATH) if isfile(join(INTERTASS_RAW_PATH, f_path))]\n",
    "intertass_sentiment_dataset = pd.DataFrame()\n",
    "for intertass_dataset in intertass_paths:\n",
    "    df = pdx.read_xml(INTERTASS_RAW_PATH+intertass_dataset,  encoding=\"utf8\")\n",
    "    df = pdx.fully_flatten(df)\n",
    "    df.columns = [\"tweetid\", \"user\", \"content\", \"date\", \"lang\", \"sentiment\"]\n",
    "    df[\"country\"] = intertass_dataset.split(\"_\")[2]\n",
    "    df[\"type\"] = intertass_dataset.split(\"_\")[3].split(\".\")[0]\n",
    "    intertass_sentiment_dataset = pd.concat([intertass_sentiment_dataset, df], axis=0, ignore_index=True)"
   ]
  },
  {
   "cell_type": "code",
   "execution_count": 44,
   "metadata": {},
   "outputs": [],
   "source": [
    "intertass_sentiment_dataset = intertass_sentiment_dataset.drop([\"user\", \"date\", \"lang\", \"country\", \"type\"], axis=1)"
   ]
  },
  {
   "cell_type": "code",
   "execution_count": 45,
   "metadata": {},
   "outputs": [
    {
     "data": {
      "text/html": [
       "<div>\n",
       "<style scoped>\n",
       "    .dataframe tbody tr th:only-of-type {\n",
       "        vertical-align: middle;\n",
       "    }\n",
       "\n",
       "    .dataframe tbody tr th {\n",
       "        vertical-align: top;\n",
       "    }\n",
       "\n",
       "    .dataframe thead th {\n",
       "        text-align: right;\n",
       "    }\n",
       "</style>\n",
       "<table border=\"1\" class=\"dataframe\">\n",
       "  <thead>\n",
       "    <tr style=\"text-align: right;\">\n",
       "      <th></th>\n",
       "      <th>tweet_id</th>\n",
       "      <th>content</th>\n",
       "      <th>sentiment</th>\n",
       "      <th>dataset</th>\n",
       "      <th>language</th>\n",
       "    </tr>\n",
       "  </thead>\n",
       "  <tbody>\n",
       "    <tr>\n",
       "      <th>0</th>\n",
       "      <td>769802080701648896</td>\n",
       "      <td>@DexterAOM por eso es que se dice lo del final...</td>\n",
       "      <td>NEU</td>\n",
       "      <td>SAT</td>\n",
       "      <td>SP</td>\n",
       "    </tr>\n",
       "    <tr>\n",
       "      <th>1</th>\n",
       "      <td>772253053328105472</td>\n",
       "      <td>@kikorobles11 6 meses con la banda y largo, fu...</td>\n",
       "      <td>NEU</td>\n",
       "      <td>SAT</td>\n",
       "      <td>SP</td>\n",
       "    </tr>\n",
       "  </tbody>\n",
       "</table>\n",
       "</div>"
      ],
      "text/plain": [
       "             tweet_id                                            content  \\\n",
       "0  769802080701648896  @DexterAOM por eso es que se dice lo del final...   \n",
       "1  772253053328105472  @kikorobles11 6 meses con la banda y largo, fu...   \n",
       "\n",
       "  sentiment dataset language  \n",
       "0       NEU     SAT       SP  \n",
       "1       NEU     SAT       SP  "
      ]
     },
     "execution_count": 45,
     "metadata": {},
     "output_type": "execute_result"
    }
   ],
   "source": [
    "intertass_sentiment_dataset[\"dataset\"] = \"SAT\"\n",
    "intertass_sentiment_dataset[\"language\"] = \"SP\"\n",
    "intertass_sentiment_dataset = intertass_sentiment_dataset.rename(columns={\"tweetid\": \"tweet_id\"})\n",
    "intertass_sentiment_dataset = intertass_sentiment_dataset.replace(\"NONE\", \"NEU\")\n",
    "intertass_sentiment_dataset.head(2)"
   ]
  },
  {
   "cell_type": "code",
   "execution_count": 46,
   "metadata": {},
   "outputs": [
    {
     "data": {
      "text/plain": [
       "N      2844\n",
       "NEU    2323\n",
       "P      2098\n",
       "Name: sentiment, dtype: int64"
      ]
     },
     "execution_count": 46,
     "metadata": {},
     "output_type": "execute_result"
    }
   ],
   "source": [
    "intertass_sentiment_dataset[\"sentiment\"].value_counts()"
   ]
  },
  {
   "cell_type": "markdown",
   "metadata": {},
   "source": [
    "## Scaling the sentiment"
   ]
  },
  {
   "cell_type": "markdown",
   "metadata": {},
   "source": [
    "The sentiment variable is different for each dataset, in order to merge the data we need to standardize it. We will use a scale from 0 to 1 to determine the sentiment of a sentence. Being 1 a positive sentiment and 0 a negative one, making it posible for a sentence to have a sentiment value between 0 and 1."
   ]
  },
  {
   "cell_type": "code",
   "execution_count": 47,
   "metadata": {},
   "outputs": [
    {
     "name": "stdout",
     "output_type": "stream",
     "text": [
      "-0.9953 0.9971\n",
      "0.0023500000000000187 0.99855\n"
     ]
    }
   ],
   "source": [
    "# EPL\n",
    "print(epl_sentiment_dataset[\"sentiment\"].min(), epl_sentiment_dataset[\"sentiment\"].max())\n",
    "epl_sentiment_dataset[\"sentiment\"] = (epl_sentiment_dataset[\"sentiment\"] + 1)/2\n",
    "print(epl_sentiment_dataset[\"sentiment\"].min(), epl_sentiment_dataset[\"sentiment\"].max())\n"
   ]
  },
  {
   "cell_type": "code",
   "execution_count": 48,
   "metadata": {},
   "outputs": [],
   "source": [
    "# S140\n",
    "s140_sentiment_dataset[\"sentiment\"] = s140_sentiment_dataset[\"sentiment\"]/4"
   ]
  },
  {
   "cell_type": "code",
   "execution_count": 49,
   "metadata": {},
   "outputs": [
    {
     "name": "stdout",
     "output_type": "stream",
     "text": [
      "NEU    2153\n",
      "P+     1652\n",
      "N      1335\n",
      "P      1232\n",
      "N+      847\n",
      "Name: sentiment, dtype: int64\n",
      "0.50    2153\n",
      "1.00    1652\n",
      "0.25    1335\n",
      "0.75    1232\n",
      "0.00     847\n",
      "Name: sentiment, dtype: int64\n"
     ]
    }
   ],
   "source": [
    "# TASS\n",
    "print(tass_sentiment[\"sentiment\"].value_counts())\n",
    "\n",
    "tass_sentiment_dict = {\n",
    "    \"N+\": 0,\n",
    "    \"N\": 0.25,\n",
    "    \"NEU\": 0.5,\n",
    "    \"P\": 0.75,\n",
    "    \"P+\": 1,\n",
    "}\n",
    "\n",
    "tass_sentiment[\"sentiment\"] = tass_sentiment[\"sentiment\"].replace(tass_sentiment_dict)\n",
    "\n",
    "print(tass_sentiment[\"sentiment\"].value_counts())\n",
    "\n"
   ]
  },
  {
   "cell_type": "code",
   "execution_count": 50,
   "metadata": {},
   "outputs": [
    {
     "data": {
      "text/html": [
       "<div>\n",
       "<style scoped>\n",
       "    .dataframe tbody tr th:only-of-type {\n",
       "        vertical-align: middle;\n",
       "    }\n",
       "\n",
       "    .dataframe tbody tr th {\n",
       "        vertical-align: top;\n",
       "    }\n",
       "\n",
       "    .dataframe thead th {\n",
       "        text-align: right;\n",
       "    }\n",
       "</style>\n",
       "<table border=\"1\" class=\"dataframe\">\n",
       "  <thead>\n",
       "    <tr style=\"text-align: right;\">\n",
       "      <th></th>\n",
       "      <th>tweet_id</th>\n",
       "      <th>content</th>\n",
       "      <th>sentiment</th>\n",
       "      <th>dataset</th>\n",
       "      <th>language</th>\n",
       "    </tr>\n",
       "  </thead>\n",
       "  <tbody>\n",
       "    <tr>\n",
       "      <th>2</th>\n",
       "      <td>3</td>\n",
       "      <td>La literatura nos hace más empáticos, dispuest...</td>\n",
       "      <td>1</td>\n",
       "      <td>EMOTIONS</td>\n",
       "      <td>SP</td>\n",
       "    </tr>\n",
       "    <tr>\n",
       "      <th>3</th>\n",
       "      <td>4</td>\n",
       "      <td>Para mi, estas son las 4 mejores escenas de es...</td>\n",
       "      <td>1</td>\n",
       "      <td>EMOTIONS</td>\n",
       "      <td>SP</td>\n",
       "    </tr>\n",
       "  </tbody>\n",
       "</table>\n",
       "</div>"
      ],
      "text/plain": [
       "   tweet_id                                            content  sentiment  \\\n",
       "2         3  La literatura nos hace más empáticos, dispuest...          1   \n",
       "3         4  Para mi, estas son las 4 mejores escenas de es...          1   \n",
       "\n",
       "    dataset language  \n",
       "2  EMOTIONS       SP  \n",
       "3  EMOTIONS       SP  "
      ]
     },
     "execution_count": 50,
     "metadata": {},
     "output_type": "execute_result"
    }
   ],
   "source": [
    "# EMOTIONS\n",
    "emotions_dict = {\n",
    "    \"joy \": 1,\n",
    "    \"surprise \": 1,\n",
    "    \"anger \": 0,\n",
    "    \"sadness \": 0,\n",
    "    \"disgust \": 0,\n",
    "    \"fear \": 0,\n",
    "}\n",
    "\n",
    "emotions_sentiment = emotions_sentiment.replace(emotions_dict)\n",
    "emotions_sentiment.head(2)"
   ]
  },
  {
   "cell_type": "code",
   "execution_count": 51,
   "metadata": {},
   "outputs": [],
   "source": [
    "# SPANISH AIRLINES\n",
    "sat_sentiment_dict = {\n",
    "    \"negative\": 0,\n",
    "    \"neutral\": 0.5,\n",
    "    \"positive\": 1\n",
    "}\n",
    "sat_sentiment = sat_sentiment.replace(sat_sentiment_dict)"
   ]
  },
  {
   "cell_type": "code",
   "execution_count": 52,
   "metadata": {},
   "outputs": [
    {
     "data": {
      "text/plain": [
       "0    122216\n",
       "1     55360\n",
       "Name: sentiment, dtype: int64"
      ]
     },
     "execution_count": 52,
     "metadata": {},
     "output_type": "execute_result"
    }
   ],
   "source": [
    "# EMOJI\n",
    "emoji_sentiment[\"sentiment\"].value_counts()"
   ]
  },
  {
   "cell_type": "code",
   "execution_count": 53,
   "metadata": {},
   "outputs": [
    {
     "name": "stdout",
     "output_type": "stream",
     "text": [
      "N      2844\n",
      "NEU    2323\n",
      "P      2098\n",
      "Name: sentiment, dtype: int64\n",
      "0.0    2844\n",
      "0.5    2323\n",
      "0.1    2098\n",
      "Name: sentiment, dtype: int64\n"
     ]
    }
   ],
   "source": [
    "# INTERTASS\n",
    "print(intertass_sentiment_dataset[\"sentiment\"].value_counts())\n",
    "intertass_sentiment_dict = {\n",
    "    \"N\": 0,\n",
    "    \"NEU\": 0.5,\n",
    "    \"P\": 0.1,\n",
    "}\n",
    "intertass_sentiment_dataset[\"sentiment\"] = intertass_sentiment_dataset[\"sentiment\"].replace(intertass_sentiment_dict)\n",
    "print(intertass_sentiment_dataset[\"sentiment\"].value_counts())"
   ]
  },
  {
   "cell_type": "code",
   "execution_count": 54,
   "metadata": {},
   "outputs": [
    {
     "data": {
      "text/html": [
       "<div>\n",
       "<style scoped>\n",
       "    .dataframe tbody tr th:only-of-type {\n",
       "        vertical-align: middle;\n",
       "    }\n",
       "\n",
       "    .dataframe tbody tr th {\n",
       "        vertical-align: top;\n",
       "    }\n",
       "\n",
       "    .dataframe thead th {\n",
       "        text-align: right;\n",
       "    }\n",
       "</style>\n",
       "<table border=\"1\" class=\"dataframe\">\n",
       "  <thead>\n",
       "    <tr style=\"text-align: right;\">\n",
       "      <th></th>\n",
       "      <th>content</th>\n",
       "      <th>sentiment</th>\n",
       "      <th>dataset</th>\n",
       "      <th>language</th>\n",
       "      <th>tweet_id</th>\n",
       "    </tr>\n",
       "  </thead>\n",
       "  <tbody>\n",
       "    <tr>\n",
       "      <th>149613</th>\n",
       "      <td>COMPÁRTELO SI NO TE AVERGÜENZA  ..VER MAS ►► h...</td>\n",
       "      <td>1</td>\n",
       "      <td>EMOJI</td>\n",
       "      <td>SP</td>\n",
       "      <td>149613</td>\n",
       "    </tr>\n",
       "    <tr>\n",
       "      <th>140249</th>\n",
       "      <td>Buen inicio de semana a toditos</td>\n",
       "      <td>1</td>\n",
       "      <td>EMOJI</td>\n",
       "      <td>SP</td>\n",
       "      <td>140249</td>\n",
       "    </tr>\n",
       "    <tr>\n",
       "      <th>152021</th>\n",
       "      <td>@chanihenares El \"porqué\", Chani. Un abrazo. :-</td>\n",
       "      <td>1</td>\n",
       "      <td>EMOJI</td>\n",
       "      <td>SP</td>\n",
       "      <td>152021</td>\n",
       "    </tr>\n",
       "    <tr>\n",
       "      <th>122620</th>\n",
       "      <td>(En el blog De donde eres: De Brasil  http://t...</td>\n",
       "      <td>1</td>\n",
       "      <td>EMOJI</td>\n",
       "      <td>SP</td>\n",
       "      <td>122620</td>\n",
       "    </tr>\n",
       "    <tr>\n",
       "      <th>138839</th>\n",
       "      <td>@countertr Gracias por seguirme, en breve te d...</td>\n",
       "      <td>1</td>\n",
       "      <td>EMOJI</td>\n",
       "      <td>SP</td>\n",
       "      <td>138839</td>\n",
       "    </tr>\n",
       "    <tr>\n",
       "      <th>...</th>\n",
       "      <td>...</td>\n",
       "      <td>...</td>\n",
       "      <td>...</td>\n",
       "      <td>...</td>\n",
       "      <td>...</td>\n",
       "    </tr>\n",
       "    <tr>\n",
       "      <th>126324</th>\n",
       "      <td>@Negocios_Dinero muchas gracias</td>\n",
       "      <td>1</td>\n",
       "      <td>EMOJI</td>\n",
       "      <td>SP</td>\n",
       "      <td>126324</td>\n",
       "    </tr>\n",
       "    <tr>\n",
       "      <th>168266</th>\n",
       "      <td>GSMActivo http://t.co/RxV3FO0TTB Gracias por s...</td>\n",
       "      <td>1</td>\n",
       "      <td>EMOJI</td>\n",
       "      <td>SP</td>\n",
       "      <td>168266</td>\n",
       "    </tr>\n",
       "    <tr>\n",
       "      <th>137337</th>\n",
       "      <td>Yo y mi trauma con Alemania... estoy usando @d...</td>\n",
       "      <td>1</td>\n",
       "      <td>EMOJI</td>\n",
       "      <td>SP</td>\n",
       "      <td>137337</td>\n",
       "    </tr>\n",
       "    <tr>\n",
       "      <th>131932</th>\n",
       "      <td>Domingo de Pizzas! :</td>\n",
       "      <td>1</td>\n",
       "      <td>EMOJI</td>\n",
       "      <td>SP</td>\n",
       "      <td>131932</td>\n",
       "    </tr>\n",
       "    <tr>\n",
       "      <th>146867</th>\n",
       "      <td>Hola ;</td>\n",
       "      <td>1</td>\n",
       "      <td>EMOJI</td>\n",
       "      <td>SP</td>\n",
       "      <td>146867</td>\n",
       "    </tr>\n",
       "  </tbody>\n",
       "</table>\n",
       "<p>55360 rows × 5 columns</p>\n",
       "</div>"
      ],
      "text/plain": [
       "                                                  content  sentiment dataset  \\\n",
       "149613  COMPÁRTELO SI NO TE AVERGÜENZA  ..VER MAS ►► h...          1   EMOJI   \n",
       "140249                   Buen inicio de semana a toditos           1   EMOJI   \n",
       "152021    @chanihenares El \"porqué\", Chani. Un abrazo. :-          1   EMOJI   \n",
       "122620  (En el blog De donde eres: De Brasil  http://t...          1   EMOJI   \n",
       "138839  @countertr Gracias por seguirme, en breve te d...          1   EMOJI   \n",
       "...                                                   ...        ...     ...   \n",
       "126324                   @Negocios_Dinero muchas gracias           1   EMOJI   \n",
       "168266  GSMActivo http://t.co/RxV3FO0TTB Gracias por s...          1   EMOJI   \n",
       "137337  Yo y mi trauma con Alemania... estoy usando @d...          1   EMOJI   \n",
       "131932                               Domingo de Pizzas! :          1   EMOJI   \n",
       "146867                                             Hola ;          1   EMOJI   \n",
       "\n",
       "       language  tweet_id  \n",
       "149613       SP    149613  \n",
       "140249       SP    140249  \n",
       "152021       SP    152021  \n",
       "122620       SP    122620  \n",
       "138839       SP    138839  \n",
       "...         ...       ...  \n",
       "126324       SP    126324  \n",
       "168266       SP    168266  \n",
       "137337       SP    137337  \n",
       "131932       SP    131932  \n",
       "146867       SP    146867  \n",
       "\n",
       "[55360 rows x 5 columns]"
      ]
     },
     "execution_count": 54,
     "metadata": {},
     "output_type": "execute_result"
    }
   ],
   "source": [
    "emoji_sentiment[emoji_sentiment[\"sentiment\"] == 1]"
   ]
  },
  {
   "cell_type": "markdown",
   "metadata": {},
   "source": [
    "Now lets concatenate the datasets. We will only include 55360 rows for the negative tweets in the emoji dataset, in order to account for balance. As there are only 55360 rows of positive tweets."
   ]
  },
  {
   "cell_type": "code",
   "execution_count": 55,
   "metadata": {},
   "outputs": [],
   "source": [
    "emoji_sentiment_df = pd.concat([emoji_sentiment[emoji_sentiment[\"sentiment\"] == 0].sample(n=55360, random_state=42),\n",
    "                                emoji_sentiment[emoji_sentiment[\"sentiment\"] == 1].sample(n=55360, random_state=42)],\n",
    "                                axis=0,\n",
    "                                ignore_index=True)"
   ]
  },
  {
   "cell_type": "code",
   "execution_count": 56,
   "metadata": {},
   "outputs": [
    {
     "data": {
      "text/html": [
       "<div>\n",
       "<style scoped>\n",
       "    .dataframe tbody tr th:only-of-type {\n",
       "        vertical-align: middle;\n",
       "    }\n",
       "\n",
       "    .dataframe tbody tr th {\n",
       "        vertical-align: top;\n",
       "    }\n",
       "\n",
       "    .dataframe thead th {\n",
       "        text-align: right;\n",
       "    }\n",
       "</style>\n",
       "<table border=\"1\" class=\"dataframe\">\n",
       "  <thead>\n",
       "    <tr style=\"text-align: right;\">\n",
       "      <th></th>\n",
       "      <th>tweet_id</th>\n",
       "      <th>content</th>\n",
       "      <th>sentiment</th>\n",
       "      <th>dataset</th>\n",
       "      <th>language</th>\n",
       "    </tr>\n",
       "  </thead>\n",
       "  <tbody>\n",
       "    <tr>\n",
       "      <th>0</th>\n",
       "      <td>1281189890936504320</td>\n",
       "      <td>This is a strange claim  #LFC  https://t.co/U1...</td>\n",
       "      <td>0.39885</td>\n",
       "      <td>EPL</td>\n",
       "      <td>EN</td>\n",
       "    </tr>\n",
       "    <tr>\n",
       "      <th>1</th>\n",
       "      <td>1281189827468279808</td>\n",
       "      <td>RT @TheKopiteOFF: 😱| #LFC have won 30 of their...</td>\n",
       "      <td>0.91580</td>\n",
       "      <td>EPL</td>\n",
       "      <td>EN</td>\n",
       "    </tr>\n",
       "    <tr>\n",
       "      <th>2</th>\n",
       "      <td>1281189824465174528</td>\n",
       "      <td>RT @SkySportsPL: 🔴 - #LFC secure first away wi...</td>\n",
       "      <td>0.93965</td>\n",
       "      <td>EPL</td>\n",
       "      <td>EN</td>\n",
       "    </tr>\n",
       "    <tr>\n",
       "      <th>3</th>\n",
       "      <td>1281189816890245121</td>\n",
       "      <td>Outrageous... Poor auld Martin Tyler has to ju...</td>\n",
       "      <td>0.15960</td>\n",
       "      <td>EPL</td>\n",
       "      <td>EN</td>\n",
       "    </tr>\n",
       "    <tr>\n",
       "      <th>4</th>\n",
       "      <td>1281189739618611200</td>\n",
       "      <td>RT @TheRedmenTV: ✅ Won the league ✅ Fastest te...</td>\n",
       "      <td>0.90880</td>\n",
       "      <td>EPL</td>\n",
       "      <td>EN</td>\n",
       "    </tr>\n",
       "  </tbody>\n",
       "</table>\n",
       "</div>"
      ],
      "text/plain": [
       "              tweet_id                                            content  \\\n",
       "0  1281189890936504320  This is a strange claim  #LFC  https://t.co/U1...   \n",
       "1  1281189827468279808  RT @TheKopiteOFF: 😱| #LFC have won 30 of their...   \n",
       "2  1281189824465174528  RT @SkySportsPL: 🔴 - #LFC secure first away wi...   \n",
       "3  1281189816890245121  Outrageous... Poor auld Martin Tyler has to ju...   \n",
       "4  1281189739618611200  RT @TheRedmenTV: ✅ Won the league ✅ Fastest te...   \n",
       "\n",
       "   sentiment dataset language  \n",
       "0    0.39885     EPL       EN  \n",
       "1    0.91580     EPL       EN  \n",
       "2    0.93965     EPL       EN  \n",
       "3    0.15960     EPL       EN  \n",
       "4    0.90880     EPL       EN  "
      ]
     },
     "execution_count": 56,
     "metadata": {},
     "output_type": "execute_result"
    }
   ],
   "source": [
    "df_sentiment = pd.concat([epl_sentiment_dataset,\n",
    "                            s140_sentiment_dataset,\n",
    "                            tass_sentiment,\n",
    "                            emotions_sentiment,\n",
    "                            sat_sentiment,\n",
    "                            emoji_sentiment_df,\n",
    "                            intertass_sentiment_dataset\n",
    "                        ], axis = 0, ignore_index=True)\n",
    "\n",
    "df_sentiment.head()"
   ]
  },
  {
   "cell_type": "code",
   "execution_count": 57,
   "metadata": {},
   "outputs": [
    {
     "data": {
      "text/plain": [
       "EN    2497896\n",
       "SP     133507\n",
       "Name: language, dtype: int64"
      ]
     },
     "execution_count": 57,
     "metadata": {},
     "output_type": "execute_result"
    }
   ],
   "source": [
    "df_sentiment[\"language\"].value_counts()"
   ]
  },
  {
   "cell_type": "markdown",
   "metadata": {},
   "source": [
    "There is a heavy imbalance regarding language. There are more than 10x english tweets than spanish tweets. We should evaluate sampling methods to reduce this imbalance."
   ]
  },
  {
   "cell_type": "code",
   "execution_count": 58,
   "metadata": {},
   "outputs": [
    {
     "data": {
      "text/plain": [
       "S140        1596630\n",
       "EPL          901266\n",
       "EMOJI        110720\n",
       "SAT           15132\n",
       "TASS           7219\n",
       "EMOTIONS        436\n",
       "Name: dataset, dtype: int64"
      ]
     },
     "execution_count": 58,
     "metadata": {},
     "output_type": "execute_result"
    }
   ],
   "source": [
    "df_sentiment[\"dataset\"].value_counts()"
   ]
  },
  {
   "cell_type": "code",
   "execution_count": 59,
   "metadata": {},
   "outputs": [
    {
     "data": {
      "image/png": "[encoded data removed]",
      "text/plain": [
       "<Figure size 600x400 with 1 Axes>"
      ]
     },
     "metadata": {},
     "output_type": "display_data"
    }
   ],
   "source": [
    "fig, ax = plt.subplots(figsize=(6,4))\n",
    "df_sentiment[\"sentiment\"].plot(kind=\"hist\",\n",
    "                                   ax=ax)\n",
    "\n",
    "ax.set(title=\"Polarity distribution\",\n",
    "       xlabel=\"Polarity\",\n",
    "       ylabel=\"Frequency\");"
   ]
  },
  {
   "cell_type": "code",
   "execution_count": 60,
   "metadata": {},
   "outputs": [
    {
     "data": {
      "image/png": "[encoded data removed]",
      "text/plain": [
       "<Figure size 600x400 with 1 Axes>"
      ]
     },
     "metadata": {},
     "output_type": "display_data"
    }
   ],
   "source": [
    "fig, ax = plt.subplots(figsize=(6,4))\n",
    "df_sentiment[df_sentiment[\"language\"] == \"EN\"][\"sentiment\"].plot(kind=\"hist\",\n",
    "                                   ax=ax)\n",
    "\n",
    "ax.set(title=\"Polarity distribution - ENGLISH\",\n",
    "       xlabel=\"Polarity\",\n",
    "       ylabel=\"Frequency\");"
   ]
  },
  {
   "cell_type": "code",
   "execution_count": 61,
   "metadata": {},
   "outputs": [
    {
     "data": {
      "image/png": "[encoded data removed]",
      "text/plain": [
       "<Figure size 600x400 with 1 Axes>"
      ]
     },
     "metadata": {},
     "output_type": "display_data"
    }
   ],
   "source": [
    "fig, ax = plt.subplots(figsize=(6,4))\n",
    "df_sentiment[df_sentiment[\"language\"] == \"SP\"][\"sentiment\"].plot(kind=\"hist\",\n",
    "                                   ax=ax)\n",
    "\n",
    "ax.set(title=\"Polarity distribution - SPANISH\",\n",
    "       xlabel=\"Polarity\",\n",
    "       ylabel=\"Frequency\");"
   ]
  },
  {
   "cell_type": "markdown",
   "metadata": {},
   "source": [
    "## Cleaning"
   ]
  },
  {
   "cell_type": "markdown",
   "metadata": {},
   "source": [
    "We need to remove links, numbers, special characters, hashtags, and mentions from the content of the tweets. Accents will also be removed. We need to evaluate the posibility of removing emojis as well."
   ]
  },
  {
   "cell_type": "code",
   "execution_count": 62,
   "metadata": {},
   "outputs": [],
   "source": [
    "def remove_emoji(data):\n",
    "    emoj = re.compile(\"[\"\n",
    "        u\"\\U0001F600-\\U0001F64F\"  # emoticons\n",
    "        u\"\\U0001F300-\\U0001F5FF\"  # symbols & pictographs\n",
    "        u\"\\U0001F680-\\U0001F6FF\"  # transport & map symbols\n",
    "        u\"\\U0001F1E0-\\U0001F1FF\"  # flags (iOS)\n",
    "        u\"\\U00002500-\\U00002BEF\"  # chinese char\n",
    "        u\"\\U00002702-\\U000027B0\"\n",
    "        u\"\\U00002702-\\U000027B0\"\n",
    "        u\"\\U000024C2-\\U0001F251\"\n",
    "        u\"\\U0001f926-\\U0001f937\"\n",
    "        u\"\\U00010000-\\U0010ffff\"\n",
    "        u\"\\u2640-\\u2642\" \n",
    "        u\"\\u2600-\\u2B55\"\n",
    "        u\"\\u200d\"\n",
    "        u\"\\u23cf\"\n",
    "        u\"\\u23e9\"\n",
    "        u\"\\u231a\"\n",
    "        u\"\\ufe0f\"  # dingbats\n",
    "        u\"\\u3030\"\n",
    "                      \"]+\", re.UNICODE)\n",
    "    return re.sub(emoj, '', data)\n",
    "\n",
    "def clean_text(text):\n",
    "    #Remove emojis\n",
    "    text_no_emojis = remove_emoji(text).replace(\"  \", \" \")\n",
    "    words = text_no_emojis.lower().split(\" \")\n",
    "    #Remove mentions, hashtags and links \n",
    "    words_nm = [word for word in words if (\"@\" not in word) and (\"#\" not in word) and (\"http\" not in word) and (\"www\" not in word)]\n",
    "    #Remove accents\n",
    "    words_nm = [unidecode.unidecode(word) for word in words_nm]\n",
    "\n",
    "    #Remove special characters\n",
    "    words_nm = [re.sub('[^A-Za-z0-9]+', '*', word) for word in words_nm]\n",
    "    words_nm = [word for word in words_nm if \"*\" not in word]\n",
    "    return \" \".join(words_nm)"
   ]
  },
  {
   "cell_type": "code",
   "execution_count": 63,
   "metadata": {},
   "outputs": [],
   "source": [
    "df_sentiment_cleaned = df_sentiment.copy()\n",
    "df_sentiment_cleaned[\"content\"] = df_sentiment_cleaned[\"content\"].apply(lambda x: str(x)).apply(lambda x: clean_text(x))"
   ]
  },
  {
   "cell_type": "code",
   "execution_count": 82,
   "metadata": {},
   "outputs": [
    {
     "name": "stdout",
     "output_type": "stream",
     "text": [
      "2631403\n",
      "2612264\n"
     ]
    }
   ],
   "source": [
    "# Drop empty tweets\n",
    "print(len(df_sentiment_cleaned))\n",
    "df_sentiment_cleaned = df_sentiment_cleaned.drop(df_sentiment_cleaned[df_sentiment_cleaned[\"content\"] == \"\"].index, axis=0)\n",
    "print(len(df_sentiment_cleaned))"
   ]
  },
  {
   "cell_type": "code",
   "execution_count": 83,
   "metadata": {},
   "outputs": [],
   "source": [
    "df_sentiment_cleaned[\"tweet_id\"] = df_sentiment_cleaned.index\n",
    "df_sentiment_cleaned = df_sentiment_cleaned.sample(frac=1, random_state=42)"
   ]
  },
  {
   "cell_type": "code",
   "execution_count": 84,
   "metadata": {},
   "outputs": [],
   "source": [
    "df_sentiment_cleaned.to_csv(\"C:\\\\Users\\\\DANIEL\\\\Desktop\\\\ITSENSE\\\\Vertikal\\\\Datasets\\\\Social\\\\Processed\\\\sentiment_data_cleaned_no_stem.csv\", index=False)"
   ]
  },
  {
   "cell_type": "markdown",
   "metadata": {},
   "source": [
    "Try stemming (?)"
   ]
  },
  {
   "cell_type": "code",
   "execution_count": 157,
   "metadata": {},
   "outputs": [
    {
     "name": "stdout",
     "output_type": "stream",
     "text": [
      "wait\n",
      "wait\n",
      "wait\n",
      "wait\n"
     ]
    }
   ],
   "source": [
    "from nltk.stem import PorterStemmer\n",
    "e_words= [\"wait\", \"waiting\", \"waited\", \"waits\"]\n",
    "ps =PorterStemmer()\n",
    "for w in e_words:\n",
    "    rootWord=ps.stem(w)\n",
    "    print(rootWord)"
   ]
  }
 ],
 "metadata": {
  "kernelspec": {
   "display_name": "Python 3.10.5 ('vertikal': venv)",
   "language": "python",
   "name": "python3"
  },
  "language_info": {
   "codemirror_mode": {
    "name": "ipython",
    "version": 3
   },
   "file_extension": ".py",
   "mimetype": "text/x-python",
   "name": "python",
   "nbconvert_exporter": "python",
   "pygments_lexer": "ipython3",
   "version": "3.10.5"
  },
  "orig_nbformat": 4,
  "vscode": {
   "interpreter": {
    "hash": "70258f4837e3f46022aa0137b5be3a4e9270dc89d52dc988758cb74f0ce7bbb8"
   }
  }
 },
 "nbformat": 4,
 "nbformat_minor": 2
}
